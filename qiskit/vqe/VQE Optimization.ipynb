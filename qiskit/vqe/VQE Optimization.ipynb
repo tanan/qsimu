{
 "cells": [
  {
   "cell_type": "code",
   "execution_count": 2,
   "id": "6dfc6087",
   "metadata": {},
   "outputs": [
    {
     "name": "stdout",
     "output_type": "stream",
     "text": [
      "{   'aux_operator_eigenvalues': None,\n",
      "    'cost_function_evals': 65,\n",
      "    'eigenstate': array([ 9.55277630e-05+1.20831580e-16j, -9.93766274e-01-6.20946313e-16j,\n",
      "        1.11483552e-01+1.56591182e-16j,  1.77205662e-05+5.15495149e-17j]),\n",
      "    'eigenvalue': (-1.8572750175622592+0j),\n",
      "    'optimal_parameters': {   ParameterVectorElement(θ[5]): 1.568325899115838,\n",
      "                              ParameterVectorElement(θ[1]): 4.426962247694158,\n",
      "                              ParameterVectorElement(θ[2]): 0.5470754456894421,\n",
      "                              ParameterVectorElement(θ[4]): -2.598325679789499,\n",
      "                              ParameterVectorElement(θ[6]): -4.717618329836427,\n",
      "                              ParameterVectorElement(θ[0]): 4.296520325508546,\n",
      "                              ParameterVectorElement(θ[7]): 0.3602072545900678,\n",
      "                              ParameterVectorElement(θ[3]): 6.092947739750155},\n",
      "    'optimal_point': array([ 4.29652033,  4.42696225,  0.54707545,  6.09294774, -2.59832568,\n",
      "        1.5683259 , -4.71761833,  0.36020725]),\n",
      "    'optimal_value': -1.8572750175622592,\n",
      "    'optimizer_evals': None,\n",
      "    'optimizer_time': 0.09537529945373535}\n"
     ]
    }
   ],
   "source": [
    "import numpy as np\n",
    "from qiskit import BasicAer\n",
    "from qiskit.algorithms import VQE\n",
    "from qiskit.algorithms.optimizers import SLSQP\n",
    "from qiskit.circuit.library import TwoLocal\n",
    "from qiskit.utils import QuantumInstance\n",
    "\n",
    "from qiskit.opflow import X, Z, I\n",
    "H2_op = (-1.052373245772859 * I ^ I) + \\\n",
    "        (0.39793742484318045 * I ^ Z) + \\\n",
    "        (-0.39793742484318045 * Z ^ I) + \\\n",
    "        (-0.01128010425623538 * Z ^ Z) + \\\n",
    "        (0.18093119978423156 * X ^ X)\n",
    "\n",
    "counts = []\n",
    "values = []\n",
    "def store_intermediate_result(eval_count, parameters, mean, std):\n",
    "    counts.append(eval_count)\n",
    "    values.append(mean)\n",
    "\n",
    "from qiskit.utils import algorithm_globals\n",
    "seed = 50\n",
    "algorithm_globals.random_seed = seed\n",
    "ql = QuantumInstance(BasicAer.get_backend('statevector_simulator'), seed_transpiler=seed, seed_simulator=seed)\n",
    "\n",
    "ansatz = TwoLocal(rotation_blocks='ry', entanglement_blocks='cz')\n",
    "opt = SLSQP(maxiter=10000)\n",
    "vqe = VQE(ansatz=ansatz, optimizer=opt, quantum_instance=ql, callback=store_intermediate_result)\n",
    "result = vqe.compute_minimum_eigenvalue(H2_op)\n",
    "\n",
    "print(result)"
   ]
  },
  {
   "cell_type": "code",
   "execution_count": 7,
   "id": "b9a02f8e",
   "metadata": {},
   "outputs": [
    {
     "data": {
      "text/plain": [
       "<matplotlib.legend.Legend at 0x7fdd51466af0>"
      ]
     },
     "execution_count": 7,
     "metadata": {},
     "output_type": "execute_result"
    },
    {
     "data": {
      "image/png": "[encoded data removed]",
      "text/plain": [
       "<Figure size 864x576 with 1 Axes>"
      ]
     },
     "metadata": {
      "needs_background": "light"
     },
     "output_type": "display_data"
    }
   ],
   "source": [
    "import pylab as pl\n",
    "pl.rcParams['figure.figsize'] = (12, 8)\n",
    "pl.plot(counts, values, label='SLSQP')\n",
    "pl.xlabel('Eval count')\n",
    "pl.ylabel('Energy')\n",
    "pl.title('Energy convergence for values optimizers')\n",
    "pl.legend(loc='upper right')\n"
   ]
  },
  {
   "cell_type": "code",
   "execution_count": 52,
   "id": "ab0d07eb",
   "metadata": {},
   "outputs": [],
   "source": [
    "from scipy.linalg import expm\n",
    "import numpy.linalg as LA\n",
    "from qiskit.quantum_info.operators import Operator, Pauli\n",
    "from qiskit.opflow import X, Y, Z, I\n",
    "def create_hamiltonian(Nq, cn, gamma, Bn):\n",
    "    \n",
    "    hamiX = 0.5*cn[0]*(1+gamma)*(X ^ X ^ I ^ I ^ I)\n",
    "    hamiX = hamiX + 0.5*cn[1]*(1+gamma)*(I ^ X ^ X ^ I ^ I)\n",
    "    hamiX = hamiX + 0.5*cn[2]*(1+gamma)*(I ^ I ^ X ^ X ^ I)\n",
    "    hamiX = hamiX + 0.5*cn[3]*(1+gamma)*(I ^ I ^ I ^ X ^ X)\n",
    "    hamiY = 0.5*cn[0]*(1-gamma)*(Y ^ Y ^ I ^ I ^ I)\n",
    "    hamiY = hamiX + 0.5*cn[1]*(1-gamma)*(I ^ Y ^ Y ^ I ^ I)\n",
    "    hamiY = hamiX + 0.5*cn[2]*(1-gamma)*(I ^ I ^ Y ^ Y ^ I)\n",
    "    hamiY = hamiX + 0.5*cn[3]*(1-gamma)*(I ^ I ^ I ^ Y ^ Y)\n",
    "    hamiZ = Bn[0]*(Z ^ I ^ I ^ I ^ I)\n",
    "    hamiZ = hamiZ + Bn[1]*(I ^ Z ^ I ^ I ^ I)\n",
    "    hamiZ = hamiZ + Bn[2]*(I ^ I ^ Z ^ I ^ I)\n",
    "    hamiZ = hamiZ + Bn[3]*(I ^ I ^ I ^ Z ^ I)\n",
    "    hamiZ = hamiZ + Bn[4]*(I ^ I ^ I ^ I ^ Z)\n",
    "    \n",
    "    return hamiX + hamiY + hamiZ\n",
    "\n",
    "def create_hamiltonian2(Nq, cn, gamma, Bn):\n",
    "    '''\n",
    "    create Hamiltonian gate\n",
    "    target Hamiltonian is H=1/2*cn((1+gamma)XX+(1-gamma)YY)+BnZn\n",
    "    Nq -> number of qubit\n",
    "    cn -> coupling constant\n",
    "    gamma -> parameter\n",
    "    Bn -> Magnetic field\n",
    "    '''\n",
    "    \n",
    "    XX= np.array(np.zeros(2**Nq))\n",
    "    YY= np.array(np.zeros(2**Nq))\n",
    "    Zn= np.array(np.zeros(2**Nq))\n",
    "    Identity = 'I' * Nq\n",
    "    hamiltonian = np.array(np.zeros(2**Nq))\n",
    "    \n",
    "    for k in range(0, Nq):\n",
    "        '''\n",
    "        隣あうqubitのみ相互作用するようなモデルを考える\n",
    "        0 1 2 ... k-1 X X k+2 ... N-1\n",
    "        0 1 2 ... k-1 Y Y k+2 ... N-1\n",
    "        '''\n",
    "        \n",
    "        # 端まで計算したらスキップ\n",
    "        if k == Nq-1:\n",
    "            continue\n",
    "\n",
    "        hamiX = Pauli(Identity[:k] + 'XX' + Identity[k+2:])\n",
    "        hamiY = Pauli(Identity[:k] + 'YY' + Identity[k+2:])\n",
    "\n",
    "        XX = XX + 0.5*cn[k]*(1+gamma)*hamiX.to_matrix()\n",
    "        YY = YY + 0.5*cn[k]*(1-gamma)*hamiY.to_matrix()\n",
    "\n",
    "    for k in range(0, Nq):\n",
    "        hamiZ = Pauli(Identity[:k] + 'Z' + Identity[k+1:])\n",
    "        Zn = Zn + Bn[k] * hamiZ.to_matrix()\n",
    "    \n",
    "    return XX + YY + Zn\n",
    "\n",
    "from qiskit import QuantumCircuit\n",
    "from qiskit.circuit import Parameter\n",
    "from math import pi\n",
    "def create_ansatz(q,cn,r,bn):\n",
    "    theta = Parameter('θ')\n",
    "    time = Parameter('t')\n",
    "    qc = QuantumCircuit(q)\n",
    "    qc.cx(0, 1)\n",
    "    qc.rx(theta,[0,1])\n",
    "    qc.ry(theta,[0,1])\n",
    "    hami = expm(-1j*create_hamiltonian2(q,cn,r,bn)*time)\n",
    "    qc.append(Operator(hami),list(range(q)))\n",
    "    return qc\n"
   ]
  },
  {
   "cell_type": "code",
   "execution_count": 53,
   "id": "a98daf1b",
   "metadata": {},
   "outputs": [
    {
     "ename": "TypeError",
     "evalue": "ParameterExpression with unbound parameters ({Parameter(t)}) cannot be cast to a float.",
     "output_type": "error",
     "traceback": [
      "\u001b[0;31m---------------------------------------------------------------------------\u001b[0m",
      "\u001b[0;31mRuntimeError\u001b[0m                              Traceback (most recent call last)",
      "\u001b[0;32m~/.pyenv/versions/anaconda3-2021.05/lib/python3.8/site-packages/qiskit/circuit/parameterexpression.py\u001b[0m in \u001b[0;36m__float__\u001b[0;34m(self)\u001b[0m\n\u001b[1;32m    443\u001b[0m         \u001b[0;32mtry\u001b[0m\u001b[0;34m:\u001b[0m\u001b[0;34m\u001b[0m\u001b[0;34m\u001b[0m\u001b[0m\n\u001b[0;32m--> 444\u001b[0;31m             \u001b[0;32mreturn\u001b[0m \u001b[0mfloat\u001b[0m\u001b[0;34m(\u001b[0m\u001b[0mself\u001b[0m\u001b[0;34m.\u001b[0m\u001b[0m_symbol_expr\u001b[0m\u001b[0;34m)\u001b[0m\u001b[0;34m\u001b[0m\u001b[0;34m\u001b[0m\u001b[0m\n\u001b[0m\u001b[1;32m    445\u001b[0m         \u001b[0;31m# TypeError is for sympy, RuntimeError for symengine\u001b[0m\u001b[0;34m\u001b[0m\u001b[0;34m\u001b[0m\u001b[0;34m\u001b[0m\u001b[0m\n",
      "\u001b[0;32msymengine_wrapper.pyx\u001b[0m in \u001b[0;36msymengine.lib.symengine_wrapper.Basic.__float__\u001b[0;34m()\u001b[0m\n",
      "\u001b[0;32msymengine_wrapper.pyx\u001b[0m in \u001b[0;36msymengine.lib.symengine_wrapper.Basic.n\u001b[0;34m()\u001b[0m\n",
      "\u001b[0;32msymengine_wrapper.pyx\u001b[0m in \u001b[0;36msymengine.lib.symengine_wrapper.evalf\u001b[0;34m()\u001b[0m\n",
      "\u001b[0;31mRuntimeError\u001b[0m: Not Implemented",
      "\nThe above exception was the direct cause of the following exception:\n",
      "\u001b[0;31mTypeError\u001b[0m                                 Traceback (most recent call last)",
      "\u001b[0;32m<ipython-input-53-561deee1b40e>\u001b[0m in \u001b[0;36m<module>\u001b[0;34m\u001b[0m\n\u001b[1;32m     22\u001b[0m \u001b[0mql\u001b[0m \u001b[0;34m=\u001b[0m \u001b[0mQuantumInstance\u001b[0m\u001b[0;34m(\u001b[0m\u001b[0mBasicAer\u001b[0m\u001b[0;34m.\u001b[0m\u001b[0mget_backend\u001b[0m\u001b[0;34m(\u001b[0m\u001b[0;34m'statevector_simulator'\u001b[0m\u001b[0;34m)\u001b[0m\u001b[0;34m,\u001b[0m \u001b[0mseed_transpiler\u001b[0m\u001b[0;34m=\u001b[0m\u001b[0mseed\u001b[0m\u001b[0;34m,\u001b[0m \u001b[0mseed_simulator\u001b[0m\u001b[0;34m=\u001b[0m\u001b[0mseed\u001b[0m\u001b[0;34m)\u001b[0m\u001b[0;34m\u001b[0m\u001b[0;34m\u001b[0m\u001b[0m\n\u001b[1;32m     23\u001b[0m \u001b[0;34m\u001b[0m\u001b[0m\n\u001b[0;32m---> 24\u001b[0;31m \u001b[0mansatz\u001b[0m \u001b[0;34m=\u001b[0m \u001b[0mcreate_ansatz\u001b[0m\u001b[0;34m(\u001b[0m\u001b[0mqubit\u001b[0m\u001b[0;34m,\u001b[0m \u001b[0mcn\u001b[0m\u001b[0;34m,\u001b[0m \u001b[0mr\u001b[0m\u001b[0;34m,\u001b[0m \u001b[0mbn\u001b[0m\u001b[0;34m)\u001b[0m\u001b[0;34m\u001b[0m\u001b[0;34m\u001b[0m\u001b[0m\n\u001b[0m\u001b[1;32m     25\u001b[0m \u001b[0mopt\u001b[0m \u001b[0;34m=\u001b[0m \u001b[0mSLSQP\u001b[0m\u001b[0;34m(\u001b[0m\u001b[0mmaxiter\u001b[0m\u001b[0;34m=\u001b[0m\u001b[0;36m10000\u001b[0m\u001b[0;34m)\u001b[0m\u001b[0;34m\u001b[0m\u001b[0;34m\u001b[0m\u001b[0m\n\u001b[1;32m     26\u001b[0m \u001b[0mvqe\u001b[0m \u001b[0;34m=\u001b[0m \u001b[0mVQE\u001b[0m\u001b[0;34m(\u001b[0m\u001b[0mansatz\u001b[0m\u001b[0;34m=\u001b[0m\u001b[0mansatz\u001b[0m\u001b[0;34m,\u001b[0m \u001b[0moptimizer\u001b[0m\u001b[0;34m=\u001b[0m\u001b[0mopt\u001b[0m\u001b[0;34m,\u001b[0m \u001b[0mquantum_instance\u001b[0m\u001b[0;34m=\u001b[0m\u001b[0mql\u001b[0m\u001b[0;34m,\u001b[0m \u001b[0mcallback\u001b[0m\u001b[0;34m=\u001b[0m\u001b[0mstore_intermediate_result\u001b[0m\u001b[0;34m)\u001b[0m\u001b[0;34m\u001b[0m\u001b[0;34m\u001b[0m\u001b[0m\n",
      "\u001b[0;32m<ipython-input-52-7fedb5e9ef54>\u001b[0m in \u001b[0;36mcreate_ansatz\u001b[0;34m(q, cn, r, bn)\u001b[0m\n\u001b[1;32m     70\u001b[0m     \u001b[0mqc\u001b[0m\u001b[0;34m.\u001b[0m\u001b[0mrx\u001b[0m\u001b[0;34m(\u001b[0m\u001b[0mtheta\u001b[0m\u001b[0;34m,\u001b[0m\u001b[0;34m[\u001b[0m\u001b[0;36m0\u001b[0m\u001b[0;34m,\u001b[0m\u001b[0;36m1\u001b[0m\u001b[0;34m]\u001b[0m\u001b[0;34m)\u001b[0m\u001b[0;34m\u001b[0m\u001b[0;34m\u001b[0m\u001b[0m\n\u001b[1;32m     71\u001b[0m     \u001b[0mqc\u001b[0m\u001b[0;34m.\u001b[0m\u001b[0mry\u001b[0m\u001b[0;34m(\u001b[0m\u001b[0mtheta\u001b[0m\u001b[0;34m,\u001b[0m\u001b[0;34m[\u001b[0m\u001b[0;36m0\u001b[0m\u001b[0;34m,\u001b[0m\u001b[0;36m1\u001b[0m\u001b[0;34m]\u001b[0m\u001b[0;34m)\u001b[0m\u001b[0;34m\u001b[0m\u001b[0;34m\u001b[0m\u001b[0m\n\u001b[0;32m---> 72\u001b[0;31m     \u001b[0mhami\u001b[0m \u001b[0;34m=\u001b[0m \u001b[0mexpm\u001b[0m\u001b[0;34m(\u001b[0m\u001b[0;34m-\u001b[0m\u001b[0;36m1j\u001b[0m\u001b[0;34m*\u001b[0m\u001b[0mcreate_hamiltonian2\u001b[0m\u001b[0;34m(\u001b[0m\u001b[0mq\u001b[0m\u001b[0;34m,\u001b[0m\u001b[0mcn\u001b[0m\u001b[0;34m,\u001b[0m\u001b[0mr\u001b[0m\u001b[0;34m,\u001b[0m\u001b[0mbn\u001b[0m\u001b[0;34m)\u001b[0m\u001b[0;34m*\u001b[0m\u001b[0mtime\u001b[0m\u001b[0;34m)\u001b[0m\u001b[0;34m\u001b[0m\u001b[0;34m\u001b[0m\u001b[0m\n\u001b[0m\u001b[1;32m     73\u001b[0m     \u001b[0mqc\u001b[0m\u001b[0;34m.\u001b[0m\u001b[0mappend\u001b[0m\u001b[0;34m(\u001b[0m\u001b[0mOperator\u001b[0m\u001b[0;34m(\u001b[0m\u001b[0mhami\u001b[0m\u001b[0;34m)\u001b[0m\u001b[0;34m,\u001b[0m\u001b[0mlist\u001b[0m\u001b[0;34m(\u001b[0m\u001b[0mrange\u001b[0m\u001b[0;34m(\u001b[0m\u001b[0mq\u001b[0m\u001b[0;34m)\u001b[0m\u001b[0;34m)\u001b[0m\u001b[0;34m)\u001b[0m\u001b[0;34m\u001b[0m\u001b[0;34m\u001b[0m\u001b[0m\n\u001b[1;32m     74\u001b[0m     \u001b[0;32mreturn\u001b[0m \u001b[0mqc\u001b[0m\u001b[0;34m\u001b[0m\u001b[0;34m\u001b[0m\u001b[0m\n",
      "\u001b[0;32m~/.pyenv/versions/anaconda3-2021.05/lib/python3.8/site-packages/scipy/linalg/matfuncs.py\u001b[0m in \u001b[0;36mexpm\u001b[0;34m(A)\u001b[0m\n\u001b[1;32m    253\u001b[0m     \u001b[0;31m# Input checking and conversion is provided by sparse.linalg.expm().\u001b[0m\u001b[0;34m\u001b[0m\u001b[0;34m\u001b[0m\u001b[0;34m\u001b[0m\u001b[0m\n\u001b[1;32m    254\u001b[0m     \u001b[0;32mimport\u001b[0m \u001b[0mscipy\u001b[0m\u001b[0;34m.\u001b[0m\u001b[0msparse\u001b[0m\u001b[0;34m.\u001b[0m\u001b[0mlinalg\u001b[0m\u001b[0;34m\u001b[0m\u001b[0;34m\u001b[0m\u001b[0m\n\u001b[0;32m--> 255\u001b[0;31m     \u001b[0;32mreturn\u001b[0m \u001b[0mscipy\u001b[0m\u001b[0;34m.\u001b[0m\u001b[0msparse\u001b[0m\u001b[0;34m.\u001b[0m\u001b[0mlinalg\u001b[0m\u001b[0;34m.\u001b[0m\u001b[0mexpm\u001b[0m\u001b[0;34m(\u001b[0m\u001b[0mA\u001b[0m\u001b[0;34m)\u001b[0m\u001b[0;34m\u001b[0m\u001b[0;34m\u001b[0m\u001b[0m\n\u001b[0m\u001b[1;32m    256\u001b[0m \u001b[0;34m\u001b[0m\u001b[0m\n\u001b[1;32m    257\u001b[0m \u001b[0;34m\u001b[0m\u001b[0m\n",
      "\u001b[0;32m~/.pyenv/versions/anaconda3-2021.05/lib/python3.8/site-packages/scipy/sparse/linalg/matfuncs.py\u001b[0m in \u001b[0;36mexpm\u001b[0;34m(A)\u001b[0m\n\u001b[1;32m    589\u001b[0m             [  0.        ,   0.        ,  20.08553692]])\n\u001b[1;32m    590\u001b[0m     \"\"\"\n\u001b[0;32m--> 591\u001b[0;31m     \u001b[0;32mreturn\u001b[0m \u001b[0m_expm\u001b[0m\u001b[0;34m(\u001b[0m\u001b[0mA\u001b[0m\u001b[0;34m,\u001b[0m \u001b[0muse_exact_onenorm\u001b[0m\u001b[0;34m=\u001b[0m\u001b[0;34m'auto'\u001b[0m\u001b[0;34m)\u001b[0m\u001b[0;34m\u001b[0m\u001b[0;34m\u001b[0m\u001b[0m\n\u001b[0m\u001b[1;32m    592\u001b[0m \u001b[0;34m\u001b[0m\u001b[0m\n\u001b[1;32m    593\u001b[0m \u001b[0;34m\u001b[0m\u001b[0m\n",
      "\u001b[0;32m~/.pyenv/versions/anaconda3-2021.05/lib/python3.8/site-packages/scipy/sparse/linalg/matfuncs.py\u001b[0m in \u001b[0;36m_expm\u001b[0;34m(A, use_exact_onenorm)\u001b[0m\n\u001b[1;32m    624\u001b[0m     if ((isinstance(A, np.ndarray) or isspmatrix(A) or is_pydata_spmatrix(A))\n\u001b[1;32m    625\u001b[0m             and not np.issubdtype(A.dtype, np.inexact)):\n\u001b[0;32m--> 626\u001b[0;31m         \u001b[0mA\u001b[0m \u001b[0;34m=\u001b[0m \u001b[0mA\u001b[0m\u001b[0;34m.\u001b[0m\u001b[0mastype\u001b[0m\u001b[0;34m(\u001b[0m\u001b[0mfloat\u001b[0m\u001b[0;34m)\u001b[0m\u001b[0;34m\u001b[0m\u001b[0;34m\u001b[0m\u001b[0m\n\u001b[0m\u001b[1;32m    627\u001b[0m \u001b[0;34m\u001b[0m\u001b[0m\n\u001b[1;32m    628\u001b[0m     \u001b[0;31m# Detect upper triangularity.\u001b[0m\u001b[0;34m\u001b[0m\u001b[0;34m\u001b[0m\u001b[0;34m\u001b[0m\u001b[0m\n",
      "\u001b[0;32m~/.pyenv/versions/anaconda3-2021.05/lib/python3.8/site-packages/qiskit/circuit/parameterexpression.py\u001b[0m in \u001b[0;36m__float__\u001b[0;34m(self)\u001b[0m\n\u001b[1;32m    445\u001b[0m         \u001b[0;31m# TypeError is for sympy, RuntimeError for symengine\u001b[0m\u001b[0;34m\u001b[0m\u001b[0;34m\u001b[0m\u001b[0;34m\u001b[0m\u001b[0m\n\u001b[1;32m    446\u001b[0m         \u001b[0;32mexcept\u001b[0m \u001b[0;34m(\u001b[0m\u001b[0mTypeError\u001b[0m\u001b[0;34m,\u001b[0m \u001b[0mRuntimeError\u001b[0m\u001b[0;34m)\u001b[0m \u001b[0;32mas\u001b[0m \u001b[0mexc\u001b[0m\u001b[0;34m:\u001b[0m\u001b[0;34m\u001b[0m\u001b[0;34m\u001b[0m\u001b[0m\n\u001b[0;32m--> 447\u001b[0;31m             raise TypeError(\n\u001b[0m\u001b[1;32m    448\u001b[0m                 \u001b[0;34m\"ParameterExpression with unbound parameters ({}) \"\u001b[0m\u001b[0;34m\u001b[0m\u001b[0;34m\u001b[0m\u001b[0m\n\u001b[1;32m    449\u001b[0m                 \u001b[0;34m\"cannot be cast to a float.\"\u001b[0m\u001b[0;34m.\u001b[0m\u001b[0mformat\u001b[0m\u001b[0;34m(\u001b[0m\u001b[0mself\u001b[0m\u001b[0;34m.\u001b[0m\u001b[0mparameters\u001b[0m\u001b[0;34m)\u001b[0m\u001b[0;34m\u001b[0m\u001b[0;34m\u001b[0m\u001b[0m\n",
      "\u001b[0;31mTypeError\u001b[0m: ParameterExpression with unbound parameters ({Parameter(t)}) cannot be cast to a float."
     ]
    }
   ],
   "source": [
    "import numpy as np\n",
    "from qiskit import BasicAer\n",
    "from qiskit.algorithms import VQE\n",
    "from qiskit.algorithms.optimizers import SLSQP\n",
    "from qiskit.circuit.library import TwoLocal\n",
    "from qiskit.utils import QuantumInstance\n",
    "\n",
    "qubit = 5\n",
    "cn = [1] * qubit\n",
    "r = 0\n",
    "bn = [0] * qubit\n",
    "\n",
    "counts = []\n",
    "values = []\n",
    "def store_intermediate_result(eval_count, parameters, mean, std):\n",
    "    counts.append(eval_count)\n",
    "    values.append(mean)\n",
    "\n",
    "from qiskit.utils import algorithm_globals\n",
    "seed = 50\n",
    "algorithm_globals.random_seed = seed\n",
    "ql = QuantumInstance(BasicAer.get_backend('statevector_simulator'), seed_transpiler=seed, seed_simulator=seed)\n",
    "\n",
    "ansatz = create_ansatz(qubit, cn, r, bn)\n",
    "opt = SLSQP(maxiter=10000)\n",
    "vqe = VQE(ansatz=ansatz, optimizer=opt, quantum_instance=ql, callback=store_intermediate_result)\n",
    "result = vqe.compute_minimum_eigenvalue(create_hamiltonian(qubit, cn, r, bn))\n",
    "print(result)"
   ]
  },
  {
   "cell_type": "code",
   "execution_count": 28,
   "id": "d4fcf83f",
   "metadata": {},
   "outputs": [
    {
     "data": {
      "text/plain": [
       "<matplotlib.legend.Legend at 0x7fbd998ad160>"
      ]
     },
     "execution_count": 28,
     "metadata": {},
     "output_type": "execute_result"
    },
    {
     "data": {
      "image/png": "[encoded data removed]",
      "text/plain": [
       "<Figure size 864x576 with 1 Axes>"
      ]
     },
     "metadata": {
      "needs_background": "light"
     },
     "output_type": "display_data"
    }
   ],
   "source": [
    "import pylab as pl\n",
    "pl.rcParams['figure.figsize'] = (12, 8)\n",
    "pl.plot(counts, values, label='SLSQP')\n",
    "pl.xlabel('Eval count')\n",
    "pl.ylabel('Energy')\n",
    "pl.title('Energy convergence for values optimizers')\n",
    "pl.legend(loc='upper right')"
   ]
  },
  {
   "cell_type": "code",
   "execution_count": 11,
   "id": "0dbc33d3",
   "metadata": {},
   "outputs": [
    {
     "name": "stdout",
     "output_type": "stream",
     "text": [
      "k = 0\n",
      "-1j * XXIII\n",
      "YYIII\n",
      "k = 1\n",
      "-1j * IXXII\n",
      "IYYII\n",
      "k = 2\n",
      "-1j * IIXXI\n",
      "IIYYI\n",
      "k = 3\n",
      "-1j * IIIXX\n",
      "IIIYY\n",
      "k = 4\n"
     ]
    }
   ],
   "source": [
    "from qiskit.opflow import X, Y, Z, I\n",
    "from qiskit.opflow.primitive_ops import PauliOp\n",
    "\n",
    "Nq = 5\n",
    "for k in range(0, Nq):\n",
    "    print('k = %s' % k)\n",
    "    if k == Nq-1:\n",
    "        break\n",
    "    elif k == 0:\n",
    "        hamiX = X ^ X\n",
    "        hamiY = Y ^ Y\n",
    "        for l in range(k+2, Nq):\n",
    "            hamiX = hamiX ^ I\n",
    "            hamiY = hamiY ^ I\n",
    "    else:\n",
    "        hamiX = I\n",
    "        hamiY = I\n",
    "        for l in range(1, k):\n",
    "            hamiX = hamiX ^ I\n",
    "            hamiY = hamiY ^ I\n",
    "        \n",
    "        hamiX = hamiX ^ X ^ X\n",
    "        hamiY = hamiY ^ Y ^ Y\n",
    "\n",
    "        for l in range(k+2, 5):\n",
    "            hamiX = hamiX ^ I\n",
    "            hamiY = hamiY ^ I\n",
    "    \n",
    "    print(-1j*(hamiX)*1)\n",
    "    print(hamiY)\n"
   ]
  },
  {
   "cell_type": "code",
   "execution_count": null,
   "id": "fbe92349",
   "metadata": {},
   "outputs": [],
   "source": []
  },
  {
   "cell_type": "code",
   "execution_count": null,
   "id": "8d00c999",
   "metadata": {},
   "outputs": [],
   "source": []
  }
 ],
 "metadata": {
  "kernelspec": {
   "display_name": "Python 3",
   "language": "python",
   "name": "python3"
  },
  "language_info": {
   "codemirror_mode": {
    "name": "ipython",
    "version": 3
   },
   "file_extension": ".py",
   "mimetype": "text/x-python",
   "name": "python",
   "nbconvert_exporter": "python",
   "pygments_lexer": "ipython3",
   "version": "3.8.8"
  }
 },
 "nbformat": 4,
 "nbformat_minor": 5
}
