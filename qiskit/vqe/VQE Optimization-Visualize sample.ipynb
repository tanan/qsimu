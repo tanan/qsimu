{
 "cells": [
  {
   "cell_type": "code",
   "execution_count": 1,
   "id": "6dfc6087",
   "metadata": {},
   "outputs": [
    {
     "name": "stdout",
     "output_type": "stream",
     "text": [
      "{   'aux_operator_eigenvalues': None,\n",
      "    'cost_function_evals': 65,\n",
      "    'eigenstate': array([ 9.54998859e-05+2.98234338e-16j, -9.93766275e-01-7.35755577e-16j,\n",
      "        1.11483549e-01+2.60562039e-16j,  1.77240156e-05+7.05233587e-17j]),\n",
      "    'eigenvalue': (-1.8572750175659285+0j),\n",
      "    'optimal_parameters': {   ParameterVectorElement(θ[4]): -2.5983258651155454,\n",
      "                              ParameterVectorElement(θ[6]): -4.717618122820399,\n",
      "                              ParameterVectorElement(θ[5]): 1.5683259885445988,\n",
      "                              ParameterVectorElement(θ[7]): 0.36020722970466373,\n",
      "                              ParameterVectorElement(θ[3]): 6.092947776896387,\n",
      "                              ParameterVectorElement(θ[1]): 4.426962084521693,\n",
      "                              ParameterVectorElement(θ[2]): 0.5470753589336304,\n",
      "                              ParameterVectorElement(θ[0]): 4.296520309146017},\n",
      "    'optimal_point': array([ 4.29652031,  4.42696208,  0.54707536,  6.09294778, -2.59832587,\n",
      "        1.56832599, -4.71761812,  0.36020723]),\n",
      "    'optimal_value': -1.8572750175659285,\n",
      "    'optimizer_evals': None,\n",
      "    'optimizer_time': 0.08819198608398438}\n"
     ]
    }
   ],
   "source": [
    "import numpy as np\n",
    "from qiskit import BasicAer\n",
    "from qiskit.algorithms import VQE\n",
    "from qiskit.algorithms.optimizers import SLSQP\n",
    "from qiskit.circuit.library import TwoLocal\n",
    "from qiskit.utils import QuantumInstance\n",
    "\n",
    "from qiskit.opflow import X, Z, I\n",
    "H2_op = (-1.052373245772859 * I ^ I) + \\\n",
    "        (0.39793742484318045 * I ^ Z) + \\\n",
    "        (-0.39793742484318045 * Z ^ I) + \\\n",
    "        (-0.01128010425623538 * Z ^ Z) + \\\n",
    "        (0.18093119978423156 * X ^ X)\n",
    "\n",
    "counts = []\n",
    "values = []\n",
    "def store_intermediate_result(eval_count, parameters, mean, std):\n",
    "    counts.append(eval_count)\n",
    "    values.append(mean)\n",
    "\n",
    "from qiskit.utils import algorithm_globals\n",
    "seed = 50\n",
    "algorithm_globals.random_seed = seed\n",
    "ql = QuantumInstance(BasicAer.get_backend('statevector_simulator'), seed_transpiler=seed, seed_simulator=seed)\n",
    "\n",
    "ansatz = TwoLocal(rotation_blocks='ry', entanglement_blocks='cz')\n",
    "opt = SLSQP(maxiter=10000)\n",
    "vqe = VQE(ansatz=ansatz, optimizer=opt, quantum_instance=ql, callback=store_intermediate_result)\n",
    "result = vqe.compute_minimum_eigenvalue(H2_op)\n",
    "\n",
    "print(result)"
   ]
  },
  {
   "cell_type": "code",
   "execution_count": 24,
   "id": "ab0d07eb",
   "metadata": {},
   "outputs": [],
   "source": [
    "from scipy.linalg import expm\n",
    "import numpy.linalg as LA\n",
    "from qiskit.quantum_info.operators import Operator, Pauli\n",
    "from qiskit.opflow import X, Y, Z, I\n",
    "def create_hamiltonian(Nq, cn, gamma, Bn):\n",
    "    '''\n",
    "    create Hamiltonian gate\n",
    "    target Hamiltonian is H=1/2*cn((1+gamma)XX+(1-gamma)YY)+BnZn\n",
    "    Nq -> number of qubit\n",
    "    cn -> coupling constant\n",
    "    gamma -> parameter\n",
    "    Bn -> Magnetic field\n",
    "    '''\n",
    "    \n",
    "    XX= np.array(np.zeros(2**Nq))\n",
    "    YY= np.array(np.zeros(2**Nq))\n",
    "    Zn= np.array(np.zeros(2**Nq))\n",
    "    Identity = 'I' * Nq\n",
    "    hamiltonian = np.array(np.zeros(2**Nq))\n",
    "    \n",
    "    for k in range(0, Nq):\n",
    "        '''\n",
    "        隣あうqubitのみ相互作用するようなモデルを考える\n",
    "        0 1 2 ... k-1 X X k+2 ... N-1\n",
    "        0 1 2 ... k-1 Y Y k+2 ... N-1\n",
    "        '''\n",
    "        \n",
    "        # 端まで計算したらスキップ\n",
    "        if k == Nq-1:\n",
    "            continue\n",
    "\n",
    "        hamiX = Pauli(Identity[:k] + 'XX' + Identity[k+2:])\n",
    "        hamiY = Pauli(Identity[:k] + 'YY' + Identity[k+2:])\n",
    "\n",
    "        XX = XX + 0.5*cn[k]*(1+gamma)*hamiX.to_matrix()\n",
    "        YY = YY + 0.5*cn[k]*(1-gamma)*hamiY.to_matrix()\n",
    "\n",
    "    for k in range(0, Nq):\n",
    "        hamiZ = Pauli(Identity[:k] + 'Z' + Identity[k+1:])\n",
    "        Zn = Zn + Bn[k] * hamiZ.to_matrix()\n",
    "    \n",
    "    return XX + YY + Zn\n",
    "\n",
    "from qiskit import QuantumCircuit\n",
    "from qiskit.circuit import Parameter\n",
    "from math import pi\n",
    "def create_ansatz(q,cn,r,bn):\n",
    "    theta = Parameter('θ')\n",
    "    time = Parameter('t')\n",
    "#     TODO: boundを設定できるか確認\n",
    "    qc = QuantumCircuit(q)    \n",
    "    qc.rx(theta,[0,1])\n",
    "    qc.ry(theta,[0,1])\n",
    "    hami = expm(-1j*create_hamiltonian(q,cn,r,bn)*1)\n",
    "    qc.append(Operator(hami),list(range(q)))\n",
    "    return qc\n"
   ]
  },
  {
   "cell_type": "code",
   "execution_count": 25,
   "id": "a98daf1b",
   "metadata": {},
   "outputs": [
    {
     "data": {
      "image/png": "[encoded data removed]",
      "text/plain": [
       "<Figure size 327.397x385.28 with 1 Axes>"
      ]
     },
     "execution_count": 25,
     "metadata": {},
     "output_type": "execute_result"
    }
   ],
   "source": [
    "import numpy as np\n",
    "from qiskit import BasicAer\n",
    "from qiskit.algorithms import VQE\n",
    "from qiskit.algorithms.optimizers import SLSQP\n",
    "from qiskit.circuit.library import TwoLocal\n",
    "from qiskit.utils import QuantumInstance\n",
    "\n",
    "qubit = 6\n",
    "cn = [1] * qubit\n",
    "r = 0\n",
    "bn = [0] * qubit\n",
    "\n",
    "counts = []\n",
    "values = []\n",
    "def store_intermediate_result(eval_count, parameters, mean, std):\n",
    "    counts.append(eval_count)\n",
    "    values.append(mean)\n",
    "\n",
    "from qiskit.utils import algorithm_globals\n",
    "seed = 50\n",
    "algorithm_globals.random_seed = seed\n",
    "ql = QuantumInstance(BasicAer.get_backend('statevector_simulator'), seed_transpiler=seed, seed_simulator=seed)\n",
    "\n",
    "ansatz = create_ansatz(qubit, cn, r, bn)\n",
    "ansatz.draw('mpl')"
   ]
  },
  {
   "cell_type": "code",
   "execution_count": null,
   "id": "5c522d22",
   "metadata": {},
   "outputs": [],
   "source": []
  }
 ],
 "metadata": {
  "kernelspec": {
   "display_name": "Python 3 (ipykernel)",
   "language": "python",
   "name": "python3"
  },
  "language_info": {
   "codemirror_mode": {
    "name": "ipython",
    "version": 3
   },
   "file_extension": ".py",
   "mimetype": "text/x-python",
   "name": "python",
   "nbconvert_exporter": "python",
   "pygments_lexer": "ipython3",
   "version": "3.8.12"
  }
 },
 "nbformat": 4,
 "nbformat_minor": 5
}
