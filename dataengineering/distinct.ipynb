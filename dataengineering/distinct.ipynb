{
 "cells": [
  {
   "cell_type": "code",
   "execution_count": 32,
   "id": "ba05dc6f",
   "metadata": {},
   "outputs": [
    {
     "name": "stdout",
     "output_type": "stream",
     "text": [
      "distinct ip address count: 13011\n"
     ]
    }
   ],
   "source": [
    "import ipaddress\n",
    "\n",
    "f = open('benchmark.txt', 'r')\n",
    "\n",
    "s = set()\n",
    "while True:\n",
    "    data = f.readline().strip().replace(' ', '.')\n",
    "    if data == '':\n",
    "        break\n",
    "\n",
    "    try:\n",
    "        ## ip address validation\n",
    "        ipaddress.ip_address(data)\n",
    "    except ValueError:\n",
    "        continue\n",
    "\n",
    "    s.add(data)\n",
    "\n",
    "f.close()\n",
    "\n",
    "# for x in s:\n",
    "#     print(x)\n",
    "\n",
    "print(\"distinct ip address count: %d\" % len(s))"
   ]
  }
 ],
 "metadata": {
  "kernelspec": {
   "display_name": "Python 3",
   "language": "python",
   "name": "python3"
  },
  "language_info": {
   "codemirror_mode": {
    "name": "ipython",
    "version": 3
   },
   "file_extension": ".py",
   "mimetype": "text/x-python",
   "name": "python",
   "nbconvert_exporter": "python",
   "pygments_lexer": "ipython3",
   "version": "3.8.8"
  }
 },
 "nbformat": 4,
 "nbformat_minor": 5
}
