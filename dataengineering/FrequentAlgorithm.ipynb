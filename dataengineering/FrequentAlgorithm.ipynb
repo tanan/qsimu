{
 "cells": [
  {
   "cell_type": "code",
   "execution_count": 63,
   "id": "3d75b8bb",
   "metadata": {},
   "outputs": [
    {
     "name": "stdout",
     "output_type": "stream",
     "text": [
      "{'a': 3, 'b': 1, 'f': 4}\n"
     ]
    }
   ],
   "source": [
    "## Frequent\n",
    "\n",
    "def decrement_item(T):\n",
    "    for i in T:\n",
    "        T[i] -= 1\n",
    "\n",
    "    return T\n",
    "\n",
    "def remove_zero_item(T):\n",
    "    zerokeys = [k for k, v in T.items() if v == 0]\n",
    "    for k in zerokeys:\n",
    "        del T[k]\n",
    "\n",
    "    return T\n",
    "\n",
    "def run_by_frequent(S, k):\n",
    "    T = {}\n",
    "    for i in S:\n",
    "        if i in T:\n",
    "            T[i] += 1\n",
    "        elif len(T) < k:\n",
    "            T[i] = 1\n",
    "        else:\n",
    "            # decrement and remove zero elements\n",
    "            T = remove_zero_item(decrement_item(T))\n",
    "\n",
    "    return T\n",
    "\n",
    "S = ['a', 'b', 'a', 'c', 'b', 'd', 'e', 'a', 'g', 'f', 'b', 'f', 'f', 'a', 'c', 'f', 'a', 'f']\n",
    "k = 4\n",
    "print(run_by_frequent(S, k))"
   ]
  },
  {
   "cell_type": "code",
   "execution_count": 64,
   "id": "244aae1d",
   "metadata": {},
   "outputs": [
    {
     "name": "stdout",
     "output_type": "stream",
     "text": [
      "{'f': 7, 'a': 5}\n"
     ]
    }
   ],
   "source": [
    "## Lossy Counting\n",
    "\n",
    "def remove_min_item(T):\n",
    "    min = 0\n",
    "    # find min value\n",
    "    for i in T:\n",
    "        if min > T[i] or min == 0:\n",
    "            min = T[i]\n",
    "\n",
    "    # delete min elements\n",
    "    minkeys = [k for k, v in T.items() if v == min]\n",
    "    for k in minkeys:\n",
    "        del T[k]\n",
    "        \n",
    "    return T\n",
    "\n",
    "def run_by_lossy_counting(S, k):\n",
    "    T = {}\n",
    "    delta = 0\n",
    "    for i in range(len(S)):\n",
    "        if S[i] in T:\n",
    "            T[S[i]] += 1\n",
    "        else:\n",
    "            T[S[i]] = delta + 1\n",
    "        \n",
    "        # for delta process\n",
    "        if delta < (i+1) // k:\n",
    "            T = remove_min_item(T)\n",
    "            delta += 1\n",
    "    \n",
    "    return T\n",
    "\n",
    "S = ['a', 'b', 'a', 'c', 'b', 'd', 'e', 'a', 'g', 'f', 'b', 'f', 'f', 'a', 'c', 'f', 'a', 'f']\n",
    "k = 4\n",
    "print(run_by_lossy_counting(S, k))"
   ]
  },
  {
   "cell_type": "code",
   "execution_count": 65,
   "id": "b15a0208",
   "metadata": {},
   "outputs": [
    {
     "name": "stdout",
     "output_type": "stream",
     "text": [
      "{'a': 5, 'f': 7, 'b': 3, 'c': 3}\n"
     ]
    }
   ],
   "source": [
    "## Space Saving\n",
    "\n",
    "def find_min_key(T):\n",
    "    min = 0\n",
    "    for i in T:\n",
    "        if min > T[i] or min == 0:\n",
    "            min = T[i]\n",
    "    \n",
    "    minkeys = [k for k, v in T.items() if v == min]\n",
    "    # return first key (anything is ok)\n",
    "    return minkeys[0]\n",
    "\n",
    "def run_by_space_saving(S, k):\n",
    "    T = {}\n",
    "    delta = 0\n",
    "    for i in range(len(S)):\n",
    "        if S[i] in T:\n",
    "            T[S[i]] += 1\n",
    "        elif len(T) < k:\n",
    "            T[S[i]] = 1\n",
    "        else:\n",
    "            v = T[find_min_key(T)]\n",
    "            del T[find_min_key(T)]\n",
    "            T[S[i]] = v + 1\n",
    "            \n",
    "    return T\n",
    "\n",
    "S = ['a', 'b', 'a', 'c', 'b', 'd', 'e', 'a', 'g', 'f', 'b', 'f', 'f', 'a', 'c', 'f', 'a', 'f']\n",
    "k = 4\n",
    "print(run_by_space_saving(S, k))"
   ]
  }
 ],
 "metadata": {
  "kernelspec": {
   "display_name": "Python 3",
   "language": "python",
   "name": "python3"
  },
  "language_info": {
   "codemirror_mode": {
    "name": "ipython",
    "version": 3
   },
   "file_extension": ".py",
   "mimetype": "text/x-python",
   "name": "python",
   "nbconvert_exporter": "python",
   "pygments_lexer": "ipython3",
   "version": "3.8.8"
  }
 },
 "nbformat": 4,
 "nbformat_minor": 5
}
