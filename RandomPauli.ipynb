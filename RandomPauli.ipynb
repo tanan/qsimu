{
 "cells": [
  {
   "cell_type": "code",
   "execution_count": 18,
   "id": "8aa9a571",
   "metadata": {},
   "outputs": [],
   "source": [
    "import numpy as np\n",
    "from scipy.linalg import expm\n",
    "import numpy.linalg as LA\n",
    "import random\n",
    "\n",
    "from qiskit import QuantumCircuit\n",
    "from qiskit import Aer, transpile,execute\n",
    "from qiskit.quantum_info import random_pauli, state_fidelity, diamond_norm, Choi\n",
    "from qiskit.quantum_info.operators import Operator, Pauli\n",
    "from qiskit.tools.visualization import plot_histogram, plot_state_city\n",
    "\n",
    "def create_hamiltonian(Nq, cn, gamma, Bn):\n",
    "    '''\n",
    "    create Hamiltonian gate\n",
    "    target Hamiltonian is H=1/2*cn((1+gamma)XX+(1-gamma)YY)+BnZn\n",
    "    Nq -> number of qubit\n",
    "    cn -> coupling constant\n",
    "    gamma -> parameter\n",
    "    Bn -> Magnetic field\n",
    "    '''\n",
    "    \n",
    "    XX= np.array(np.zeros(2**Nq))\n",
    "    YY= np.array(np.zeros(2**Nq))\n",
    "    Zn= np.array(np.zeros(2**Nq))\n",
    "    Identity = 'I' * Nq\n",
    "    hamiltonian = np.array(np.zeros(2**Nq))\n",
    "    \n",
    "    for k in range(0, Nq):\n",
    "        '''\n",
    "        隣あうqubitのみ相互作用するようなモデルを考える\n",
    "        0 1 2 ... k-1 X X k+2 ... N-1\n",
    "        0 1 2 ... k-1 Y Y k+2 ... N-1\n",
    "        '''\n",
    "        \n",
    "        # 端まで計算したらスキップ\n",
    "        if k == Nq-1:\n",
    "            continue\n",
    "\n",
    "        hamiX = Pauli(Identity[:k] + 'XX' + Identity[k+2:])\n",
    "        hamiY = Pauli(Identity[:k] + 'YY' + Identity[k+2:])\n",
    "\n",
    "        XX = XX + 0.5*cn[k]*(1+gamma)*hamiX.to_matrix()\n",
    "        YY = YY + 0.5*cn[k]*(1-gamma)*hamiY.to_matrix()\n",
    "\n",
    "    for k in range(0, Nq):\n",
    "        hamiZ = Pauli(Identity[:k] + 'Z' + Identity[k+1:])\n",
    "        Zn = Zn + Bn[k] * hamiZ.to_matrix()\n",
    "    \n",
    "    return XX + YY + Zn\n",
    "        "
   ]
  },
  {
   "cell_type": "code",
   "execution_count": 19,
   "id": "f744819e",
   "metadata": {},
   "outputs": [],
   "source": [
    "def create_choi(clen, q, cn, r, bn, p, direct=True):\n",
    "    '''\n",
    "    loop -> loop count\n",
    "    q -> number of qubit\n",
    "    cn -> coupling constant\n",
    "    r -> gamma parameter\n",
    "    bn -> magnetic field\n",
    "    p -> probability of random\n",
    "    direct -> direct or indirect control\n",
    "    '''\n",
    "    \n",
    "    qc = QuantumCircuit(q)\n",
    "    \n",
    "    for i in range(clen):\n",
    "        t = 1\n",
    "        # Hamiltonianの時間発展を計算\n",
    "        hami = expm(-1j*create_hamiltonian(q,cn,r,bn)*t)\n",
    "        qc.append(Operator(hami),list(range(q)))\n",
    "\n",
    "        # randomな確率でPauliゲート追加\n",
    "        # 各bitに独立な確率でPauliゲートを追加\n",
    "        if random.randint(1, 100) < p:\n",
    "            if direct:\n",
    "                qc.append(random_pauli(1), [random.randint(0,q-1)])\n",
    "            else:\n",
    "                qc.append(random_pauli(1), [random.randint(0,1)])\n",
    "\n",
    "    return Choi(qc).data"
   ]
  },
  {
   "cell_type": "code",
   "execution_count": 22,
   "id": "189dbfb9",
   "metadata": {},
   "outputs": [],
   "source": [
    "import datetime\n",
    "\n",
    "def run():\n",
    "    qubit = 5\n",
    "    cn = [1] * qubit #[1,1,1,1,1]\n",
    "    r = 0\n",
    "    bn = [0] * qubit #[0,0,0,0,0]\n",
    "\n",
    "    circuit_length = 500\n",
    "    choi_qubit = 2 * qubit\n",
    "    choi_direct = np.array(np.zeros(2**choi_qubit))\n",
    "    choi_indirect = np.array(np.zeros(2**choi_qubit))\n",
    "\n",
    "    loop = 10\n",
    "    ## 時間をパラメータ化する\n",
    "    ## totalの時間は揃えないとだめ(これを一定にしてランダムに時間をとる)\n",
    "    for i in range(0, loop):\n",
    "        print(datetime.datetime.now())\n",
    "        choi_direct = choi_direct + create_choi(circuit_length, qubit, cn, r, bn, 3, True)\n",
    "        choi_indirect = choi_direct + create_choi(circuit_length, qubit, cn, r, bn, 6, False)\n",
    "\n",
    "#     print(\"choi_direct: %s\" % choi_direct)\n",
    "#     print(\"choi_indirect: %s\" % choi_indirect)\n",
    "    eps = (choi_direct - choi_indirect) / loop\n",
    "    print(diamond_norm(Choi(eps)))\n",
    "        "
   ]
  },
  {
   "cell_type": "code",
   "execution_count": 23,
   "id": "6b8b6902",
   "metadata": {},
   "outputs": [
    {
     "name": "stdout",
     "output_type": "stream",
     "text": [
      "2021-12-17 00:32:11.509751\n",
      "2021-12-17 01:12:57.565452\n",
      "2021-12-17 01:53:23.729801\n",
      "2021-12-17 02:33:44.595085\n",
      "2021-12-17 03:14:05.372937\n",
      "2021-12-17 03:54:42.242067\n",
      "2021-12-17 04:35:06.314510\n",
      "2021-12-17 05:15:25.321431\n",
      "2021-12-17 05:55:51.179040\n",
      "2021-12-17 06:36:13.619205\n",
      "0.0999999999992709\n"
     ]
    }
   ],
   "source": [
    "run()"
   ]
  },
  {
   "cell_type": "code",
   "execution_count": 8,
   "id": "4d87ebe6",
   "metadata": {},
   "outputs": [
    {
     "name": "stdout",
     "output_type": "stream",
     "text": [
      "0\n"
     ]
    }
   ],
   "source": [
    "for i in range(0,1):\n",
    "    print(i)"
   ]
  },
  {
   "cell_type": "code",
   "execution_count": null,
   "id": "8a378ae0",
   "metadata": {},
   "outputs": [],
   "source": []
  }
 ],
 "metadata": {
  "kernelspec": {
   "display_name": "Python 3",
   "language": "python",
   "name": "python3"
  },
  "language_info": {
   "codemirror_mode": {
    "name": "ipython",
    "version": 3
   },
   "file_extension": ".py",
   "mimetype": "text/x-python",
   "name": "python",
   "nbconvert_exporter": "python",
   "pygments_lexer": "ipython3",
   "version": "3.8.8"
  }
 },
 "nbformat": 4,
 "nbformat_minor": 5
}
