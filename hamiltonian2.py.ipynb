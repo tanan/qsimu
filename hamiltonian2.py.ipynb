{
 "cells": [
  {
   "cell_type": "code",
   "execution_count": 2,
   "id": "bbba46ca",
   "metadata": {},
   "outputs": [],
   "source": [
    "import numpy as np\n",
    "from scipy.linalg import expm\n",
    "import numpy.linalg as LA\n",
    "import random\n",
    "\n",
    "from qiskit import QuantumCircuit\n",
    "from qiskit import Aer, transpile,execute\n",
    "from qiskit.quantum_info import random_pauli, state_fidelity, diamond_norm, Choi\n",
    "from qiskit.quantum_info.operators import Operator, Pauli\n",
    "from qiskit.tools.visualization import plot_histogram, plot_state_city\n",
    "\n",
    "# def create_entanglement(Nq, qc):\n",
    "#     qc.h(0)\n",
    "#     for i in range(1, Nq):\n",
    "#         qc.cx(0, i)\n",
    "        \n",
    "#     qc.barrier()\n",
    "#     return qc\n",
    "\n",
    "def create_hamiltonian(Nq, cn, gamma, Bn):\n",
    "    '''\n",
    "    create Hamiltonian gate\n",
    "    target Hamiltonian is H=1/2*cn((1+gamma)XX+(1-gamma)YY)+BnZn\n",
    "    Nq -> number of qubit\n",
    "    cn -> coupling constant\n",
    "    gamma -> parameter\n",
    "    Bn -> Magnetic field\n",
    "    '''\n",
    "    \n",
    "    XX= np.array(np.zeros(2**Nq))\n",
    "    YY= np.array(np.zeros(2**Nq))\n",
    "    Zn= np.array(np.zeros(2**Nq))\n",
    "    Identity = 'I' * Nq\n",
    "    hamiltonian = np.array(np.zeros(2**Nq))\n",
    "    \n",
    "    for k in range(0, Nq):\n",
    "        '''\n",
    "        隣あうqubitのみ相互作用するようなモデルを考える\n",
    "        0 1 2 ... k-1 X X k+2 ... N-1\n",
    "        0 1 2 ... k-1 Y Y k+2 ... N-1\n",
    "        '''\n",
    "        \n",
    "        # 端まで計算したらスキップ\n",
    "        if k == Nq-1:\n",
    "            continue\n",
    "\n",
    "        hamiX = Pauli(Identity[:k] + 'XX' + Identity[k+2:])\n",
    "        hamiY = Pauli(Identity[:k] + 'YY' + Identity[k+2:])\n",
    "                \n",
    "#         print(\"hamiX: %s\" % hamiX)\n",
    "#         print(\"hamiY: %s\" % hamiY)\n",
    "\n",
    "        XX = XX + 0.5*cn[k]*(1+gamma)*hamiX.to_matrix()\n",
    "        YY = YY + 0.5*cn[k]*(1-gamma)*hamiY.to_matrix()\n",
    "\n",
    "    for k in range(0, Nq):\n",
    "        hamiZ = Pauli(Identity[:k] + 'Z' + Identity[k+1:])\n",
    "        Zn = Zn + Bn[k] * hamiZ.to_matrix()\n",
    "    \n",
    "    return XX + YY + Zn\n",
    "        "
   ]
  },
  {
   "cell_type": "code",
   "execution_count": null,
   "id": "05e54e25",
   "metadata": {},
   "outputs": [
    {
     "name": "stdout",
     "output_type": "stream",
     "text": [
      "loop count: 29\n",
      "1.0000000000031453\n",
      "0.9999999999983593\n",
      "loop count: 59\n",
      "1.0000000000055418\n",
      "0.9999999999994033\n",
      "loop count: 60\n",
      "1.000000000008072\n",
      "0.9999999999935794\n",
      "loop count: 130\n",
      "0.9999999999985564\n",
      "1.0000000000031635\n",
      "loop count: 140\n",
      "0.9999999999979595\n",
      "0.9999999999940585\n",
      "loop count: 141\n",
      "1.0000000000044458\n",
      "0.9999999999986081\n",
      "loop count: 146\n",
      "0.9999999999916319\n",
      "1.0000000000085543\n",
      "loop count: 172\n"
     ]
    }
   ],
   "source": [
    "qubit = 5\n",
    "cn = [1] * qubit #[1,1,1,1,1]\n",
    "r = 0\n",
    "bn = [0] * qubit #[0,0,0,0,0]\n",
    "\n",
    "# 量子回路初期化\n",
    "qc1 = QuantumCircuit(qubit)\n",
    "qc2 = QuantumCircuit(qubit)\n",
    "\n",
    "for i in range(1000):\n",
    "    t = 1\n",
    "    # Hamiltonianの時間発展を計算\n",
    "    hami = expm(-1j*create_hamiltonian(qubit,cn,r,bn)*t)\n",
    "    \n",
    "    # Unitaryゲート追加\n",
    "    qc1.append(Operator(hami),list(range(qubit)))\n",
    "    qc2.append(Operator(hami),list(range(qubit)))\n",
    "    \n",
    "    # randomな確率でPauliゲート追加\n",
    "    # 各bitに独立な確率でPauliゲートを追加するように修正\n",
    "    if random.randint(1, 100) < 6:\n",
    "        print(\"loop count: %s\" % i)\n",
    "        p1 = random_pauli(1)\n",
    "        qc1.append(p1, [random.randint(0,1)])\n",
    "        print(diamond_norm(Choi(qc1)))\n",
    "        print(diamond_norm(Choi(qc2)))\n",
    "        \n",
    "    if random.randint(1,100) <3:\n",
    "        print(\"loop count: %s\" % i)\n",
    "        # 全体にかかる方は低確率にしたほうが良い（10倍は違わなくて良いのではという直感）\n",
    "        p2 = random_pauli(1)\n",
    "        qc2.append(p2, [random.randint(0,4)])\n",
    "        print(diamond_norm(Choi(qc1)))\n",
    "        print(diamond_norm(Choi(qc2)))\n",
    "            \n",
    "# TODO Choi行列の平均を代入する"
   ]
  },
  {
   "cell_type": "code",
   "execution_count": null,
   "id": "85e78ee7",
   "metadata": {},
   "outputs": [],
   "source": [
    "qc1.draw('mpl')"
   ]
  },
  {
   "cell_type": "code",
   "execution_count": null,
   "id": "e4a5a0d8",
   "metadata": {},
   "outputs": [],
   "source": [
    "backend = Aer.get_backend('unitary_simulator')\n",
    "results = execute(qc1, backend=backend).result()\n",
    "unitary_mat =results.get_unitary(qc1)\n",
    "print(np.round(unitary_mat,4))"
   ]
  },
  {
   "cell_type": "code",
   "execution_count": 16,
   "id": "64f7f8ae",
   "metadata": {},
   "outputs": [
    {
     "name": "stdout",
     "output_type": "stream",
     "text": [
      "{'11110': 6, '11011': 142, '00100': 146, '00001': 6, '01000': 200, '10111': 220, '01111': 148, '11101': 9, '00010': 9, '10000': 138}\n"
     ]
    },
    {
     "data": {
      "image/png": "[encoded data removed]",
      "text/plain": [
       "<Figure size 504x360 with 1 Axes>"
      ]
     },
     "execution_count": 16,
     "metadata": {},
     "output_type": "execute_result"
    }
   ],
   "source": [
    "# Create a Quantum Circuit\n",
    "meas = QuantumCircuit(qubit, qubit)\n",
    "meas.barrier(range(qubit))\n",
    "# map the quantum measurement to the classical bits\n",
    "meas.measure(range(qubit), range(qubit))\n",
    "circ = meas.compose(qc1, front=True)\n",
    "\n",
    "## Noisy quantum circuit simulator backend\n",
    "backend = Aer.get_backend('qasm_simulator')\n",
    "job = backend.run(transpile(circ, backend), shots=1024)\n",
    "\n",
    "# Grab the results from the job.\n",
    "results_qasm = job.result()\n",
    "\n",
    "counts = results_qasm.get_counts(circ)\n",
    "print(counts)\n",
    "plot_histogram(counts)\n"
   ]
  },
  {
   "cell_type": "code",
   "execution_count": 13,
   "id": "30213fbc",
   "metadata": {},
   "outputs": [
    {
     "name": "stdout",
     "output_type": "stream",
     "text": [
      "{'11000': 8, '01001': 9, '11001': 23, '10100': 35, '10010': 47, '10001': 56, '10011': 33, '01101': 50, '00101': 61, '01100': 40, '01110': 68, '10101': 51, '00111': 13, '01011': 41, '11010': 53, '00011': 157, '01010': 63, '11100': 186, '00110': 19, '10110': 11}\n"
     ]
    },
    {
     "data": {
      "image/png": "[encoded data removed]",
      "text/plain": [
       "<Figure size 504x360 with 1 Axes>"
      ]
     },
     "execution_count": 13,
     "metadata": {},
     "output_type": "execute_result"
    }
   ],
   "source": [
    "# Create a Quantum Circuit\n",
    "meas = QuantumCircuit(qubit, qubit)\n",
    "meas.barrier(range(qubit))\n",
    "# map the quantum measurement to the classical bits\n",
    "meas.measure(range(qubit), range(qubit))\n",
    "circ = meas.compose(qc2, front=True)\n",
    "\n",
    "## Noisy quantum circuit simulator backend\n",
    "backend = Aer.get_backend('qasm_simulator')\n",
    "job = backend.run(transpile(circ, backend), shots=1024)\n",
    "\n",
    "# Grab the results from the job.\n",
    "results_qasm = job.result()\n",
    "\n",
    "counts = results_qasm.get_counts(circ)\n",
    "print(counts)\n",
    "plot_histogram(counts)\n"
   ]
  },
  {
   "cell_type": "code",
   "execution_count": null,
   "id": "8e5839c6",
   "metadata": {},
   "outputs": [],
   "source": [
    "import numpy as np\n",
    "from scipy.linalg import expm\n",
    "import numpy.linalg as LA\n",
    "import random\n",
    "\n",
    "from qiskit import QuantumCircuit\n",
    "from qiskit import Aer, transpile,execute\n",
    "from qiskit.quantum_info import random_pauli, state_fidelity, diamond_norm, Choi\n",
    "from qiskit.quantum_info.operators import Operator, Pauli\n",
    "from qiskit.tools.visualization import plot_histogram, plot_state_city\n",
    "\n",
    "def create_entanglement(Nq, qc):\n",
    "    qc.h(0)\n",
    "    for i in range(1, Nq):\n",
    "        qc.cx(0, i)\n",
    "        \n",
    "    qc.barrier()\n",
    "    return qc\n",
    "\n",
    "def create_hamiltonian(Nq, cn, gamma, Bn):\n",
    "\n",
    "    XX= np.array(np.zeros(2**Nq))\n",
    "    YY= np.array(np.zeros(2**Nq))\n",
    "    Zn= np.array(np.zeros(2**Nq))\n",
    "    Identity = 'I' * Nq\n",
    "    hamiltonian = np.array(np.zeros(2**Nq))\n",
    "    \n",
    "    for k in range(0, Nq):\n",
    "        \n",
    "        # 一番端は今のところ計算しない\n",
    "        if k == Nq-1:\n",
    "            continue\n",
    "\n",
    "        hamiX = Pauli(Identity[:k] + 'XX' + Identity[k+2:])\n",
    "        hamiY = Pauli(Identity[:k] + 'YY' + Identity[k+2:])\n",
    "\n",
    "        XX = XX + 0.5*cn[k]*(1+gamma)*hamiX.to_matrix()\n",
    "        YY = YY + 0.5*cn[k]*(1-gamma)*hamiY.to_matrix()\n",
    "\n",
    "    for k in range(0, Nq):\n",
    "        hamiZ = Pauli(Identity[:k] + 'Z' + Identity[k+1:])\n",
    "        Zn = Zn + Bn[k] * hamiZ.to_matrix()\n",
    "    \n",
    "    return XX + YY + Zn\n"
   ]
  }
 ],
 "metadata": {
  "kernelspec": {
   "display_name": "Python 3",
   "language": "python",
   "name": "python3"
  },
  "language_info": {
   "codemirror_mode": {
    "name": "ipython",
    "version": 3
   },
   "file_extension": ".py",
   "mimetype": "text/x-python",
   "name": "python",
   "nbconvert_exporter": "python",
   "pygments_lexer": "ipython3",
   "version": "3.8.8"
  }
 },
 "nbformat": 4,
 "nbformat_minor": 5
}
