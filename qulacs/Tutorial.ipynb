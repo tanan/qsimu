{
 "cells": [
  {
   "cell_type": "code",
   "execution_count": 3,
   "id": "9181cf3f",
   "metadata": {},
   "outputs": [
    {
     "name": "stdout",
     "output_type": "stream",
     "text": [
      "[1.+0.j 0.+0.j 0.+0.j 0.+0.j 0.+0.j 0.+0.j 0.+0.j 0.+0.j 0.+0.j 0.+0.j\n",
      " 0.+0.j 0.+0.j 0.+0.j 0.+0.j 0.+0.j 0.+0.j 0.+0.j 0.+0.j 0.+0.j 0.+0.j\n",
      " 0.+0.j 0.+0.j 0.+0.j 0.+0.j 0.+0.j 0.+0.j 0.+0.j 0.+0.j 0.+0.j 0.+0.j\n",
      " 0.+0.j 0.+0.j]\n"
     ]
    }
   ],
   "source": [
    "from qulacs import QuantumState\n",
    "\n",
    "# 5-qubitの状態を生成\n",
    "n = 5\n",
    "state = QuantumState(n)\n",
    "\n",
    "# |00000>に初期化\n",
    "state.set_zero_state()\n",
    "\n",
    "# 状態ベクトルをnumpy arrayとして取得\n",
    "data = state.get_vector()\n",
    "print(data)"
   ]
  },
  {
   "cell_type": "code",
   "execution_count": 12,
   "id": "2572d5da",
   "metadata": {},
   "outputs": [
    {
     "name": "stdout",
     "output_type": "stream",
     "text": [
      "computational basis state: \n",
      "[0.+0.j 0.+0.j 0.+0.j 0.+0.j 0.+0.j 1.+0.j 0.+0.j 0.+0.j 0.+0.j 0.+0.j\n",
      " 0.+0.j 0.+0.j 0.+0.j 0.+0.j 0.+0.j 0.+0.j 0.+0.j 0.+0.j 0.+0.j 0.+0.j\n",
      " 0.+0.j 0.+0.j 0.+0.j 0.+0.j 0.+0.j 0.+0.j 0.+0.j 0.+0.j 0.+0.j 0.+0.j\n",
      " 0.+0.j 0.+0.j]\n",
      "Haar random state: \n",
      "[-0.03570778-0.0738935j   0.1345332 -0.15178197j  0.06097115+0.02250343j\n",
      " -0.00187215-0.16681147j  0.08456277-0.27354146j -0.03255969-0.1634373j\n",
      " -0.01470745-0.05574291j  0.22331756+0.0601817j   0.14607649-0.15481549j\n",
      "  0.21373189-0.03247901j -0.05091117-0.17637063j -0.16955659+0.09203196j\n",
      " -0.00956145-0.01758483j -0.04453344+0.05862946j  0.07893404+0.06293055j\n",
      "  0.15695577-0.10421251j -0.06170231+0.06410028j -0.03216515+0.0830212j\n",
      "  0.18143412+0.25558117j  0.2761548 -0.02290492j  0.14855946+0.11014948j\n",
      " -0.02044936+0.10940585j -0.01400656-0.01903768j -0.08438409-0.06077785j\n",
      "  0.05984617-0.128427j   -0.01097909+0.08537634j  0.17378653+0.19372631j\n",
      "  0.13860228-0.19007288j  0.16251417-0.03243501j -0.13660518-0.09685304j\n",
      " -0.2128679 +0.09920278j  0.11627741-0.12440315j]\n",
      "Haar seed zero random state: \n",
      "[ 0.09232558+0.06460115j  0.14544754-0.10413526j  0.11300793-0.02455806j\n",
      "  0.00811251+0.2426378j  -0.01116588+0.23770313j -0.10691448+0.0487731j\n",
      " -0.01654446+0.17073103j  0.22250403+0.01934699j  0.04728154+0.22585226j\n",
      "  0.04475383+0.20375993j -0.10592159+0.10428549j -0.10175932-0.04016904j\n",
      "  0.04241271+0.08723859j  0.18205362+0.06190871j  0.14103367-0.12925877j\n",
      " -0.08269267+0.08879486j -0.14479848-0.0183179j  -0.32601567+0.06762062j\n",
      "  0.03482754+0.04464901j  0.09181499+0.05497985j  0.06870746+0.12628442j\n",
      " -0.00624006-0.21793139j -0.11181371+0.2659879j  -0.04589826+0.00891387j\n",
      " -0.04058365+0.30265587j -0.13894575-0.04392724j -0.03499327+0.0184768j\n",
      "  0.05033425-0.07376874j  0.07124237+0.15451312j  0.09319498+0.08341551j\n",
      " -0.03002195-0.14677347j -0.05309219+0.10184815j]\n"
     ]
    }
   ],
   "source": [
    "from qulacs import QuantumState\n",
    "\n",
    "n = 5\n",
    "state = QuantumState(n)\n",
    "state.set_zero_state()\n",
    "\n",
    "# |00101> に初期化\n",
    "state.set_computational_basis(0b00101)\n",
    "print('computational basis state: \\n%s' % state.get_vector())\n",
    "\n",
    "# ランダムな初期状態を生成\n",
    "state.set_Haar_random_state()\n",
    "print('Haar random state: \\n%s' % state.get_vector())\n",
    "\n",
    "# シードを指定してランダムな初期状態を生成\n",
    "seed = 0\n",
    "state.set_Haar_random_state(seed)\n",
    "print('Haar seed zero random state: \\n%s' % state.get_vector())"
   ]
  },
  {
   "cell_type": "code",
   "execution_count": 14,
   "id": "89aa31dd",
   "metadata": {},
   "outputs": [
    {
     "name": "stdout",
     "output_type": "stream",
     "text": [
      "copy state: \n",
      "[0.+0.j 0.+0.j 0.+0.j 0.+0.j 0.+0.j 1.+0.j 0.+0.j 0.+0.j 0.+0.j 0.+0.j\n",
      " 0.+0.j 0.+0.j 0.+0.j 0.+0.j 0.+0.j 0.+0.j 0.+0.j 0.+0.j 0.+0.j 0.+0.j\n",
      " 0.+0.j 0.+0.j 0.+0.j 0.+0.j 0.+0.j 0.+0.j 0.+0.j 0.+0.j 0.+0.j 0.+0.j\n",
      " 0.+0.j 0.+0.j]\n",
      "load state: \n",
      "[0.+0.j 0.+0.j 0.+0.j 0.+0.j 0.+0.j 1.+0.j 0.+0.j 0.+0.j 0.+0.j 0.+0.j\n",
      " 0.+0.j 0.+0.j 0.+0.j 0.+0.j 0.+0.j 0.+0.j 0.+0.j 0.+0.j 0.+0.j 0.+0.j\n",
      " 0.+0.j 0.+0.j 0.+0.j 0.+0.j 0.+0.j 0.+0.j 0.+0.j 0.+0.j 0.+0.j 0.+0.j\n",
      " 0.+0.j 0.+0.j]\n"
     ]
    }
   ],
   "source": [
    "from qulacs import QuantumState\n",
    "\n",
    "n = 5\n",
    "state = QuantumState(n)\n",
    "state.set_computational_basis(0b00101)\n",
    "\n",
    "# コピーして新たな量子状態を作成\n",
    "second_state = state.copy()\n",
    "print('copy state: \\n%s' % second_state.get_vector())\n",
    "\n",
    "# 量子状態を新たに作成し、既存の状態のベクトルをコピー\n",
    "third_state = QuantumState(n)\n",
    "third_state.load(state)\n",
    "print('load state: \\n%s' % third_state.get_vector())"
   ]
  },
  {
   "cell_type": "code",
   "execution_count": 17,
   "id": "b1a58da1",
   "metadata": {},
   "outputs": [
    {
     "name": "stdout",
     "output_type": "stream",
     "text": [
      "squared_norm :  0.9999999999999999\n",
      "entropy :  3.243145788080629\n",
      "prob_meas_3rd :  0.572336176773744\n",
      "marginal_prob :  0.08512204575144035\n"
     ]
    }
   ],
   "source": [
    "from qulacs import QuantumState\n",
    "\n",
    "n = 5\n",
    "state = QuantumState(n)\n",
    "state.set_Haar_random_state()\n",
    "\n",
    "# normの計算\n",
    "norm = state.get_squared_norm()\n",
    "print(\"squared_norm : \", norm)\n",
    "\n",
    "# Z基底で測定した時のentropyの計算\n",
    "entropy = state.get_entropy()\n",
    "print(\"entropy : \",entropy)\n",
    "\n",
    "# index-th qubitをZ基底で測定して0を得る確率の計算\n",
    "index = 3\n",
    "zero_probability = state.get_zero_probability(index)\n",
    "print(\"prob_meas_3rd : \",zero_probability)\n",
    "\n",
    "# 周辺確率を計算 (以下は0,3-th qubitが0、1,2-th qubitが1と測定される確率の例)\n",
    "value_list = [0,1,1,0,2]\n",
    "marginal_probability = state.get_marginal_probability(value_list)\n",
    "print(\"marginal_prob : \",marginal_probability)"
   ]
  },
  {
   "cell_type": "code",
   "execution_count": 19,
   "id": "c5f43d67",
   "metadata": {},
   "outputs": [
    {
     "name": "stdout",
     "output_type": "stream",
     "text": [
      "(-0.0388051630734596+0.2497227361318169j)\n"
     ]
    }
   ],
   "source": [
    "from qulacs import QuantumState\n",
    "from qulacs.state import inner_product\n",
    "\n",
    "n = 5\n",
    "state_bra = QuantumState(n)\n",
    "state_ket = QuantumState(n)\n",
    "state_bra.set_Haar_random_state()\n",
    "state_ket.set_computational_basis(0)\n",
    "\n",
    "# 内積値の計算\n",
    "value = inner_product(state_bra, state_ket)\n",
    "print(value)"
   ]
  },
  {
   "cell_type": "code",
   "execution_count": 20,
   "id": "5b3dc915",
   "metadata": {},
   "outputs": [],
   "source": [
    "from qulacs import QuantumState\n",
    "\n",
    "n = 5\n",
    "state = QuantumState(n)\n",
    "\n",
    "# 量子状態を開放\n",
    "del state"
   ]
  },
  {
   "cell_type": "code",
   "execution_count": 21,
   "id": "7f02309e",
   "metadata": {},
   "outputs": [
    {
     "name": "stdout",
     "output_type": "stream",
     "text": [
      " *** Quantum State ***\n",
      " * Qubit Count : 5\n",
      " * Dimension   : 32\n",
      " * State vector : \n",
      "(1,0)\n",
      "(0,0)\n",
      "(0,0)\n",
      "(0,0)\n",
      "(0,0)\n",
      "(0,0)\n",
      "(0,0)\n",
      "(0,0)\n",
      "(0,0)\n",
      "(0,0)\n",
      "(0,0)\n",
      "(0,0)\n",
      "(0,0)\n",
      "(0,0)\n",
      "(0,0)\n",
      "(0,0)\n",
      "(0,0)\n",
      "(0,0)\n",
      "(0,0)\n",
      "(0,0)\n",
      "(0,0)\n",
      "(0,0)\n",
      "(0,0)\n",
      "(0,0)\n",
      "(0,0)\n",
      "(0,0)\n",
      "(0,0)\n",
      "(0,0)\n",
      "(0,0)\n",
      "(0,0)\n",
      "(0,0)\n",
      "(0,0)\n",
      "\n"
     ]
    }
   ],
   "source": [
    "from qulacs import QuantumState\n",
    "\n",
    "n = 5\n",
    "state = QuantumState(n)\n",
    "\n",
    "print(state)"
   ]
  },
  {
   "cell_type": "code",
   "execution_count": 29,
   "id": "4828a9b9",
   "metadata": {},
   "outputs": [
    {
     "name": "stdout",
     "output_type": "stream",
     "text": [
      "zero state: \n",
      "[1.+0.j 0.+0.j 0.+0.j 0.+0.j 0.+0.j 0.+0.j 0.+0.j 0.+0.j]\n",
      "010 state: \n",
      "[0.+0.j 0.+0.j 1.+0.j 0.+0.j 0.+0.j 0.+0.j 0.+0.j 0.+0.j]\n",
      "ry(pi/4) gate state: \n",
      "[0.38268343+0.j 0.        +0.j 0.92387953+0.j 0.        +0.j\n",
      " 0.        +0.j 0.        +0.j 0.        +0.j 0.        +0.j]\n",
      "dense gate state: \n",
      "[0.        +0.j 0.        +0.j 0.        +0.j 0.        +0.j\n",
      " 0.38268343+0.j 0.        +0.j 0.92387953+0.j 0.        +0.j]\n"
     ]
    }
   ],
   "source": [
    "import numpy as np\n",
    "from qulacs import QuantumState\n",
    "from qulacs.gate import X, RY, DenseMatrix\n",
    "\n",
    "n = 3\n",
    "state = QuantumState(n)\n",
    "state.set_zero_state()\n",
    "print('zero state: \\n%s' % state.get_vector())\n",
    "\n",
    "# 1st-qubitにX操作 (|000> -> |010>)\n",
    "index = 1\n",
    "x_gate = X(index)\n",
    "x_gate.update_quantum_state(state)\n",
    "print('010 state: \\n%s' % state.get_vector())\n",
    "\n",
    "# 1st-qubitをYパウリでpi/4.0回転\n",
    "angle = np.pi / 4.0\n",
    "ry_gate = RY(index, angle)\n",
    "ry_gate.update_quantum_state(state)\n",
    "print('ry(pi/4) gate state: \\n%s' % state.get_vector())\n",
    "\n",
    "# 2nd-qubitにゲート行列で作成したゲートを作用\n",
    "dense_gate = DenseMatrix(2, [[0,1],[1,0]])\n",
    "dense_gate.update_quantum_state(state)\n",
    "print('dense gate state: \\n%s' % state.get_vector())\n",
    "\n",
    "# ゲートの解放\n",
    "del x_gate\n",
    "del ry_gate\n",
    "del dense_gate"
   ]
  },
  {
   "cell_type": "code",
   "execution_count": 30,
   "id": "5879b799",
   "metadata": {},
   "outputs": [
    {
     "name": "stdout",
     "output_type": "stream",
     "text": [
      "[0.38268343+0.j 0.        +0.j 0.92387953+0.j 0.        +0.j\n",
      " 0.        +0.j 0.        +0.j 0.        +0.j 0.        +0.j]\n"
     ]
    }
   ],
   "source": [
    "import numpy as np\n",
    "from qulacs import QuantumState\n",
    "from qulacs.gate import X, RY, merge\n",
    "\n",
    "n = 3\n",
    "state = QuantumState(n)\n",
    "state.set_zero_state()\n",
    "\n",
    "index = 1\n",
    "x_gate = X(index)\n",
    "angle = np.pi / 4.0\n",
    "ry_gate = RY(index, angle)\n",
    "\n",
    "# ゲートを合成して新たなゲートを生成\n",
    "# 第一引数が先に作用する\n",
    "x_and_ry_gate = merge(x_gate, ry_gate)\n",
    "x_and_ry_gate.update_quantum_state(state)\n",
    "print(state.get_vector())"
   ]
  },
  {
   "cell_type": "code",
   "execution_count": 31,
   "id": "9e285281",
   "metadata": {},
   "outputs": [
    {
     "name": "stdout",
     "output_type": "stream",
     "text": [
      " *** gate info *** \n",
      " * gate name : DenseMatrix\n",
      " * target    : \n",
      " 0 : commute       \n",
      " 1 : commute       \n",
      " * control   : \n",
      " * Pauli     : no\n",
      " * Clifford  : no\n",
      " * Gaussian  : no\n",
      " * Parametric: no\n",
      " * Diagonal  : no\n",
      " * Matrix\n",
      "(1,0) (0,0) (0,0) (0,0)\n",
      "(0,0) (0,0) (0,0) (0,0)\n",
      "(0,0) (0,0) (0,0) (0,0)\n",
      "(0,0) (0,0) (0,0) (1,0)\n",
      "\n",
      " *** gate info *** \n",
      " * gate name : DenseMatrix\n",
      " * target    : \n",
      " 0 : commute       \n",
      " 1 : commute       \n",
      " * control   : \n",
      " * Pauli     : no\n",
      " * Clifford  : no\n",
      " * Gaussian  : no\n",
      " * Parametric: no\n",
      " * Diagonal  : no\n",
      " * Matrix\n",
      "(0.5,0)   (0,0)   (0,0) (0.5,0)\n",
      "  (0,0)   (0,0)   (0,0)   (0,0)\n",
      "  (0,0)   (0,0)   (0,0)   (0,0)\n",
      "(0.5,0)   (0,0)   (0,0) (0.5,0)\n",
      "\n"
     ]
    }
   ],
   "source": [
    "import numpy as np\n",
    "from qulacs import QuantumState\n",
    "from qulacs.gate import P0,P1,add, merge, Identity, X, Z\n",
    "\n",
    "gate00 = merge(P0(0),P0(1))\n",
    "gate11 = merge(P1(0),P1(1))\n",
    "# |00><00| + |11><11|\n",
    "proj_00_or_11 = add(gate00, gate11)\n",
    "print(proj_00_or_11)\n",
    "\n",
    "gate_ii_zz = add(Identity(0), merge(Z(0),Z(1)))\n",
    "gate_ii_xx = add(Identity(0), merge(X(0),X(1)))\n",
    "proj_00_plus_11 = merge(gate_ii_zz, gate_ii_xx)\n",
    "# ((|00>+|11>)(<00|+<11|))/2 = (II + ZZ)(II + XX)/4\n",
    "proj_00_plus_11.multiply_scalar(0.25)\n",
    "print(proj_00_plus_11)"
   ]
  },
  {
   "cell_type": "code",
   "execution_count": 33,
   "id": "ac25bc1d",
   "metadata": {},
   "outputs": [
    {
     "name": "stdout",
     "output_type": "stream",
     "text": [
      "[0.+0.j 1.+0.j 0.+0.j 0.+0.j 0.+0.j 0.+0.j 0.+0.j 0.+0.j]\n"
     ]
    }
   ],
   "source": [
    "import numpy as np\n",
    "from qulacs import QuantumState\n",
    "from qulacs.gate import to_matrix_gate, X\n",
    "n = 3\n",
    "state = QuantumState(n)\n",
    "state.set_zero_state()\n",
    "\n",
    "index = 0\n",
    "x_gate = X(index)\n",
    "x_mat_gate = to_matrix_gate(x_gate)\n",
    "\n",
    "# 1st-qubitが0の場合だけゲートを作用\n",
    "control_index = 1\n",
    "control_with_value = 0\n",
    "x_mat_gate.add_control_qubit(control_index, control_with_value)\n",
    "\n",
    "x_mat_gate.update_quantum_state(state)\n",
    "print(state.get_vector())"
   ]
  },
  {
   "cell_type": "code",
   "execution_count": 34,
   "id": "6bd10fc3",
   "metadata": {},
   "outputs": [
    {
     "name": "stdout",
     "output_type": "stream",
     "text": [
      " *** gate info *** \n",
      " * gate name : X\n",
      " * target    : \n",
      " 0 : commute X     \n",
      " * control   : \n",
      " * Pauli     : yes\n",
      " * Clifford  : yes\n",
      " * Gaussian  : no\n",
      " * Parametric: no\n",
      " * Diagonal  : no\n",
      "\n",
      " *** gate info *** \n",
      " * gate name : DenseMatrix\n",
      " * target    : \n",
      " 0 : commute X     \n",
      " * control   : \n",
      " * Pauli     : no\n",
      " * Clifford  : no\n",
      " * Gaussian  : no\n",
      " * Parametric: no\n",
      " * Diagonal  : no\n",
      " * Matrix\n",
      "(0,0) (1,0)\n",
      "(1,0) (0,0)\n",
      "\n"
     ]
    }
   ],
   "source": [
    "from qulacs.gate import X, to_matrix_gate\n",
    "gate = X(0)\n",
    "print(gate)\n",
    "print(to_matrix_gate(gate))"
   ]
  },
  {
   "cell_type": "code",
   "execution_count": 35,
   "id": "cc3fcc70",
   "metadata": {},
   "outputs": [
    {
     "name": "stdout",
     "output_type": "stream",
     "text": [
      " *** gate info *** \n",
      " * gate name : DenseMatrix\n",
      " * target    : \n",
      " 0 : commute       \n",
      " * control   : \n",
      " * Pauli     : no\n",
      " * Clifford  : no\n",
      " * Gaussian  : no\n",
      " * Parametric: no\n",
      " * Diagonal  : no\n",
      " * Matrix\n",
      "(0,0) (1,0)\n",
      "(1,0) (0,0)\n",
      "\n",
      " *** gate info *** \n",
      " * gate name : DenseMatrix\n",
      " * target    : \n",
      " 0 : commute       \n",
      " 1 : commute       \n",
      " * control   : \n",
      " * Pauli     : no\n",
      " * Clifford  : no\n",
      " * Gaussian  : no\n",
      " * Parametric: no\n",
      " * Diagonal  : no\n",
      " * Matrix\n",
      "(1,0) (0,0) (0,0) (0,0)\n",
      "(0,0) (1,0) (0,0) (0,0)\n",
      "(0,0) (0,0) (0,0) (1,0)\n",
      "(0,0) (0,0) (1,0) (0,0)\n",
      "\n"
     ]
    }
   ],
   "source": [
    "from qulacs.gate import DenseMatrix\n",
    "\n",
    "# 1-qubit gateの場合\n",
    "gate = DenseMatrix(0, [[0,1],[1,0]])\n",
    "print(gate)\n",
    "\n",
    "# 2-qubit gateの場合\n",
    "gate = DenseMatrix([0,1], [[1,0,0,0],[0,1,0,0],[0,0,0,1],[0,0,1,0]])\n",
    "print(gate)"
   ]
  },
  {
   "cell_type": "code",
   "execution_count": 36,
   "id": "70b6d0d4",
   "metadata": {},
   "outputs": [
    {
     "name": "stdout",
     "output_type": "stream",
     "text": [
      "[ 0.1767767+0.j -0.1767767-0.j -0.1767767-0.j  0.1767767+0.j\n",
      " -0.1767767-0.j  0.1767767+0.j  0.1767767+0.j -0.1767767-0.j\n",
      " -0.1767767-0.j  0.1767767+0.j  0.1767767+0.j -0.1767767-0.j\n",
      "  0.1767767+0.j -0.1767767-0.j -0.1767767-0.j  0.1767767+0.j\n",
      " -0.1767767-0.j  0.1767767+0.j  0.1767767+0.j -0.1767767-0.j\n",
      "  0.1767767+0.j -0.1767767-0.j -0.1767767-0.j  0.1767767+0.j\n",
      "  0.1767767+0.j -0.1767767-0.j -0.1767767-0.j  0.1767767+0.j\n",
      " -0.1767767-0.j  0.1767767+0.j  0.1767767+0.j -0.1767767-0.j]\n"
     ]
    }
   ],
   "source": [
    "from qulacs import QuantumState, QuantumCircuit\n",
    "from qulacs.gate import Z\n",
    "n = 5\n",
    "state = QuantumState(n)\n",
    "state.set_zero_state()\n",
    "\n",
    "# 量子回路を定義\n",
    "circuit = QuantumCircuit(n)\n",
    "\n",
    "# 量子回路にhadamardゲートを追加\n",
    "for i in range(n):\n",
    "    circuit.add_H_gate(i)\n",
    "\n",
    "# ゲートを生成し、それを追加することもできる。\n",
    "for i in range(n):\n",
    "    circuit.add_gate(Z(i))\n",
    "\n",
    "# 量子回路を状態に作用\n",
    "circuit.update_quantum_state(state)\n",
    "\n",
    "print(state.get_vector())"
   ]
  },
  {
   "cell_type": "code",
   "execution_count": 37,
   "id": "848dd506",
   "metadata": {},
   "outputs": [
    {
     "name": "stdout",
     "output_type": "stream",
     "text": [
      "10\n",
      "1\n"
     ]
    }
   ],
   "source": [
    "from qulacs import QuantumCircuit\n",
    "from qulacs.circuit import QuantumCircuitOptimizer\n",
    "n = 5\n",
    "depth = 10\n",
    "circuit = QuantumCircuit(n)\n",
    "for d in range(depth):\n",
    "    for i in range(n):\n",
    "        circuit.add_H_gate(i)\n",
    "\n",
    "# depthを計算(depth=10)\n",
    "print(circuit.calculate_depth())\n",
    "\n",
    "# 最適化\n",
    "opt = QuantumCircuitOptimizer()\n",
    "# 作成を許す最大の量子ゲートのサイズ\n",
    "max_block_size = 1\n",
    "opt.optimize(circuit, max_block_size)\n",
    "\n",
    "# depthを計算(depth=1へ)\n",
    "print(circuit.calculate_depth())"
   ]
  },
  {
   "cell_type": "code",
   "execution_count": 38,
   "id": "b0f8a89b",
   "metadata": {},
   "outputs": [
    {
     "name": "stdout",
     "output_type": "stream",
     "text": [
      "*** Quantum Circuit Info ***\n",
      "# of qubit: 5\n",
      "# of step : 10\n",
      "# of gate : 50\n",
      "# of 1 qubit gate: 50\n",
      "Clifford  : yes\n",
      "Gaussian  : no\n",
      "\n",
      "\n"
     ]
    }
   ],
   "source": [
    "from qulacs import QuantumCircuit\n",
    "from qulacs.circuit import QuantumCircuitOptimizer\n",
    "n = 5\n",
    "depth = 10\n",
    "circuit = QuantumCircuit(n)\n",
    "for d in range(depth):\n",
    "    for i in range(n):\n",
    "        circuit.add_H_gate(i)\n",
    "print(circuit)"
   ]
  },
  {
   "cell_type": "code",
   "execution_count": 40,
   "id": "e6ed458d",
   "metadata": {},
   "outputs": [
    {
     "name": "stdout",
     "output_type": "stream",
     "text": [
      "-0.2664721744934183\n"
     ]
    }
   ],
   "source": [
    "from qulacs import Observable\n",
    "n = 5\n",
    "coef = 2.0\n",
    "# 2.0 X_0 X_1 Y_2 Z_4というパウリ演算子を設定\n",
    "Pauli_string = \"X 0 X 1 Y 2 Z 4\"\n",
    "observable = Observable(n)\n",
    "observable.add_operator(coef,Pauli_string)\n",
    "\n",
    "state = QuantumState(n)\n",
    "state.set_Haar_random_state()\n",
    "# 期待値の計算\n",
    "value = observable.get_expectation_value(state)\n",
    "print(value)"
   ]
  },
  {
   "cell_type": "code",
   "execution_count": 42,
   "id": "be5b2522",
   "metadata": {},
   "outputs": [
    {
     "name": "stdout",
     "output_type": "stream",
     "text": [
      " *** Quantum State ***\n",
      " * Qubit Count : 5\n",
      " * Dimension   : 32\n",
      " * State vector : \n",
      "  (0.139431,-0.0187884)\n",
      "  (0.0322392,0.0272609)\n",
      "   (0.0197192,-0.10808)\n",
      "   (0.26607,-0.0177267)\n",
      "  (0.0775783,-0.205942)\n",
      "  (0.0516534,-0.104577)\n",
      " (-0.0772285,0.0630839)\n",
      "   (0.192015,0.0152311)\n",
      "  (-0.0987815,0.193603)\n",
      "  (0.0505609,0.0758409)\n",
      "   (0.318205,-0.138135)\n",
      "  (0.0110737,0.0808914)\n",
      "    (0.152159,0.114314)\n",
      "  (-0.212629,-0.266457)\n",
      "    (0.199266,0.111633)\n",
      " (0.0414369,-0.0298877)\n",
      "   (0.0837046,0.275615)\n",
      "    (0.177228,0.020427)\n",
      "  (0.267305,-0.0984091)\n",
      " (-0.0553947,0.0945914)\n",
      "   (0.186981,0.0311322)\n",
      " (0.0697373,-0.0574076)\n",
      " (-0.108959,-0.0277864)\n",
      "  (0.0832029,0.0509784)\n",
      " (0.0047633,-0.0968305)\n",
      "  (0.0651611,-0.057217)\n",
      "(-0.194986,-0.00966256)\n",
      " (-0.0836572,0.0013563)\n",
      " (0.0354496,-0.0986222)\n",
      "  (-0.0287617,0.156065)\n",
      "  (0.0746261,0.0421233)\n",
      " (-0.0962534,-0.085985)\n",
      "\n",
      "*** Quantum Circuit Info ***\n",
      "# of qubit: 5\n",
      "# of step : 41\n",
      "# of gate : 171\n",
      "# of 1 qubit gate: 150\n",
      "# of 2 qubit gate: 20\n",
      "# of 3 qubit gate: 0\n",
      "# of 4 qubit gate: 1\n",
      "Clifford  : no\n",
      "Gaussian  : no\n",
      "\n",
      "*** Parameter Info ***\n",
      "# of parameter: 151\n",
      "\n",
      "[0.5096787921328512, 0.8245499128036466, 0.19658574651187222, 0.6528311504329338, 0.21398665774460823, 0.7641003383116078, 0.41252815913554053, 0.5175981903104928, 0.14243507783330367, 0.6515224124640303, 0.5636844148266336, 0.1421410970659699, 0.9793727210041696, 0.5566352136948486, 0.5645254776169643, 0.4761056705101251, 0.5538192439663626, 0.2926929463827517, 0.060322584841354665, 0.44362364280916466, 0.5547677737148615, 0.8156989081161031, 0.9887159391557852, 0.43865574451162404, 0.07098165394253919, 0.12620561576628908, 0.9929923676918592, 0.5871035817558391, 0.5150084421215073, 0.18770209269537985, 0.1677946698560634, 0.27678048217859574, 0.6487410544050249, 0.5963824528060666, 0.9181249860785309, 0.4929670619241031, 0.5184988266418922, 0.8677319309033885, 0.6905459540549975, 0.3349381645266801, 0.5107458199022884, 0.6246216534175608, 0.2945074774846056, 0.1783732247512324, 0.1675183178035342, 0.6314955385943367, 0.770694672845511, 0.5774196661931469, 0.6415538975985764, 0.7120865232045162, 0.4735443579191223, 0.9026222812541185, 0.4799177851466484, 0.9318483396804044, 0.43890703129216024, 0.27450892551065, 0.16201015271351515, 0.42360742861799916, 0.5032904199401443, 0.5271192912975305, 0.10343181115852673, 0.08121279070569798, 0.18957808367405693, 0.4576325872463911, 0.35740981311044007, 0.8623224960821395, 0.27236223130689197, 0.6680333549816464, 0.4515170714578819, 0.908978779016878, 0.7474464973047424, 0.07410019840293958, 0.57741622261345, 0.9044066432809712, 0.4363254379106727, 0.9903221030141407, 0.3792333014891538, 0.522429621371564, 0.7298695298145664, 0.027621244021308167, 0.3738235928578765, 0.3565220826087162, 0.771931381346357, 0.34579434432460543, 0.23892599278857884, 0.9900063269767292, 0.07909536395133154, 0.4971707866917614, 0.9853034190238326, 0.29002285389047544, 0.9785921890339281, 0.7962334708286066, 0.42703062653552093, 0.4851963138701524, 0.3245939025799607, 0.8564025178490616, 0.5713619752841701, 0.9886765189957459, 0.25098570010058674, 0.38595918488412195, 0.45895004783827986, 0.44259738135181237, 0.4069154629666346, 0.7453128486877199, 0.2491053802001858, 0.5530380973196937, 0.1346339337475818, 0.2485887320051634, 0.34676633672618085, 0.26802365674422957, 0.6281310141083511, 0.42069496120667094, 0.6891426567097625, 0.7023448208959304, 0.694978979509178, 0.32519385248154153, 0.57470823701991, 0.6089850706817231, 0.636712136002403, 0.2964051739759126, 0.11273805321740937, 0.3550960290192072, 0.3498185073648785, 0.5576003121597958, 0.7244898156356687, 0.764659516014934, 0.08361985098615621, 0.42029811892917013, 0.9419562650380885, 0.14019873873410404, 0.7339054472154658, 0.8799125564835729, 0.02568192672810521, 0.29460424241637717, 0.6886472940634081, 0.6202302754331921, 0.8965138954565216, 0.14786551252777436, 0.4426872333721613, 0.1676969927378822, 0.44152929678835495, 0.48439406981948774, 0.6920953985510354, 0.11324060113937962, 0.17597809581994006, 0.47680510990692127, 0.11390998715305489, 0.03880896197924233, 0.24810144206121654, 0.9879359612451133, 0.04446694794388961]\n"
     ]
    }
   ],
   "source": [
    "from qulacs import ParametricQuantumCircuit\n",
    "from qulacs import QuantumState\n",
    "import numpy as np\n",
    "\n",
    "n = 5\n",
    "depth = 10\n",
    "\n",
    "# construct parametric quantum circuit with random rotation\n",
    "circuit = ParametricQuantumCircuit(n)\n",
    "for d in range(depth):\n",
    "    for i in range(n):\n",
    "            angle = np.random.rand()\n",
    "            circuit.add_parametric_RX_gate(i,angle)\n",
    "            angle = np.random.rand()\n",
    "            circuit.add_parametric_RY_gate(i,angle)\n",
    "            angle = np.random.rand()\n",
    "            circuit.add_parametric_RZ_gate(i,angle)\n",
    "    for i in range(d%2, n-1, 2):\n",
    "            circuit.add_CNOT_gate(i,i+1)\n",
    "\n",
    "# add multi-qubit Pauli rotation gate as parametric gate (X_0 Y_3 Y_1 X_4)\n",
    "target = [0,3,1,4]\n",
    "pauli_ids = [1,2,2,1]\n",
    "angle = np.random.rand()\n",
    "circuit.add_parametric_multi_Pauli_rotation_gate(target, pauli_ids, angle)\n",
    "\n",
    "# get variable parameter count, and get current parameter\n",
    "parameter_count = circuit.get_parameter_count()\n",
    "param = [circuit.get_parameter(ind) for ind in range(parameter_count)]\n",
    "\n",
    "# set 3rd parameter to 0\n",
    "circuit.set_parameter(3, 0.)\n",
    "\n",
    "# update quantum state\n",
    "state = QuantumState(n)\n",
    "circuit.update_quantum_state(state)\n",
    "\n",
    "# output state and circuit info\n",
    "print(state)\n",
    "print(circuit)\n",
    "print(param)"
   ]
  }
 ],
 "metadata": {
  "kernelspec": {
   "display_name": "Python 3 (ipykernel)",
   "language": "python",
   "name": "python3"
  },
  "language_info": {
   "codemirror_mode": {
    "name": "ipython",
    "version": 3
   },
   "file_extension": ".py",
   "mimetype": "text/x-python",
   "name": "python",
   "nbconvert_exporter": "python",
   "pygments_lexer": "ipython3",
   "version": "3.8.12"
  }
 },
 "nbformat": 4,
 "nbformat_minor": 5
}
