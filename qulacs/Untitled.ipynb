{
 "cells": [
  {
   "cell_type": "code",
   "execution_count": 2,
   "id": "4297b32f",
   "metadata": {},
   "outputs": [
    {
     "name": "stdout",
     "output_type": "stream",
     "text": [
      "Requirement already satisfied: qulacs in /home/owarilabpc/.asdf/installs/python/3.10.6/lib/python3.10/site-packages (0.3.1)\n",
      "Reshimming asdf python...\n",
      "Collecting qulacsvis\n",
      "  Downloading qulacsvis-0.3.1-py3-none-any.whl (23 kB)\n",
      "Collecting temp<2021.0.0,>=2020.7.2\n",
      "  Downloading temp-2020.7.2.tar.gz (1.4 kB)\n",
      "  Preparing metadata (setup.py) ... \u001b[?25ldone\n",
      "\u001b[?25hRequirement already satisfied: matplotlib<4.0.0,>=3.4.3 in /home/owarilabpc/.asdf/installs/python/3.10.6/lib/python3.10/site-packages (from qulacsvis) (3.5.3)\n",
      "Requirement already satisfied: Pillow<10.0.0,>=9.1.0 in /home/owarilabpc/.asdf/installs/python/3.10.6/lib/python3.10/site-packages (from qulacsvis) (9.2.0)\n",
      "Requirement already satisfied: scipy<2.0.0,>=1.9.1 in /home/owarilabpc/.asdf/installs/python/3.10.6/lib/python3.10/site-packages (from qulacsvis) (1.9.1)\n",
      "Collecting Qulacs>=0.5.0\n",
      "  Downloading qulacs-0.5.0-cp310-cp310-manylinux_2_17_x86_64.manylinux2014_x86_64.whl (688 kB)\n",
      "\u001b[2K     \u001b[38;2;114;156;31m━━━━━━━━━━━━━━━━━━━━━━━━━━━━━━━━━━━━━━━\u001b[0m \u001b[32m688.2/688.2 kB\u001b[0m \u001b[31m8.6 MB/s\u001b[0m eta \u001b[36m0:00:00\u001b[0mm eta \u001b[36m0:00:01\u001b[0m0:01\u001b[0m\n",
      "\u001b[?25hRequirement already satisfied: numpy<2.0.0,>=1.22.0 in /home/owarilabpc/.asdf/installs/python/3.10.6/lib/python3.10/site-packages (from qulacsvis) (1.23.2)\n",
      "Requirement already satisfied: kiwisolver>=1.0.1 in /home/owarilabpc/.asdf/installs/python/3.10.6/lib/python3.10/site-packages (from matplotlib<4.0.0,>=3.4.3->qulacsvis) (1.4.4)\n",
      "Requirement already satisfied: packaging>=20.0 in /home/owarilabpc/.asdf/installs/python/3.10.6/lib/python3.10/site-packages (from matplotlib<4.0.0,>=3.4.3->qulacsvis) (21.3)\n",
      "Requirement already satisfied: python-dateutil>=2.7 in /home/owarilabpc/.asdf/installs/python/3.10.6/lib/python3.10/site-packages (from matplotlib<4.0.0,>=3.4.3->qulacsvis) (2.8.2)\n",
      "Requirement already satisfied: pyparsing>=2.2.1 in /home/owarilabpc/.asdf/installs/python/3.10.6/lib/python3.10/site-packages (from matplotlib<4.0.0,>=3.4.3->qulacsvis) (3.0.9)\n",
      "Requirement already satisfied: fonttools>=4.22.0 in /home/owarilabpc/.asdf/installs/python/3.10.6/lib/python3.10/site-packages (from matplotlib<4.0.0,>=3.4.3->qulacsvis) (4.37.1)\n",
      "Requirement already satisfied: cycler>=0.10 in /home/owarilabpc/.asdf/installs/python/3.10.6/lib/python3.10/site-packages (from matplotlib<4.0.0,>=3.4.3->qulacsvis) (0.11.0)\n",
      "Requirement already satisfied: six>=1.5 in /home/owarilabpc/.asdf/installs/python/3.10.6/lib/python3.10/site-packages (from python-dateutil>=2.7->matplotlib<4.0.0,>=3.4.3->qulacsvis) (1.16.0)\n",
      "Using legacy 'setup.py install' for temp, since package 'wheel' is not installed.\n",
      "Installing collected packages: temp, Qulacs, qulacsvis\n",
      "  Running setup.py install for temp ... \u001b[?25ldone\n",
      "\u001b[?25h  Attempting uninstall: Qulacs\n",
      "    Found existing installation: Qulacs 0.3.1\n",
      "    Uninstalling Qulacs-0.3.1:\n",
      "      Successfully uninstalled Qulacs-0.3.1\n",
      "Successfully installed Qulacs-0.5.0 qulacsvis-0.3.1 temp-2020.7.2\n",
      "Reshimming asdf python...\n",
      "Requirement already satisfied: matplotlib in /home/owarilabpc/.asdf/installs/python/3.10.6/lib/python3.10/site-packages (3.5.3)\n",
      "Requirement already satisfied: python-dateutil>=2.7 in /home/owarilabpc/.asdf/installs/python/3.10.6/lib/python3.10/site-packages (from matplotlib) (2.8.2)\n",
      "Requirement already satisfied: cycler>=0.10 in /home/owarilabpc/.asdf/installs/python/3.10.6/lib/python3.10/site-packages (from matplotlib) (0.11.0)\n",
      "Requirement already satisfied: numpy>=1.17 in /home/owarilabpc/.asdf/installs/python/3.10.6/lib/python3.10/site-packages (from matplotlib) (1.23.2)\n",
      "Requirement already satisfied: pillow>=6.2.0 in /home/owarilabpc/.asdf/installs/python/3.10.6/lib/python3.10/site-packages (from matplotlib) (9.2.0)\n",
      "Requirement already satisfied: pyparsing>=2.2.1 in /home/owarilabpc/.asdf/installs/python/3.10.6/lib/python3.10/site-packages (from matplotlib) (3.0.9)\n",
      "Requirement already satisfied: kiwisolver>=1.0.1 in /home/owarilabpc/.asdf/installs/python/3.10.6/lib/python3.10/site-packages (from matplotlib) (1.4.4)\n",
      "Requirement already satisfied: packaging>=20.0 in /home/owarilabpc/.asdf/installs/python/3.10.6/lib/python3.10/site-packages (from matplotlib) (21.3)\n",
      "Requirement already satisfied: fonttools>=4.22.0 in /home/owarilabpc/.asdf/installs/python/3.10.6/lib/python3.10/site-packages (from matplotlib) (4.37.1)\n",
      "Requirement already satisfied: six>=1.5 in /home/owarilabpc/.asdf/installs/python/3.10.6/lib/python3.10/site-packages (from python-dateutil>=2.7->matplotlib) (1.16.0)\n",
      "Reshimming asdf python...\n",
      "Requirement already satisfied: numpy in /home/owarilabpc/.asdf/installs/python/3.10.6/lib/python3.10/site-packages (1.23.2)\n",
      "Reshimming asdf python...\n",
      "Requirement already satisfied: scipy in /home/owarilabpc/.asdf/installs/python/3.10.6/lib/python3.10/site-packages (1.9.1)\n",
      "Requirement already satisfied: numpy<1.25.0,>=1.18.5 in /home/owarilabpc/.asdf/installs/python/3.10.6/lib/python3.10/site-packages (from scipy) (1.23.2)\n",
      "Reshimming asdf python...\n"
     ]
    }
   ],
   "source": [
    "!pip install qulacs\n",
    "!pip install qulacsvis\n",
    "!pip install matplotlib\n",
    "!pip install numpy\n",
    "!pip install scipy"
   ]
  },
  {
   "cell_type": "code",
   "execution_count": 91,
   "id": "5f06fe51",
   "metadata": {},
   "outputs": [],
   "source": [
    "import matplotlib.pyplot as plt\n",
    "import numpy as np\n",
    "from qulacs import Observable, QuantumState, PauliOperator, QuantumCircuit, ParametricQuantumCircuit, DensityMatrix\n",
    "from qulacs.gate import  Identity,X, Y, H, Z, S, Sdag, DepolarizingNoise, DephasingNoise, AmplitudeDampingNoise, TwoQubitDepolarizingNoise"
   ]
  },
  {
   "cell_type": "code",
   "execution_count": 92,
   "id": "96ce7f88",
   "metadata": {},
   "outputs": [],
   "source": [
    "#１次元横磁場イジング模型のハミルトニアンを定義\n",
    "n_qubits = 4\n",
    "transverse_Ising_hamiltonian = Observable(n_qubits)\n",
    "J = 1.0\n",
    "h = 1.0\n",
    "for i in range(n_qubits):\n",
    "    if i == n_qubits - 1:\n",
    "        continue\n",
    "    transverse_Ising_hamiltonian.add_operator(J, f\"Z {i} Z {(i+1)%n_qubits}\")\n",
    "    transverse_Ising_hamiltonian.add_operator(h, f\"X {i}\")"
   ]
  },
  {
   "cell_type": "code",
   "execution_count": 93,
   "id": "33ddabb8",
   "metadata": {},
   "outputs": [
    {
     "data": {
      "image/png": "[encoded data removed]",
      "text/plain": [
       "<Figure size 1425.6x367.2 with 1 Axes>"
      ]
     },
     "metadata": {},
     "output_type": "display_data"
    }
   ],
   "source": [
    "## まずはエラーなしの場合\n",
    "from qulacsvis import circuit_drawer\n",
    "from scipy.optimize import minimize\n",
    "\n",
    "#状態ベクトル、ansatz回路を定義\n",
    "n_qubits = 4\n",
    "state = QuantumState(n_qubits)\n",
    "circuit_depth = 4\n",
    "circuit = ParametricQuantumCircuit(n_qubits)\n",
    "\n",
    "#ansatz回路を指定\n",
    "def Circuit(n_qubits,circuit_depth):\n",
    "    circuit = ParametricQuantumCircuit(n_qubits)\n",
    "    for d in range(circuit_depth):\n",
    "        for i in range(n_qubits):\n",
    "            circuit.add_parametric_RY_gate(i, 0.0)\n",
    "        for i in range(n_qubits):\n",
    "            circuit.add_CZ_gate(i, (i+1)%n_qubits)\n",
    "    return circuit\n",
    "circuit = Circuit(n_qubits,circuit_depth)\n",
    "params = np.zeros(circuit.get_parameter_count())\n",
    "\n",
    "#ansatz回路を表示\n",
    "circuit_drawer(circuit, \"mpl\")"
   ]
  },
  {
   "cell_type": "code",
   "execution_count": 94,
   "id": "057bb889",
   "metadata": {},
   "outputs": [],
   "source": [
    "def get_cost(params):\n",
    "    state = QuantumState(n_qubits)\n",
    "    for i, p in enumerate(params):\n",
    "        circuit.set_parameter(i,p)\n",
    "    circuit.update_quantum_state(state)\n",
    "    return transverse_Ising_hamiltonian.get_expectation_value(state)"
   ]
  },
  {
   "cell_type": "code",
   "execution_count": 95,
   "id": "6f37eda5",
   "metadata": {},
   "outputs": [
    {
     "name": "stdout",
     "output_type": "stream",
     "text": [
      "-4.026207469740617\n"
     ]
    }
   ],
   "source": [
    "#上で定義したansatz回路のもとで、コスト関数を最小化する。\n",
    "params_initial = np.zeros_like(params)\n",
    "minimized_costfunction = minimize(get_cost, params_initial, options={'maxiter':50, \"gtol\": 1e-6}, method='BFGS')\n",
    "\n",
    "#コスト関数の最小値を表示\n",
    "print(minimized_costfunction.fun)"
   ]
  },
  {
   "cell_type": "code",
   "execution_count": 96,
   "id": "01c2e1d7",
   "metadata": {},
   "outputs": [],
   "source": [
    "params_true = minimized_costfunction.x"
   ]
  },
  {
   "cell_type": "code",
   "execution_count": 97,
   "id": "afa84e90",
   "metadata": {},
   "outputs": [],
   "source": [
    "## 次にdepolarizing noiseありの場合（１次元横磁場イジング模型）\n",
    "\n",
    "#密度演算子、ansatz回路を定義\n",
    "density_state = DensityMatrix(n_qubits)\n",
    "noisy_circuit = ParametricQuantumCircuit(n_qubits)\n",
    "error_rate = 0.01\n",
    "\n",
    "#ansatz回路を指定\n",
    "def NoisyCircuit(error_rate):\n",
    "    noisy_circuit = ParametricQuantumCircuit(n_qubits)\n",
    "    for d in range(circuit_depth):\n",
    "        for i in range(n_qubits):\n",
    "            noisy_circuit.add_parametric_RY_gate(i, 0.0)\n",
    "            noisy_circuit.add_gate(DepolarizingNoise(i, error_rate))\n",
    "        for i in range(n_qubits):\n",
    "            noisy_circuit.add_CZ_gate(i, (i+1)%n_qubits)\n",
    "            noisy_circuit.add_gate(DepolarizingNoise(i, error_rate))\n",
    "            noisy_circuit.add_gate(DepolarizingNoise((i+1)%n_qubits, error_rate))\n",
    "    return noisy_circuit\n",
    "\n",
    "noisy_circuit = NoisyCircuit(error_rate)"
   ]
  },
  {
   "cell_type": "code",
   "execution_count": 98,
   "id": "abf2a5c5",
   "metadata": {},
   "outputs": [],
   "source": [
    "#コスト関数を定義。ここではエネルギー期待値がコスト関数。\n",
    "def noisy_get_cost(params):\n",
    "    density_state = DensityMatrix(n_qubits)\n",
    "    for i, p in enumerate(params):\n",
    "        noisy_circuit.set_parameter(i,p)\n",
    "    noisy_circuit.update_quantum_state(density_state)\n",
    "    return transverse_Ising_hamiltonian.get_expectation_value(density_state)"
   ]
  },
  {
   "cell_type": "code",
   "execution_count": 99,
   "id": "0bf43b26",
   "metadata": {},
   "outputs": [
    {
     "name": "stdout",
     "output_type": "stream",
     "text": [
      "-4.026207469740617\n",
      "-2.8715447717199116\n"
     ]
    }
   ],
   "source": [
    "#エラーなし、エラーありの場合で期待値を計算\n",
    "minimized_costfunction_noiseless = get_cost(params_true)\n",
    "minimized_costfunction_noise = noisy_get_cost(params_true)\n",
    "\n",
    "#コスト関数の最小値を表示\n",
    "print(minimized_costfunction_noiseless)\n",
    "print(minimized_costfunction_noise)"
   ]
  },
  {
   "cell_type": "code",
   "execution_count": 100,
   "id": "b34876bc",
   "metadata": {},
   "outputs": [],
   "source": [
    "def get_cost_sampling(shots,params):\n",
    "    density_state = DensityMatrix(n_qubits)\n",
    "    noisy_circuit = NoisyCircuit(error_rate)\n",
    "    for i, p in enumerate(params):\n",
    "        noisy_circuit.set_parameter(i,p)\n",
    "    noisy_circuit.update_quantum_state(density_state)\n",
    "    density_copy_ZZ = DensityMatrix(n_qubits)\n",
    "    density_copy_X = DensityMatrix(n_qubits)\n",
    "    density_copy_ZZ = density_state.copy()\n",
    "    density_copy_X = density_state.copy()\n",
    "    mask_list_ZZ = [0b1100,0b0110,0b0011,0b1001]\n",
    "    mask_list_X = [0b1000,0b0100,0b0010,0b0001]\n",
    "    for i in range(n_qubits):\n",
    "        gate = H(i)\n",
    "        gate.update_quantum_state(density_copy_X)\n",
    "    noise_sampling_ZZ = density_copy_ZZ.sampling(shots)\n",
    "    noise_sampling_X = density_copy_X.sampling(shots)\n",
    "    estimated_ZZ_average = 0.0\n",
    "    estimated_X_average = 0.0\n",
    "    for s in noise_sampling_ZZ:\n",
    "        for mask in mask_list_ZZ:\n",
    "            bitcount = bin(s & mask).count(\"1\")\n",
    "            estimated_ZZ_average += (-1)**bitcount/shots\n",
    "    for s in noise_sampling_X:\n",
    "        for mask in mask_list_X:\n",
    "            bitcount = bin(s & mask).count(\"1\")\n",
    "            estimated_X_average += (-1)**bitcount/shots\n",
    "    data_sampling_average = h * estimated_X_average + J * estimated_ZZ_average\n",
    "    return data_sampling_average"
   ]
  },
  {
   "cell_type": "code",
   "execution_count": 101,
   "id": "e4025933",
   "metadata": {},
   "outputs": [],
   "source": [
    "#エラー率を固定して、ヒストグラムを作成\n",
    "error_rate = 0.01\n",
    "n_test = 300\n",
    "shots = 1000\n",
    "no_mitigation_list = np.zeros(n_test)\n",
    "\n",
    "for i in range(n_test):\n",
    "    density_state = DensityMatrix(n_qubits)\n",
    "    noisy_circuit = NoisyCircuit(error_rate)\n",
    "    no_mitigation_list[i] = get_cost_sampling(shots,params_true)\n",
    "expec_value = noisy_get_cost(params_true)\n",
    "\n"
   ]
  },
  {
   "cell_type": "code",
   "execution_count": 102,
   "id": "01118f5f",
   "metadata": {},
   "outputs": [
    {
     "data": {
      "image/png": "[encoded data removed]",
      "text/plain": [
       "<Figure size 640x480 with 1 Axes>"
      ]
     },
     "metadata": {},
     "output_type": "display_data"
    }
   ],
   "source": [
    "plt.hist(no_mitigation_list, alpha=0.2, bins=20, label=f\"no mitigation\")\n",
    "plt.axvline(expec_value, color=\"black\")\n",
    "plt.axvline(get_cost(params_true), color=\"red\")\n",
    "plt.legend(loc=\"upper left\", fontsize=13)\n",
    "plt.show()"
   ]
  },
  {
   "cell_type": "code",
   "execution_count": null,
   "id": "0c8f9661",
   "metadata": {},
   "outputs": [],
   "source": []
  }
 ],
 "metadata": {
  "kernelspec": {
   "display_name": "Python 3 (ipykernel)",
   "language": "python",
   "name": "python3"
  },
  "language_info": {
   "codemirror_mode": {
    "name": "ipython",
    "version": 3
   },
   "file_extension": ".py",
   "mimetype": "text/x-python",
   "name": "python",
   "nbconvert_exporter": "python",
   "pygments_lexer": "ipython3",
   "version": "3.10.6"
  }
 },
 "nbformat": 4,
 "nbformat_minor": 5
}
