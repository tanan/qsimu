{
 "cells": [
  {
   "cell_type": "code",
   "execution_count": 6,
   "id": "6994e202",
   "metadata": {},
   "outputs": [],
   "source": [
    "from magnetic_field import *\n",
    "from utils import *\n",
    "import matplotlib.pyplot as plt\n",
    "import matplotlib.cm as cm\n",
    "\n",
    "exact_value = -8.56677223\n",
    "bn_list = create_bn_list(7)"
   ]
  },
  {
   "cell_type": "code",
   "execution_count": 8,
   "id": "67395602",
   "metadata": {},
   "outputs": [],
   "source": [
    "def get_csv(results):\n",
    "    for result in results:\n",
    "        if result == None:\n",
    "            continue\n",
    "        print(\"%s,%s,%s,%s,%s,%s,%s,%s,%s,%s,%s,%s,%s\" % (result[\"method\"], result[\"depth\"], result[\"bn_type\"], result[\"bn_range\"], result[\"bn_value\"], result[\"cost\"][\"min\"], result[\"cost\"][\"max\"], result[\"cost\"][\"mean\"], result[\"cost\"][\"std\"], result[\"iter\"][\"min\"], result[\"iter\"][\"max\"], result[\"iter\"][\"mean\"], result[\"iter\"][\"std\"]))\n",
    "\n",
    "def run(method, nqubit, depth_list, t_type, t_min, t_max):\n",
    "    results = []\n",
    "    for depth in depth_list:\n",
    "        result = getResult(nqubit, depth, method, t_type, t_min, t_max)\n",
    "        if result == None:\n",
    "            continue\n",
    "        results.append(result)\n",
    "    return results"
   ]
  },
  {
   "cell_type": "code",
   "execution_count": 13,
   "id": "de704e65",
   "metadata": {},
   "outputs": [],
   "source": [
    "vqe_results = []\n",
    "nqubit = 7\n",
    "method = 'indirect_xy'\n",
    "depth_list = [12,16,20,24]\n",
    "vqe_results.extend(run(method, nqubit, depth_list, 'random', -1, 1))\n",
    "\n",
    "get_csv(vqe_results)"
   ]
  },
  {
   "cell_type": "code",
   "execution_count": null,
   "id": "7101986d",
   "metadata": {},
   "outputs": [],
   "source": []
  }
 ],
 "metadata": {
  "kernelspec": {
   "display_name": "Python 3 (ipykernel)",
   "language": "python",
   "name": "python3"
  },
  "language_info": {
   "codemirror_mode": {
    "name": "ipython",
    "version": 3
   },
   "file_extension": ".py",
   "mimetype": "text/x-python",
   "name": "python",
   "nbconvert_exporter": "python",
   "pygments_lexer": "ipython3",
   "version": "3.8.12"
  }
 },
 "nbformat": 4,
 "nbformat_minor": 5
}
