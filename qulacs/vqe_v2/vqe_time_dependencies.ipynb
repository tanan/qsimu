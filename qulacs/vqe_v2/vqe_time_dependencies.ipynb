{
 "cells": [
  {
   "cell_type": "code",
   "execution_count": 1,
   "id": "6994e202",
   "metadata": {},
   "outputs": [],
   "source": [
    "from magnetic_field import *\n",
    "from utils import *\n",
    "import matplotlib.pyplot as plt\n",
    "import matplotlib.cm as cm\n",
    "\n",
    "exact_value = -8.56677223\n",
    "bn_list = create_bn_list(7)"
   ]
  },
  {
   "cell_type": "code",
   "execution_count": 6,
   "id": "67395602",
   "metadata": {},
   "outputs": [],
   "source": [
    "def get_csv(results):\n",
    "    for result in results:\n",
    "        if result == None:\n",
    "            continue\n",
    "        print(\"%s,%s,%s,%s,%s,%s,%s,%s,%s,%s,%s,%s,%s\" % (result[\"method\"], result[\"depth\"], result[\"t_type\"], result[\"t_min\"], result[\"t_max\"], result[\"cost\"][\"min\"], result[\"cost\"][\"max\"], result[\"cost\"][\"mean\"], result[\"cost\"][\"std\"], result[\"iter\"][\"min\"], result[\"iter\"][\"max\"], result[\"iter\"][\"mean\"], result[\"iter\"][\"std\"]))\n",
    "\n",
    "def run(method, nqubit, depth_list, t_type, t_min, t_max):\n",
    "    results = []\n",
    "    for depth in depth_list:\n",
    "        result = getResultByTime(nqubit, depth, method, t_type, t_min, t_max)\n",
    "        if result == None:\n",
    "            continue\n",
    "        results.append(result)\n",
    "    return results"
   ]
  },
  {
   "cell_type": "code",
   "execution_count": 9,
   "id": "de704e65",
   "metadata": {},
   "outputs": [
    {
     "name": "stdout",
     "output_type": "stream",
     "text": [
      "indirect_xy,12,random,0,2,-8.031592447410617,-7.119521868084644,-7.6425840918178904,0.2831025358143701,8056.0,22893.0,13646.4,5169.087911808039\n",
      "indirect_xy,16,random,0,2,-8.294818728070775,-7.2776155531089834,-7.978272247920643,0.35147282987257666,16062.0,42483.0,26568.3,7942.907377654607\n",
      "indirect_xy,20,random,0,2,-8.403089036605621,-7.378876131007761,-8.003819717183926,0.31948045889298554,20596.0,102128.0,46924.0,24165.99718199106\n",
      "indirect_xy,24,random,0,2,-8.41311008509324,-7.856094601781748,-8.176915936133778,0.19843712517376608,18041.0,61257.0,42771.7,12728.345179558888\n"
     ]
    }
   ],
   "source": [
    "vqe_results = []\n",
    "nqubit = 7\n",
    "method = 'indirect_xy'\n",
    "depth_list = [12,16,20,24]\n",
    "vqe_results.extend(run(method, nqubit, depth_list, 'random', 0, 2))\n",
    "\n",
    "get_csv(vqe_results)"
   ]
  },
  {
   "cell_type": "code",
   "execution_count": null,
   "id": "7101986d",
   "metadata": {},
   "outputs": [],
   "source": []
  }
 ],
 "metadata": {
  "kernelspec": {
   "display_name": "Python 3 (ipykernel)",
   "language": "python",
   "name": "python3"
  },
  "language_info": {
   "codemirror_mode": {
    "name": "ipython",
    "version": 3
   },
   "file_extension": ".py",
   "mimetype": "text/x-python",
   "name": "python",
   "nbconvert_exporter": "python",
   "pygments_lexer": "ipython3",
   "version": "3.8.12"
  }
 },
 "nbformat": 4,
 "nbformat_minor": 5
}
