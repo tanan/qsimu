{
 "cells": [
  {
   "cell_type": "code",
   "execution_count": 1,
   "id": "9e5117d2",
   "metadata": {},
   "outputs": [],
   "source": [
    "import qulacs\n",
    "from openfermion.transforms import get_fermion_operator, jordan_wigner\n",
    "from openfermion.linalg import get_sparse_operator #エラーが出る場合は openfermion を version 1.0.0 以上にしてみてください\n",
    "from openfermion.chem import MolecularData\n",
    "from openfermionpyscf import run_pyscf\n",
    "from scipy.optimize import minimize\n",
    "from pyscf import fci\n",
    "import numpy as np\n",
    "import matplotlib.pyplot as plt"
   ]
  },
  {
   "cell_type": "code",
   "execution_count": 2,
   "id": "6e5e9d3f",
   "metadata": {},
   "outputs": [],
   "source": [
    "basis = \"sto-3g\"\n",
    "multiplicity = 1\n",
    "charge = 0\n",
    "distance  = 0.977\n",
    "geometry = [[\"H\", [0,0,0]],[\"H\", [0,0,distance]]]\n",
    "description  = \"tmp\"\n",
    "molecule = MolecularData(geometry, basis, multiplicity, charge, description)\n",
    "molecule = run_pyscf(molecule,run_scf=1,run_fci=1)\n",
    "n_qubit = molecule.n_qubits\n",
    "n_electron = molecule.n_electrons\n",
    "fermionic_hamiltonian = get_fermion_operator(molecule.get_molecular_hamiltonian())\n",
    "jw_hamiltonian = jordan_wigner(fermionic_hamiltonian)"
   ]
  },
  {
   "cell_type": "code",
   "execution_count": 3,
   "id": "7a79a44d",
   "metadata": {},
   "outputs": [],
   "source": [
    "from qulacs import Observable\n",
    "from qulacs.observable import create_observable_from_openfermion_text\n",
    "qulacs_hamiltonian = create_observable_from_openfermion_text(str(jw_hamiltonian))"
   ]
  },
  {
   "cell_type": "code",
   "execution_count": 4,
   "id": "32b08572",
   "metadata": {},
   "outputs": [],
   "source": [
    "from qulacs import QuantumState, QuantumCircuit\n",
    "from qulacs.gate import CZ, RY, RZ, merge\n",
    "\n",
    "depth = n_qubit"
   ]
  },
  {
   "cell_type": "code",
   "execution_count": 5,
   "id": "69fdea3a",
   "metadata": {},
   "outputs": [],
   "source": [
    "def he_ansatz_circuit(n_qubit, depth, theta_list):\n",
    "    \"\"\"he_ansatz_circuit\n",
    "    Returns hardware efficient ansatz circuit.\n",
    "\n",
    "    Args:\n",
    "        n_qubit (:class:`int`):\n",
    "            the number of qubit used (equivalent to the number of fermionic modes)\n",
    "        depth (:class:`int`):\n",
    "            depth of the circuit.\n",
    "        theta_list (:class:`numpy.ndarray`):\n",
    "            rotation angles.\n",
    "    Returns:\n",
    "        :class:`qulacs.QuantumCircuit`\n",
    "    \"\"\"\n",
    "    circuit = QuantumCircuit(n_qubit)\n",
    "    for d in range(depth):\n",
    "        for i in range(n_qubit):\n",
    "            circuit.add_gate(merge(RY(i, theta_list[2*i+2*n_qubit*d]), RZ(i, theta_list[2*i+1+2*n_qubit*d])))\n",
    "        for i in range(n_qubit//2):\n",
    "            circuit.add_gate(CZ(2*i, 2*i+1))\n",
    "        for i in range(n_qubit//2-1):\n",
    "            circuit.add_gate(CZ(2*i+1, 2*i+2))\n",
    "    for i in range(n_qubit):\n",
    "        circuit.add_gate(merge(RY(i, theta_list[2*i+2*n_qubit*depth]), RZ(i, theta_list[2*i+1+2*n_qubit*depth])))\n",
    "\n",
    "    return circuit"
   ]
  },
  {
   "cell_type": "code",
   "execution_count": 6,
   "id": "2b1d688f",
   "metadata": {},
   "outputs": [],
   "source": [
    "def cost(theta_list):\n",
    "    state = QuantumState(n_qubit) #|00000> を準備\n",
    "    circuit = he_ansatz_circuit(n_qubit, depth, theta_list) #量子回路を構成\n",
    "    circuit.update_quantum_state(state) #量子回路を状態に作用\n",
    "    return qulacs_hamiltonian.get_expectation_value(state) #ハミルトニアンの期待値を計算"
   ]
  },
  {
   "cell_type": "code",
   "execution_count": 7,
   "id": "1aa38f3a",
   "metadata": {},
   "outputs": [],
   "source": [
    "cost_history = []\n",
    "init_theta_list = np.random.random(2*n_qubit*(depth+1))*1e-1\n",
    "cost_history.append(cost(init_theta_list))\n",
    "method = \"BFGS\"\n",
    "options = {\"disp\": True, \"maxiter\": 50, \"gtol\": 1e-6}\n",
    "opt = minimize(cost, init_theta_list,\n",
    "               method=method,\n",
    "               callback=lambda x: cost_history.append(cost(x)))"
   ]
  },
  {
   "cell_type": "code",
   "execution_count": 8,
   "id": "6936953f",
   "metadata": {},
   "outputs": [
    {
     "data": {
      "image/png": "[encoded data removed]",
      "text/plain": [
       "<Figure size 432x288 with 1 Axes>"
      ]
     },
     "metadata": {
      "needs_background": "light"
     },
     "output_type": "display_data"
    }
   ],
   "source": [
    "plt.rcParams[\"font.size\"] = 18\n",
    "plt.plot(cost_history, color=\"red\", label=\"VQE\")\n",
    "plt.plot(range(len(cost_history)), [molecule.fci_energy]*len(cost_history), linestyle=\"dashed\", color=\"black\", label=\"Exact Solution\")\n",
    "plt.xlabel(\"Iteration\")\n",
    "plt.ylabel(\"Energy expectation value\")\n",
    "plt.legend()\n",
    "plt.show()"
   ]
  },
  {
   "cell_type": "code",
   "execution_count": 10,
   "id": "638f4190",
   "metadata": {},
   "outputs": [],
   "source": [
    "import numpy as np\n",
    "nqubits = 2\n",
    "#パウリ演算子を準備する。\n",
    "pI = np.array([[1+0.0j,0+0.0j],[0+0.0j,1+0.0j]])\n",
    "pX = np.array([[0+0.0j,1+0.0j],[1+0.0j,0+0.0j]])\n",
    "pZ = np.array([[1+0.0j,0+0.0j],[0+0.0j,-1+0.0j]])\n",
    "pY = np.array([[0+0.0j,-1.0j],[0.0+1.0j,0.0+0.0j]])\n",
    "pHad = (pX+pZ)/np.sqrt(2)\n",
    "pP0 = (pI+pZ)/2\n",
    "pP1 = (pI-pZ)/2"
   ]
  },
  {
   "cell_type": "code",
   "execution_count": 28,
   "id": "5b4fd08f",
   "metadata": {},
   "outputs": [
    {
     "name": "stdout",
     "output_type": "stream",
     "text": [
      "0 1\n",
      "0 [[0.+0.j 1.+0.j]\n",
      " [1.+0.j 0.+0.j]]\n",
      "1 1\n",
      "1 [[1.+0.j 0.+0.j]\n",
      " [0.+0.j 1.+0.j]]\n"
     ]
    }
   ],
   "source": [
    "#パウリ演算子を1量子ゲートに変換する。\n",
    "X=[1]*(nqubits)\n",
    "Y=[1]*(nqubits)\n",
    "Z=[1]*(nqubits)\n",
    "H=[1]*(nqubits)\n",
    "P0=[1]*(nqubits)\n",
    "P1=[1]*(nqubits)\n",
    "\n",
    "for i in range(nqubits):\n",
    "    for j in range(nqubits):\n",
    "        if(i != j):\n",
    "            X[i] = np.kron(pI,X[i])\n",
    "            Y[i] = np.kron(pI,Y[i])\n",
    "            Z[i] = np.kron(pI,Z[i])\n",
    "            H[i] = np.kron(pI,H[i])\n",
    "            P0[i] = np.kron(pI,P0[i])\n",
    "            P1[i] = np.kron(pI,P1[i])\n",
    "        else:\n",
    "            X[i] = np.kron(pX,X[i])\n",
    "            Y[i] = np.kron(pY,Y[i])\n",
    "            Z[i] = np.kron(pZ,Z[i])\n",
    "            H[i] = np.kron(pHad,H[i])\n",
    "            P0[i] = np.kron(pP0,P0[i])\n",
    "            P1[i] = np.kron(pP1,P1[i])\n",
    "Ide = np.eye(2**nqubits)"
   ]
  },
  {
   "cell_type": "code",
   "execution_count": 12,
   "id": "bff28d0c",
   "metadata": {},
   "outputs": [],
   "source": [
    "#2量子ゲートを準備する。\n",
    "CZ = [[0 for i in range(nqubits)] for j in range(nqubits)]\n",
    "CX = [[0 for i in range(nqubits)] for j in range(nqubits)]\n",
    "\n",
    "for i in range(nqubits):\n",
    "    for j in range(nqubits):\n",
    "        CZ[i][j]= (P0[i]+np.dot(P1[i],Z[j]))\n",
    "        CX[i][j]= (P0[i]+np.dot(P1[i],X[j]))"
   ]
  },
  {
   "cell_type": "code",
   "execution_count": 13,
   "id": "c6953767",
   "metadata": {},
   "outputs": [],
   "source": [
    "#変分量子ゲート(X,Y,Zに関する回転の角度を指定できるゲート)を準備する。\n",
    "from scipy.linalg import expm\n",
    "def RX(target,angle):\n",
    "    return expm(-0.5*angle*1.j*X[target])\n",
    "def RY(target,angle):\n",
    "    return expm(-0.5*angle*1.j*Y[target])\n",
    "def RZ(target,angle):\n",
    "    return expm(-0.5*angle*1.j*Z[target])"
   ]
  },
  {
   "cell_type": "code",
   "execution_count": 14,
   "id": "36557c2c",
   "metadata": {},
   "outputs": [],
   "source": [
    "#初期状態|0000・・・0>を準備する。\n",
    "def StateZeros(nqubits):\n",
    "    State = np.zeros(2**nqubits)\n",
    "    State[0]=1\n",
    "    return State"
   ]
  },
  {
   "cell_type": "code",
   "execution_count": 15,
   "id": "c377843f",
   "metadata": {},
   "outputs": [],
   "source": [
    "M = (-3.8505 * Ide  - 0.2288 * X[1] - 1.0466 * Z[1] - 0.2288 * X[0] +  0.2613 * np.dot(X[0],X[1]) + \\\n",
    "     0.2288 *np.dot(X[0],Z[1]) - 1.0466*Z[0] + 0.2288* np.dot(Z[0],X[1]) +  0.2356 * np.dot(Z[0],Z[1]) )/2"
   ]
  },
  {
   "cell_type": "code",
   "execution_count": 16,
   "id": "bd17c62b",
   "metadata": {},
   "outputs": [],
   "source": [
    "n_param = 6\n",
    "def TwoQubitPQC(phi):\n",
    "    state = StateZeros(2)\n",
    "    state = np.dot(RX(0,phi[0]),state)\n",
    "    state = np.dot(RZ(0,phi[1]),state)\n",
    "    state = np.dot(RX(1,phi[2]),state)\n",
    "    state = np.dot(RZ(1,phi[3]),state)\n",
    "    state = np.dot(CX[1][0],state)\n",
    "    state = np.dot(RZ(1,phi[4]),state)\n",
    "    state = np.dot(RX(1,phi[5]),state)\n",
    "    return state"
   ]
  },
  {
   "cell_type": "code",
   "execution_count": 17,
   "id": "17afd7ca",
   "metadata": {},
   "outputs": [],
   "source": [
    "def ExpectVal(Operator,State):\n",
    "    BraState = np.conjugate(State.T) #列ベクトルを行ベクトルへ変換\n",
    "    tmp = np.dot(BraState,np.dot(Operator,State)) #行列を列ベクトルと行ベクトルではさむ\n",
    "    return np.real(tmp) #要素の実部を取り出す"
   ]
  },
  {
   "cell_type": "code",
   "execution_count": 18,
   "id": "a5e4898a",
   "metadata": {},
   "outputs": [
    {
     "data": {
      "image/png": "[encoded data removed]",
      "text/plain": [
       "<Figure size 432x288 with 1 Axes>"
      ]
     },
     "metadata": {
      "needs_background": "light"
     },
     "output_type": "display_data"
    }
   ],
   "source": [
    "import scipy.optimize\n",
    "import matplotlib.pyplot as plt\n",
    "\n",
    "def cost(phi):\n",
    "    return ExpectVal(M, TwoQubitPQC(phi))\n",
    "\n",
    "cost_val = [] #コスト関数の変化を保存するための関数\n",
    "\n",
    "#この関数がiteration ごとに呼ばれる。\n",
    "def callback(phi):\n",
    "    global cost_val\n",
    "    cost_val.append(cost(phi))\n",
    "\n",
    "init = np.random.rand(n_param)\n",
    "callback(init)\n",
    "res = scipy.optimize.minimize(cost, init,\n",
    "                              method='Powell',\n",
    "                              callback=callback)\n",
    "plt.plot(cost_val)\n",
    "plt.xlabel(\"iteration\")\n",
    "plt.ylabel(\"energy expectation value\")\n",
    "plt.show()"
   ]
  },
  {
   "cell_type": "code",
   "execution_count": 20,
   "id": "8088a0d4",
   "metadata": {},
   "outputs": [
    {
     "name": "stdout",
     "output_type": "stream",
     "text": [
      "-2.8626207640766816\n",
      "-2.8623944534976973\n"
     ]
    }
   ],
   "source": [
    "import scipy.linalg\n",
    "l, P = scipy.linalg.eigh(M)\n",
    "print(l[0]) #最小固有値\n",
    "print(cost(res.x)) #VQEの結果"
   ]
  },
  {
   "cell_type": "code",
   "execution_count": 21,
   "id": "ca98f37e",
   "metadata": {},
   "outputs": [],
   "source": [
    "def cost(phi):\n",
    "    return ExpectVal(M,TwoQubitPQC(phi))+np.random.normal(0,0.01)\n",
    "\n",
    "def callback(phi):\n",
    "    global cost_val\n",
    "    cost_val.append(cost(phi))"
   ]
  },
  {
   "cell_type": "code",
   "execution_count": 22,
   "id": "516150ee",
   "metadata": {},
   "outputs": [
    {
     "data": {
      "image/png": "[encoded data removed]",
      "text/plain": [
       "<Figure size 432x288 with 1 Axes>"
      ]
     },
     "metadata": {
      "needs_background": "light"
     },
     "output_type": "display_data"
    },
    {
     "name": "stdout",
     "output_type": "stream",
     "text": [
      "-2.831074499117491\n"
     ]
    }
   ],
   "source": [
    "cost_val=[] # コスト関数の履歴\n",
    "init = np.random.rand(6)\n",
    "callback(init)\n",
    "res = scipy.optimize.minimize(cost, init,\n",
    "                              method='Powell',\n",
    "                              callback=callback)\n",
    "plt.plot(cost_val)\n",
    "plt.xlabel(\"iteration\")\n",
    "plt.ylabel(\"energy expectation value\")\n",
    "plt.show()\n",
    "print(cost(res.x))"
   ]
  },
  {
   "cell_type": "code",
   "execution_count": null,
   "id": "cf506872",
   "metadata": {},
   "outputs": [],
   "source": []
  }
 ],
 "metadata": {
  "kernelspec": {
   "display_name": "Python 3",
   "language": "python",
   "name": "python3"
  },
  "language_info": {
   "codemirror_mode": {
    "name": "ipython",
    "version": 3
   },
   "file_extension": ".py",
   "mimetype": "text/x-python",
   "name": "python",
   "nbconvert_exporter": "python",
   "pygments_lexer": "ipython3",
   "version": "3.8.8"
  }
 },
 "nbformat": 4,
 "nbformat_minor": 5
}
