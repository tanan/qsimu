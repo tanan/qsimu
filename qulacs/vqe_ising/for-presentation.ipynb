{
 "cells": [
  {
   "cell_type": "code",
   "execution_count": 2,
   "id": "73464f08",
   "metadata": {},
   "outputs": [],
   "source": [
    "from magnetic_field import *\n",
    "from utils import *\n",
    "import matplotlib.pyplot as plt\n",
    "import matplotlib.cm as cm\n",
    "\n",
    "exact_value = -8.56677223\n",
    "bn_list = create_bn_list(7)"
   ]
  },
  {
   "cell_type": "code",
   "execution_count": 3,
   "id": "8eb6fc26",
   "metadata": {},
   "outputs": [],
   "source": [
    "def get_csv(results):\n",
    "    for result in results:\n",
    "        if result == None:\n",
    "            continue\n",
    "        print(\"%s,%s,%s,%s,%s,%s,%s,%s,%s,%s,%s,%s,%s\" % (result[\"method\"], result[\"depth\"], result[\"bn_type\"], result[\"bn_range\"], result[\"bn_value\"], result[\"cost\"][\"min\"], result[\"cost\"][\"max\"], result[\"cost\"][\"mean\"], result[\"cost\"][\"std\"], result[\"iter\"][\"min\"], result[\"iter\"][\"max\"], result[\"iter\"][\"mean\"], result[\"iter\"][\"std\"]))\n",
    "\n",
    "def run(method, nqubit, depth_list, bn_type=None, bn_range=None, bn_value=None):\n",
    "    results = []\n",
    "    for depth in depth_list:\n",
    "        result = getResult(nqubit, depth, method, bn_type, bn_range, bn_value)\n",
    "        if result == None:\n",
    "            continue\n",
    "#         print(\"%s,%s,%s,%s,%s,%s,%s,%s,%s,%s,%s,%s\" % (result[\"method\"], result[\"depth\"], result[\"bn_type\"], result[\"bn_value\"], result[\"cost\"][\"min\"], result[\"cost\"][\"max\"], result[\"cost\"][\"mean\"], result[\"cost\"][\"std\"], result[\"iter\"][\"min\"], result[\"iter\"][\"max\"], result[\"iter\"][\"mean\"], result[\"iter\"][\"std\"]))\n",
    "        results.append(result)\n",
    "    return results"
   ]
  },
  {
   "cell_type": "code",
   "execution_count": null,
   "id": "715254ec",
   "metadata": {
    "scrolled": false
   },
   "outputs": [],
   "source": [
    "vqe_results = []\n",
    "nqubit = 7\n",
    "method = 'indirect_ising'\n",
    "depth_list = [16,20,24,28]\n",
    "vqe_results.extend(run(method, nqubit, depth_list, 'static_random', 2, None))\n",
    "for bn in bn_list:\n",
    "    vqe_results.extend(run(method, nqubit, depth_list, 'static', None, bn))\n",
    "\n",
    "method = 'indirect_xy'\n",
    "depth_list = [12,16,20,24,28,32]\n",
    "vqe_results.extend(run(method, nqubit, depth_list, 'static_random', 2, None))\n",
    "for bn in bn_list:\n",
    "    vqe_results.extend(run(method, nqubit, depth_list, 'static', None, bn))\n",
    "\n",
    "method = 'indirect_xyz'\n",
    "depth_list = [8,12,16,20,24,28]\n",
    "vqe_results.extend(run(method, nqubit, depth_list, None, None, None))"
   ]
  },
  {
   "cell_type": "code",
   "execution_count": null,
   "id": "df780743",
   "metadata": {},
   "outputs": [],
   "source": [
    "## x axis: layer, y axis: expectation value\n",
    "plot_list = {}\n",
    "for result in vqe_results:\n",
    "    if result['bn_type'] == 'static_random':\n",
    "        if (\"%s-depth\" % result['method']) not in plot_list.keys():\n",
    "            plot_list[\"%s-depth\" % result['method']] = [result['depth']]\n",
    "            plot_list[\"%s-cost-min\" % result['method']] = [result['cost']['min']]\n",
    "            plot_list[\"%s-cost-mean\" % result['method']] = [result['cost']['mean']]\n",
    "            plot_list[\"%s-iter-min\" % result['method']] = [result['iter']['min']]\n",
    "            plot_list[\"%s-iter-max\" % result['method']] = [result['iter']['max']]\n",
    "            plot_list[\"%s-iter-mean\" % result['method']] = [result['iter']['mean']]\n",
    "        else:\n",
    "            plot_list[\"%s-depth\" % result['method']].append(result['depth'])\n",
    "            plot_list[\"%s-cost-min\" % result['method']].append(result['cost']['min'])\n",
    "            plot_list[\"%s-cost-mean\" % result['method']].append(result['cost']['mean'])\n",
    "            plot_list[\"%s-iter-min\" % result['method']].append(result['iter']['min'])\n",
    "            plot_list[\"%s-iter-max\" % result['method']].append(result['iter']['max'])\n",
    "            plot_list[\"%s-iter-mean\" % result['method']].append(result['iter']['mean'])\n",
    "    elif result['method'] == 'indirect_xyz':\n",
    "        if (\"%s-depth\" % result['method']) not in plot_list.keys():\n",
    "            plot_list[\"%s-depth\" % result['method']] = [result['depth']]\n",
    "            plot_list[\"%s-cost-min\" % result['method']] = [result['cost']['min']]\n",
    "            plot_list[\"%s-cost-mean\" % result['method']] = [result['cost']['mean']]\n",
    "            plot_list[\"%s-iter-min\" % result['method']] = [result['iter']['min']]\n",
    "            plot_list[\"%s-iter-max\" % result['method']] = [result['iter']['max']]\n",
    "            plot_list[\"%s-iter-mean\" % result['method']] = [result['iter']['mean']]\n",
    "        else:\n",
    "            plot_list[\"%s-depth\" % result['method']].append(result['depth'])\n",
    "            plot_list[\"%s-cost-min\" % result['method']].append(result['cost']['min'])\n",
    "            plot_list[\"%s-cost-mean\" % result['method']].append(result['cost']['mean'])\n",
    "            plot_list[\"%s-iter-min\" % result['method']].append(result['iter']['min'])\n",
    "            plot_list[\"%s-iter-max\" % result['method']].append(result['iter']['max'])\n",
    "            plot_list[\"%s-iter-mean\" % result['method']].append(result['iter']['mean'])\n",
    "\n",
    "def create_expectation_graph(title, y_min=-9.0, y_max=-5.0):\n",
    "    plt.figure(figsize=(12,8))\n",
    "    plt.rcParams[\"font.size\"] = 14\n",
    "    plt.ylim(y_min, y_max)\n",
    "\n"
   ]
  },
  {
   "cell_type": "code",
   "execution_count": null,
   "id": "cbbe8168",
   "metadata": {},
   "outputs": [],
   "source": [
    "create_expectation_graph(\"xy (random bn)\")\n",
    "plt.hlines(exact_value, min(plot_list['indirect_xy-depth']), max(plot_list['indirect_xy-depth']), colors='black', linestyles='dashed', label='exact')\n",
    "plt.plot(plot_list['indirect_xy-depth'], plot_list['indirect_xy-cost-min'], marker='o', color='blue', label='minmum')\n",
    "plt.plot(plot_list['indirect_xy-depth'], plot_list['indirect_xy-cost-mean'], marker='o', color='red', label='average')\n",
    "plt.legend()\n",
    "plt.savefig('image/xy_random_bn_energy.png')"
   ]
  },
  {
   "cell_type": "code",
   "execution_count": 1,
   "id": "1155992c",
   "metadata": {},
   "outputs": [
    {
     "ename": "NameError",
     "evalue": "name 'create_expectation_graph' is not defined",
     "output_type": "error",
     "traceback": [
      "\u001b[0;31m---------------------------------------------------------------------------\u001b[0m",
      "\u001b[0;31mNameError\u001b[0m                                 Traceback (most recent call last)",
      "\u001b[0;32m/tmp/ipykernel_21159/1599701199.py\u001b[0m in \u001b[0;36m<module>\u001b[0;34m\u001b[0m\n\u001b[0;32m----> 1\u001b[0;31m \u001b[0mcreate_expectation_graph\u001b[0m\u001b[0;34m(\u001b[0m\u001b[0;34m\"xy (random bn)\"\u001b[0m\u001b[0;34m)\u001b[0m\u001b[0;34m\u001b[0m\u001b[0;34m\u001b[0m\u001b[0m\n\u001b[0m\u001b[1;32m      2\u001b[0m \u001b[0mplt\u001b[0m\u001b[0;34m.\u001b[0m\u001b[0mhlines\u001b[0m\u001b[0;34m(\u001b[0m\u001b[0mexact_value\u001b[0m\u001b[0;34m,\u001b[0m \u001b[0;36m12\u001b[0m\u001b[0;34m,\u001b[0m \u001b[0;36m24\u001b[0m\u001b[0;34m,\u001b[0m \u001b[0mcolors\u001b[0m\u001b[0;34m=\u001b[0m\u001b[0;34m'black'\u001b[0m\u001b[0;34m,\u001b[0m \u001b[0mlinestyles\u001b[0m\u001b[0;34m=\u001b[0m\u001b[0;34m'dashed'\u001b[0m\u001b[0;34m,\u001b[0m \u001b[0mlabel\u001b[0m\u001b[0;34m=\u001b[0m\u001b[0;34m'exact'\u001b[0m\u001b[0;34m)\u001b[0m\u001b[0;34m\u001b[0m\u001b[0;34m\u001b[0m\u001b[0m\n\u001b[1;32m      3\u001b[0m \u001b[0mplt\u001b[0m\u001b[0;34m.\u001b[0m\u001b[0mplot\u001b[0m\u001b[0;34m(\u001b[0m\u001b[0;34m[\u001b[0m\u001b[0;36m12\u001b[0m\u001b[0;34m,\u001b[0m\u001b[0;36m16\u001b[0m\u001b[0;34m,\u001b[0m\u001b[0;36m20\u001b[0m\u001b[0;34m,\u001b[0m\u001b[0;36m24\u001b[0m\u001b[0;34m]\u001b[0m\u001b[0;34m,\u001b[0m \u001b[0;34m[\u001b[0m\u001b[0;34m-\u001b[0m\u001b[0;36m8.07\u001b[0m\u001b[0;34m,\u001b[0m \u001b[0;34m-\u001b[0m\u001b[0;36m8.32\u001b[0m\u001b[0;34m,\u001b[0m \u001b[0;34m-\u001b[0m\u001b[0;36m8.42\u001b[0m\u001b[0;34m,\u001b[0m \u001b[0;34m-\u001b[0m\u001b[0;36m8.43\u001b[0m\u001b[0;34m]\u001b[0m\u001b[0;34m,\u001b[0m \u001b[0mmarker\u001b[0m\u001b[0;34m=\u001b[0m\u001b[0;34m'o'\u001b[0m\u001b[0;34m,\u001b[0m \u001b[0mcolor\u001b[0m\u001b[0;34m=\u001b[0m\u001b[0;34m'blue'\u001b[0m\u001b[0;34m,\u001b[0m \u001b[0mlabel\u001b[0m\u001b[0;34m=\u001b[0m\u001b[0;34m'minmum'\u001b[0m\u001b[0;34m)\u001b[0m\u001b[0;34m\u001b[0m\u001b[0;34m\u001b[0m\u001b[0m\n\u001b[1;32m      4\u001b[0m \u001b[0mplt\u001b[0m\u001b[0;34m.\u001b[0m\u001b[0mplot\u001b[0m\u001b[0;34m(\u001b[0m\u001b[0;34m[\u001b[0m\u001b[0;36m12\u001b[0m\u001b[0;34m,\u001b[0m\u001b[0;36m16\u001b[0m\u001b[0;34m,\u001b[0m\u001b[0;36m20\u001b[0m\u001b[0;34m,\u001b[0m\u001b[0;36m24\u001b[0m\u001b[0;34m]\u001b[0m\u001b[0;34m,\u001b[0m \u001b[0;34m[\u001b[0m\u001b[0;34m-\u001b[0m\u001b[0;36m7.97\u001b[0m\u001b[0;34m,\u001b[0m \u001b[0;34m-\u001b[0m\u001b[0;36m8.21\u001b[0m\u001b[0;34m,\u001b[0m \u001b[0;34m-\u001b[0m\u001b[0;36m8.37\u001b[0m\u001b[0;34m,\u001b[0m \u001b[0;34m-\u001b[0m\u001b[0;36m8.41\u001b[0m\u001b[0;34m]\u001b[0m\u001b[0;34m,\u001b[0m \u001b[0mmarker\u001b[0m\u001b[0;34m=\u001b[0m\u001b[0;34m'o'\u001b[0m\u001b[0;34m,\u001b[0m \u001b[0mcolor\u001b[0m\u001b[0;34m=\u001b[0m\u001b[0;34m'red'\u001b[0m\u001b[0;34m,\u001b[0m \u001b[0mlabel\u001b[0m\u001b[0;34m=\u001b[0m\u001b[0;34m'average'\u001b[0m\u001b[0;34m)\u001b[0m\u001b[0;34m\u001b[0m\u001b[0;34m\u001b[0m\u001b[0m\n\u001b[1;32m      5\u001b[0m \u001b[0mplt\u001b[0m\u001b[0;34m.\u001b[0m\u001b[0mlegend\u001b[0m\u001b[0;34m(\u001b[0m\u001b[0;34m)\u001b[0m\u001b[0;34m\u001b[0m\u001b[0;34m\u001b[0m\u001b[0m\n",
      "\u001b[0;31mNameError\u001b[0m: name 'create_expectation_graph' is not defined"
     ]
    }
   ],
   "source": [
    "create_expectation_graph(\"xy (random bn)\")\n",
    "plt.hlines(exact_value, 12, 24, colors='black', linestyles='dashed', label='exact')\n",
    "plt.plot([12,16,20,24], [-8.07, -8.32, -8.42, -8.43], marker='o', color='blue', label='minmum')\n",
    "plt.plot([12,16,20,24], [-7.97, -8.21, -8.37, -8.41], marker='o', color='red', label='average')\n",
    "plt.legend()\n",
    "plt.savefig('image/xy_random_bn_energy_revise.png')"
   ]
  },
  {
   "cell_type": "code",
   "execution_count": 11,
   "id": "7688bdb0",
   "metadata": {},
   "outputs": [
    {
     "data": {
      "image/png": "[encoded data removed]",
      "text/plain": [
       "<Figure size 864x576 with 1 Axes>"
      ]
     },
     "metadata": {
      "needs_background": "light"
     },
     "output_type": "display_data"
    }
   ],
   "source": [
    "## 直接制御\n",
    "method = 'direct'\n",
    "depth_list = [1,2,4,8]\n",
    "direct_results = run(method, nqubit, depth_list)\n",
    "\n",
    "d_plot_list = {}\n",
    "\n",
    "for result in direct_results:\n",
    "    if 'depth' not in d_plot_list.keys():\n",
    "        d_plot_list[\"depth\"] = [result['depth']]\n",
    "        d_plot_list[\"cost-min\"] = [result['cost']['min']]\n",
    "        d_plot_list[\"cost-mean\"] = [result['cost']['mean']]\n",
    "        d_plot_list[\"iter-min\"] = [result['iter']['min']]\n",
    "        d_plot_list[\"iter-max\"] = [result['iter']['max']]\n",
    "        d_plot_list[\"iter-mean\"] = [result['iter']['mean']]\n",
    "    else:\n",
    "        d_plot_list[\"depth\"].append(result['depth'])\n",
    "        d_plot_list[\"cost-min\"].append(result['cost']['min'])\n",
    "        d_plot_list[\"cost-mean\"].append(result['cost']['mean'])\n",
    "        d_plot_list[\"iter-min\"].append(result['iter']['min'])\n",
    "        d_plot_list[\"iter-max\"].append(result['iter']['max'])\n",
    "        d_plot_list[\"iter-mean\"].append(result['iter']['mean'])\n",
    "\n",
    "create_expectation_graph(\"direct\")\n",
    "plt.hlines(exact_value, min(d_plot_list['depth']), max(d_plot_list['depth']), colors='black', linestyles='dashed', label='exact value')\n",
    "plt.plot(d_plot_list['depth'], d_plot_list['cost-min'], marker='^', color='blue', label='minmum')\n",
    "plt.plot(d_plot_list['depth'], d_plot_list['cost-mean'], marker='', color='red', label='average')\n",
    "plt.legend()\n",
    "plt.savefig('image/direct_energy.png')"
   ]
  },
  {
   "cell_type": "code",
   "execution_count": null,
   "id": "409c5654",
   "metadata": {},
   "outputs": [],
   "source": []
  }
 ],
 "metadata": {
  "kernelspec": {
   "display_name": "Python 3 (ipykernel)",
   "language": "python",
   "name": "python3"
  },
  "language_info": {
   "codemirror_mode": {
    "name": "ipython",
    "version": 3
   },
   "file_extension": ".py",
   "mimetype": "text/x-python",
   "name": "python",
   "nbconvert_exporter": "python",
   "pygments_lexer": "ipython3",
   "version": "3.9.7"
  }
 },
 "nbformat": 4,
 "nbformat_minor": 5
}
