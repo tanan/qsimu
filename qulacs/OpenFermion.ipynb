{
 "cells": [
  {
   "cell_type": "code",
   "execution_count": 1,
   "id": "843e72af",
   "metadata": {},
   "outputs": [],
   "source": [
    "import numpy as np\n",
    "import matplotlib.pyplot as plt\n",
    "from openfermion.chem import MolecularData\n",
    "from openfermion.transforms import get_fermion_operator, jordan_wigner, bravyi_kitaev\n",
    "from openfermion.linalg import get_sparse_operator\n",
    "from openfermion.ops import FermionOperator\n",
    "from openfermionpyscf import run_pyscf\n",
    "from pyscf import fci"
   ]
  },
  {
   "cell_type": "code",
   "execution_count": 2,
   "id": "fe5f679d",
   "metadata": {},
   "outputs": [],
   "source": [
    "#define constants\n",
    "basis = \"sto-3g\"  #basis set\n",
    "multiplicity = 1  #spin multiplicity\n",
    "charge = 0        #total charge for the molecule\n",
    "distance = 0.65\n",
    "geometry = [(\"H\",(0,0,0)),(\"H\", (0,0,distance))]  #xyz coordinates for atoms\n",
    "description = str(distance)  #description for the psi4 output file\n",
    "\n",
    "molecule = MolecularData(geometry, basis, multiplicity, charge, description)"
   ]
  },
  {
   "cell_type": "code",
   "execution_count": 3,
   "id": "d61f1e6b",
   "metadata": {},
   "outputs": [],
   "source": [
    "molecule = run_pyscf(molecule,run_scf=1,run_fci=1)"
   ]
  },
  {
   "cell_type": "code",
   "execution_count": 4,
   "id": "f6f461b9",
   "metadata": {},
   "outputs": [
    {
     "name": "stdout",
     "output_type": "stream",
     "text": [
      "HF energy: -1.1129965456691684 (Hartree)\n",
      "FCI energy: -1.129904784322914 (Hartree)\n"
     ]
    }
   ],
   "source": [
    "print(\"HF energy: {} (Hartree)\".format(molecule.hf_energy))\n",
    "print(\"FCI energy: {} (Hartree)\".format(molecule.fci_energy))"
   ]
  },
  {
   "cell_type": "code",
   "execution_count": 5,
   "id": "aa1bb53f",
   "metadata": {},
   "outputs": [
    {
     "name": "stdout",
     "output_type": "stream",
     "text": [
      "[[-1.30950987e+00 -6.66133815e-16]\n",
      " [-1.11022302e-16 -4.10026381e-01]]\n"
     ]
    }
   ],
   "source": [
    "print(molecule.one_body_integrals)"
   ]
  },
  {
   "cell_type": "code",
   "execution_count": 6,
   "id": "2aea1f2c",
   "metadata": {},
   "outputs": [
    {
     "name": "stdout",
     "output_type": "stream",
     "text": [
      "[[[[6.91904405e-01 3.19189120e-16]\n",
      "   [2.77555756e-16 1.76318452e-01]]\n",
      "\n",
      "  [[2.77555756e-16 1.76318452e-01]\n",
      "   [6.79683914e-01 2.22044605e-16]]]\n",
      "\n",
      "\n",
      " [[[3.19189120e-16 6.79683914e-01]\n",
      "   [1.76318452e-01 4.44089210e-16]]\n",
      "\n",
      "  [[1.76318452e-01 4.44089210e-16]\n",
      "   [2.22044605e-16 7.14671111e-01]]]]\n"
     ]
    }
   ],
   "source": [
    "print(molecule.two_body_integrals)"
   ]
  },
  {
   "cell_type": "code",
   "execution_count": 7,
   "id": "ab08ed5a",
   "metadata": {},
   "outputs": [
    {
     "name": "stdout",
     "output_type": "stream",
     "text": [
      "() 0.8141187860307693\n",
      "((0, 1), (0, 0)) -1.309509868464871\n",
      "((1, 1), (1, 0)) -1.309509868464871\n",
      "((2, 1), (2, 0)) -0.4100263808117851\n",
      "((3, 1), (3, 0)) -0.4100263808117851\n",
      "((0, 1), (0, 1), (0, 0), (0, 0)) 0.3459522026149021\n",
      "((0, 1), (0, 1), (2, 0), (2, 0)) 0.08815922580510357\n",
      "((0, 1), (1, 1), (1, 0), (0, 0)) 0.3459522026149021\n",
      "((0, 1), (1, 1), (3, 0), (2, 0)) 0.08815922580510357\n",
      "((0, 1), (2, 1), (0, 0), (2, 0)) 0.08815922580510357\n",
      "((0, 1), (2, 1), (2, 0), (0, 0)) 0.3398419569652301\n",
      "((0, 1), (3, 1), (1, 0), (2, 0)) 0.08815922580510357\n",
      "((0, 1), (3, 1), (3, 0), (0, 0)) 0.3398419569652301\n",
      "((1, 1), (0, 1), (0, 0), (1, 0)) 0.3459522026149021\n",
      "((1, 1), (0, 1), (2, 0), (3, 0)) 0.08815922580510357\n",
      "((1, 1), (1, 1), (1, 0), (1, 0)) 0.3459522026149021\n",
      "((1, 1), (1, 1), (3, 0), (3, 0)) 0.08815922580510357\n",
      "((1, 1), (2, 1), (0, 0), (3, 0)) 0.08815922580510357\n",
      "((1, 1), (2, 1), (2, 0), (1, 0)) 0.3398419569652301\n",
      "((1, 1), (3, 1), (1, 0), (3, 0)) 0.08815922580510357\n",
      "((1, 1), (3, 1), (3, 0), (1, 0)) 0.3398419569652301\n",
      "((2, 1), (0, 1), (0, 0), (2, 0)) 0.3398419569652301\n",
      "((2, 1), (0, 1), (2, 0), (0, 0)) 0.08815922580510357\n",
      "((2, 1), (1, 1), (1, 0), (2, 0)) 0.3398419569652301\n",
      "((2, 1), (1, 1), (3, 0), (0, 0)) 0.08815922580510357\n",
      "((2, 1), (2, 1), (0, 0), (0, 0)) 0.08815922580510357\n",
      "((2, 1), (2, 1), (2, 0), (2, 0)) 0.3573355555190679\n",
      "((2, 1), (3, 1), (1, 0), (0, 0)) 0.08815922580510357\n",
      "((2, 1), (3, 1), (3, 0), (2, 0)) 0.3573355555190679\n",
      "((3, 1), (0, 1), (0, 0), (3, 0)) 0.3398419569652301\n",
      "((3, 1), (0, 1), (2, 0), (1, 0)) 0.08815922580510357\n",
      "((3, 1), (1, 1), (1, 0), (3, 0)) 0.3398419569652301\n",
      "((3, 1), (1, 1), (3, 0), (1, 0)) 0.08815922580510357\n",
      "((3, 1), (2, 1), (0, 0), (1, 0)) 0.08815922580510357\n",
      "((3, 1), (2, 1), (2, 0), (3, 0)) 0.3573355555190679\n",
      "((3, 1), (3, 1), (1, 0), (1, 0)) 0.08815922580510357\n",
      "((3, 1), (3, 1), (3, 0), (3, 0)) 0.3573355555190679\n",
      "\n"
     ]
    }
   ],
   "source": [
    "print(molecule.get_molecular_hamiltonian())"
   ]
  },
  {
   "cell_type": "code",
   "execution_count": 8,
   "id": "55bb6b2d",
   "metadata": {},
   "outputs": [
    {
     "name": "stdout",
     "output_type": "stream",
     "text": [
      "(0.037751103946454874+0j) [] +\n",
      "(-0.044079612902551794+0j) [X0 X1 Y2 Y3] +\n",
      "(0.044079612902551794+0j) [X0 Y1 Y2 X3] +\n",
      "(0.044079612902551794+0j) [Y0 X1 X2 Y3] +\n",
      "(-0.044079612902551794+0j) [Y0 Y1 X2 X3] +\n",
      "(0.18601648886230607+0j) [Z0] +\n",
      "(0.17297610130745106+0j) [Z0 Z1] +\n",
      "(0.12584136558006326+0j) [Z0 Z2] +\n",
      "(0.16992097848261506+0j) [Z0 Z3] +\n",
      "(0.1860164888623061+0j) [Z1] +\n",
      "(0.16992097848261506+0j) [Z1 Z2] +\n",
      "(0.12584136558006326+0j) [Z1 Z3] +\n",
      "(-0.2694169314163197+0j) [Z2] +\n",
      "(0.17866777775953396+0j) [Z2 Z3] +\n",
      "(-0.2694169314163197+0j) [Z3]\n"
     ]
    }
   ],
   "source": [
    "jw_hamiltonian = jordan_wigner(get_fermion_operator(molecule.get_molecular_hamiltonian()))\n",
    "print(jw_hamiltonian)"
   ]
  },
  {
   "cell_type": "code",
   "execution_count": 9,
   "id": "38020c32",
   "metadata": {},
   "outputs": [
    {
     "name": "stdout",
     "output_type": "stream",
     "text": [
      "[[0 0 0 0 0 0 0 0 0 0 0 0 1 0 0 0]]\n",
      "[[-1.11299655]] -1.1129965456691684\n"
     ]
    }
   ],
   "source": [
    "#テンソル積を計算するための関数\n",
    "def kron_N(*ops):\n",
    "    tmp = ops[0]\n",
    "    for op in ops[1:]:\n",
    "        tmp = np.kron(tmp,op)\n",
    "    return tmp\n",
    "\n",
    "bra0 = np.array([[1,0]])\n",
    "bra1 = np.array([[0,1]])\n",
    "HFbra = kron_N(bra1, bra1, bra0, bra0)\n",
    "HFket = HFbra.T\n",
    "print(HFbra)\n",
    "jw_matrix = get_sparse_operator(jw_hamiltonian)\n",
    "print(np.real(HFbra.dot(jw_matrix.dot(HFket))), molecule.hf_energy)"
   ]
  },
  {
   "cell_type": "code",
   "execution_count": 10,
   "id": "2fd8cc44",
   "metadata": {},
   "outputs": [
    {
     "name": "stdout",
     "output_type": "stream",
     "text": [
      "-1.129904784322913 -1.129904784322914\n"
     ]
    }
   ],
   "source": [
    "eigenenergies, eigenvecs = np.linalg.eigh(jw_matrix.toarray())\n",
    "print(eigenenergies[0], molecule.fci_energy)"
   ]
  },
  {
   "cell_type": "code",
   "execution_count": 12,
   "id": "43b0697e",
   "metadata": {},
   "outputs": [
    {
     "name": "stdout",
     "output_type": "stream",
     "text": [
      "[ 0.        +0.j  0.        +0.j  0.        +0.j  0.09545811+0.j\n",
      "  0.        +0.j  0.        +0.j  0.        +0.j  0.        +0.j\n",
      "  0.        +0.j  0.        +0.j  0.        +0.j  0.        +0.j\n",
      " -0.99543345+0.j  0.        +0.j  0.        +0.j  0.        +0.j]\n"
     ]
    }
   ],
   "source": [
    "print(eigenvecs[:,0])"
   ]
  }
 ],
 "metadata": {
  "kernelspec": {
   "display_name": "Python 3 (ipykernel)",
   "language": "python",
   "name": "python3"
  },
  "language_info": {
   "codemirror_mode": {
    "name": "ipython",
    "version": 3
   },
   "file_extension": ".py",
   "mimetype": "text/x-python",
   "name": "python",
   "nbconvert_exporter": "python",
   "pygments_lexer": "ipython3",
   "version": "3.8.12"
  }
 },
 "nbformat": 4,
 "nbformat_minor": 5
}
