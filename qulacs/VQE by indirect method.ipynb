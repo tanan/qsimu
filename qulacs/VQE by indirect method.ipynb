{
 "cells": [
  {
   "cell_type": "code",
   "execution_count": 1,
   "id": "6e8e76c1",
   "metadata": {},
   "outputs": [],
   "source": [
    "import qulacs\n",
    "from openfermion.transforms import get_fermion_operator, jordan_wigner\n",
    "from openfermion.linalg import get_sparse_operator\n",
    "from openfermion.chem import MolecularData, geometry_from_pubchem\n",
    "from openfermionpyscf import run_pyscf\n",
    "from openfermionpsi4 import run_psi4\n",
    "from scipy.optimize import minimize\n",
    "from pyscf import fci\n",
    "import numpy as np\n",
    "from scipy.linalg import expm\n",
    "import random\n",
    "import matplotlib.pyplot as plt"
   ]
  },
  {
   "cell_type": "code",
   "execution_count": 17,
   "id": "c7aaa75d",
   "metadata": {},
   "outputs": [
    {
     "name": "stdout",
     "output_type": "stream",
     "text": [
      "(-0.31349601563320545+0j) [] +\n",
      "(-0.04883472637266054+0j) [X0 X1 Y2 Y3] +\n",
      "(0.04883472637266054+0j) [X0 Y1 Y2 X3] +\n",
      "(0.04883472637266054+0j) [Y0 X1 X2 Y3] +\n",
      "(-0.04883472637266054+0j) [Y0 Y1 X2 X3] +\n",
      "(0.13978238289201536+0j) [Z0] +\n",
      "(0.1576263054951328+0j) [Z0 Z1] +\n",
      "(0.10745382588884603+0j) [Z0 Z2] +\n",
      "(0.15628855226150656+0j) [Z0 Z3] +\n",
      "(0.13978238289201536+0j) [Z1] +\n",
      "(0.15628855226150656+0j) [Z1 Z2] +\n",
      "(0.10745382588884603+0j) [Z1 Z3] +\n",
      "(-0.13686895080362443+0j) [Z2] +\n",
      "(0.16419290099118963+0j) [Z2 Z3] +\n",
      "(-0.13686895080362443+0j) [Z3]\n"
     ]
    }
   ],
   "source": [
    "basis = \"sto-3g\"\n",
    "multiplicity = 1\n",
    "charge = 0\n",
    "# geometry = [[\"C\", [0,0,0]],[\"H\", [0.5541, 0.7996, 0.4965]],[\"H\", [0.6833, -0.8134, -0.2536]],[\"H\", [-0.7782, -0.3735, 0.6692]],[\"H\", [-0.4593, 0.3874, -0.9121]]]\n",
    "# geometry = [[\"O\", [0, 0, 0]],[\"H\", [0.2774, 0.8929, 0.2544]], [\"H\", [0.6068, -0.2383, -0.7169]]]\n",
    "geometry = [[\"H\", [0,0,0]],[\"H\", [0,0,0.977]]]\n",
    "description  = \"tmp\"\n",
    "molecule = MolecularData(geometry, basis, multiplicity, charge, description)\n",
    "molecule = run_psi4(molecule,run_scf=1,run_fci=1)\n",
    "n_qubit = molecule.n_qubits\n",
    "n_electron = molecule.n_electrons\n",
    "fermionic_hamiltonian = get_fermion_operator(molecule.get_molecular_hamiltonian())\n",
    "jw_hamiltonian = jordan_wigner(fermionic_hamiltonian)\n",
    "print(jw_hamiltonian)\n",
    "\n",
    "from qulacs import Observable\n",
    "from qulacs.observable import create_observable_from_openfermion_text\n",
    "qulacs_hamiltonian = create_observable_from_openfermion_text(str(jw_hamiltonian))"
   ]
  },
  {
   "cell_type": "code",
   "execution_count": 13,
   "id": "3606ce0f",
   "metadata": {},
   "outputs": [],
   "source": [
    "from qulacs import QuantumState, QuantumCircuit\n",
    "from qulacs.gate import CNOT, RY, RZ, merge\n",
    "\n",
    "depth = n_qubit\n",
    "cn = [1] * n_qubit\n",
    "r = 0\n",
    "bn = [0] * n_qubit\n",
    "gate_set = 4"
   ]
  },
  {
   "cell_type": "code",
   "execution_count": 14,
   "id": "3ec0204f",
   "metadata": {},
   "outputs": [],
   "source": [
    "from qulacs.gate import DenseMatrix\n",
    "def create_hamiltonian_time_evolution_gate(n_qubit, cn, gamma, Bn, t):\n",
    "    I_gate = [[1,0],[0,1]]\n",
    "    X_gate = [[0,1],[1,0]]\n",
    "    Y_gate = [[0,0-1j],[0+1j,0]]\n",
    "    Z_gate = [[1,0],[0,-1]]\n",
    "    \n",
    "    XX= np.array(np.zeros(2**n_qubit))\n",
    "    YY= np.array(np.zeros(2**n_qubit))\n",
    "    Zn= np.array(np.zeros(2**n_qubit))\n",
    "    for k in range(n_qubit-1):\n",
    "        for l in range(n_qubit):\n",
    "            if k==l:\n",
    "                if l==0:\n",
    "                    hamiX = X_gate\n",
    "                    hamiY = Y_gate\n",
    "                else:\n",
    "                    hamiX = np.kron(hamiX,X_gate)\n",
    "                    hamiY = np.kron(hamiY,Y_gate)\n",
    "\n",
    "            elif k+1==l:\n",
    "                hamiX = np.kron(hamiX,X_gate)\n",
    "                hamiY = np.kron(hamiY,Y_gate)\n",
    "            else:\n",
    "                if l==0:\n",
    "                    hamiX = I_gate\n",
    "                    hamiY = I_gate\n",
    "                else:\n",
    "                    hamiX = np.kron(hamiX,I_gate)\n",
    "                    hamiY = np.kron(hamiY,I_gate)\n",
    "        XX = XX+ 0.5*cn[k]*(1+gamma)*hamiX\n",
    "        YY = YY+ 0.5*cn[k]*(1-gamma)*hamiY\n",
    "        \n",
    "    for m in range(n_qubit):\n",
    "        for n in range(n_qubit):\n",
    "            if m==n:\n",
    "                if n==0:\n",
    "                    hamiZ = Z_gate\n",
    "                else:\n",
    "                    hamiZ = np.kron(hamiZ,Z_gate)\n",
    "            \n",
    "            else:\n",
    "                if n==0:\n",
    "                    hamiZ = I_gate\n",
    "                else:\n",
    "                    hamiZ = np.kron(hamiZ,I_gate)\n",
    "        \n",
    "        Zn = Zn + Bn[m]*hamiZ\n",
    "\n",
    "    hamiltonian = XX + YY + Zn\n",
    "    hami_gate = expm(-1j*hamiltonian*t)\n",
    "    \n",
    "    return DenseMatrix(list(range(n_qubit)), hami_gate)"
   ]
  },
  {
   "cell_type": "code",
   "execution_count": 5,
   "id": "fd06b094",
   "metadata": {},
   "outputs": [],
   "source": [
    "def he_ansatz_circuit(n_qubit, depth, theta_list):\n",
    "    \"\"\"he_ansatz_circuit\n",
    "    Returns hardware efficient ansatz circuit.\n",
    "\n",
    "    Args:\n",
    "        n_qubit (:class:`int`):\n",
    "            the number of qubit used (equivalent to the number of fermionic modes)\n",
    "        depth (:class:`int`):\n",
    "            depth of the circuit.\n",
    "        theta_list (:class:`numpy.ndarray`):\n",
    "            rotation angles.\n",
    "    Returns:\n",
    "        :class:`qulacs.QuantumCircuit`\n",
    "    \"\"\"\n",
    "    circuit = QuantumCircuit(n_qubit)\n",
    "    for d in range(depth):\n",
    "        circuit.add_gate(CNOT(0, 1))\n",
    "        circuit.add_gate(merge(RY(0, theta_list[gate_set*d+1]), RZ(0, theta_list[gate_set*d+2])))\n",
    "        circuit.add_gate(merge(RY(1, theta_list[gate_set*d+3]), RZ(1, theta_list[gate_set*d+4])))\n",
    "        circuit.add_gate(create_hamiltonian_time_evolution_gate(n_qubit, cn, r, bn, theta_list[0]))\n",
    "\n",
    "    return circuit"
   ]
  },
  {
   "cell_type": "code",
   "execution_count": 6,
   "id": "5b1aee75",
   "metadata": {},
   "outputs": [],
   "source": [
    "def cost(theta_list):\n",
    "    state = QuantumState(n_qubit) #|00000> を準備\n",
    "    circuit = he_ansatz_circuit(n_qubit, depth, theta_list) #量子回路を構成\n",
    "    circuit.update_quantum_state(state) #量子回路を状態に作用\n",
    "    return qulacs_hamiltonian.get_expectation_value(state) #ハミルトニアンの期待値を計算"
   ]
  },
  {
   "cell_type": "code",
   "execution_count": 15,
   "id": "a73c70f0",
   "metadata": {},
   "outputs": [
    {
     "ename": "KeyboardInterrupt",
     "evalue": "",
     "output_type": "error",
     "traceback": [
      "\u001b[0;31m---------------------------------------------------------------------------\u001b[0m",
      "\u001b[0;31mKeyboardInterrupt\u001b[0m                         Traceback (most recent call last)",
      "\u001b[0;32m/var/folders/gc/3mzc8d9x2xj5w6fw_nk559yc0000gq/T/ipykernel_44193/3516493755.py\u001b[0m in \u001b[0;36m<module>\u001b[0;34m\u001b[0m\n\u001b[1;32m      2\u001b[0m \u001b[0mt\u001b[0m \u001b[0;34m=\u001b[0m \u001b[0mnp\u001b[0m\u001b[0;34m.\u001b[0m\u001b[0marray\u001b[0m\u001b[0;34m(\u001b[0m\u001b[0;34m[\u001b[0m\u001b[0mrandom\u001b[0m\u001b[0;34m.\u001b[0m\u001b[0muniform\u001b[0m\u001b[0;34m(\u001b[0m\u001b[0;36m0.0\u001b[0m\u001b[0;34m,\u001b[0m\u001b[0;36m10.0\u001b[0m\u001b[0;34m)\u001b[0m\u001b[0;34m]\u001b[0m\u001b[0;34m)\u001b[0m\u001b[0;34m\u001b[0m\u001b[0;34m\u001b[0m\u001b[0m\n\u001b[1;32m      3\u001b[0m \u001b[0minit_random_list\u001b[0m \u001b[0;34m=\u001b[0m \u001b[0mnp\u001b[0m\u001b[0;34m.\u001b[0m\u001b[0mappend\u001b[0m\u001b[0;34m(\u001b[0m\u001b[0mt\u001b[0m\u001b[0;34m,\u001b[0m \u001b[0mnp\u001b[0m\u001b[0;34m.\u001b[0m\u001b[0mrandom\u001b[0m\u001b[0;34m.\u001b[0m\u001b[0mrandom\u001b[0m\u001b[0;34m(\u001b[0m\u001b[0;36m2\u001b[0m\u001b[0;34m*\u001b[0m\u001b[0mn_qubit\u001b[0m\u001b[0;34m*\u001b[0m\u001b[0;34m(\u001b[0m\u001b[0mdepth\u001b[0m\u001b[0;34m+\u001b[0m\u001b[0;36m1\u001b[0m\u001b[0;34m)\u001b[0m\u001b[0;34m)\u001b[0m\u001b[0;34m*\u001b[0m\u001b[0;36m1e-1\u001b[0m\u001b[0;34m)\u001b[0m\u001b[0;34m\u001b[0m\u001b[0;34m\u001b[0m\u001b[0m\n\u001b[0;32m----> 4\u001b[0;31m \u001b[0mcost_history\u001b[0m\u001b[0;34m.\u001b[0m\u001b[0mappend\u001b[0m\u001b[0;34m(\u001b[0m\u001b[0mcost\u001b[0m\u001b[0;34m(\u001b[0m\u001b[0minit_random_list\u001b[0m\u001b[0;34m)\u001b[0m\u001b[0;34m)\u001b[0m\u001b[0;34m\u001b[0m\u001b[0;34m\u001b[0m\u001b[0m\n\u001b[0m\u001b[1;32m      5\u001b[0m \u001b[0mmethod\u001b[0m \u001b[0;34m=\u001b[0m \u001b[0;34m\"BFGS\"\u001b[0m\u001b[0;34m\u001b[0m\u001b[0;34m\u001b[0m\u001b[0m\n\u001b[1;32m      6\u001b[0m \u001b[0moptions\u001b[0m \u001b[0;34m=\u001b[0m \u001b[0;34m{\u001b[0m\u001b[0;34m\"disp\"\u001b[0m\u001b[0;34m:\u001b[0m \u001b[0;32mTrue\u001b[0m\u001b[0;34m,\u001b[0m \u001b[0;34m\"maxiter\"\u001b[0m\u001b[0;34m:\u001b[0m \u001b[0;36m50\u001b[0m\u001b[0;34m,\u001b[0m \u001b[0;34m\"gtol\"\u001b[0m\u001b[0;34m:\u001b[0m \u001b[0;36m1e-6\u001b[0m\u001b[0;34m}\u001b[0m\u001b[0;34m\u001b[0m\u001b[0;34m\u001b[0m\u001b[0m\n",
      "\u001b[0;32m/var/folders/gc/3mzc8d9x2xj5w6fw_nk559yc0000gq/T/ipykernel_44193/2477909021.py\u001b[0m in \u001b[0;36mcost\u001b[0;34m(theta_list)\u001b[0m\n\u001b[1;32m      1\u001b[0m \u001b[0;32mdef\u001b[0m \u001b[0mcost\u001b[0m\u001b[0;34m(\u001b[0m\u001b[0mtheta_list\u001b[0m\u001b[0;34m)\u001b[0m\u001b[0;34m:\u001b[0m\u001b[0;34m\u001b[0m\u001b[0;34m\u001b[0m\u001b[0m\n\u001b[1;32m      2\u001b[0m     \u001b[0mstate\u001b[0m \u001b[0;34m=\u001b[0m \u001b[0mQuantumState\u001b[0m\u001b[0;34m(\u001b[0m\u001b[0mn_qubit\u001b[0m\u001b[0;34m)\u001b[0m \u001b[0;31m#|00000> を準備\u001b[0m\u001b[0;34m\u001b[0m\u001b[0;34m\u001b[0m\u001b[0m\n\u001b[0;32m----> 3\u001b[0;31m     \u001b[0mcircuit\u001b[0m \u001b[0;34m=\u001b[0m \u001b[0mhe_ansatz_circuit\u001b[0m\u001b[0;34m(\u001b[0m\u001b[0mn_qubit\u001b[0m\u001b[0;34m,\u001b[0m \u001b[0mdepth\u001b[0m\u001b[0;34m,\u001b[0m \u001b[0mtheta_list\u001b[0m\u001b[0;34m)\u001b[0m \u001b[0;31m#量子回路を構成\u001b[0m\u001b[0;34m\u001b[0m\u001b[0;34m\u001b[0m\u001b[0m\n\u001b[0m\u001b[1;32m      4\u001b[0m     \u001b[0mcircuit\u001b[0m\u001b[0;34m.\u001b[0m\u001b[0mupdate_quantum_state\u001b[0m\u001b[0;34m(\u001b[0m\u001b[0mstate\u001b[0m\u001b[0;34m)\u001b[0m \u001b[0;31m#量子回路を状態に作用\u001b[0m\u001b[0;34m\u001b[0m\u001b[0;34m\u001b[0m\u001b[0m\n\u001b[1;32m      5\u001b[0m     \u001b[0;32mreturn\u001b[0m \u001b[0mqulacs_hamiltonian\u001b[0m\u001b[0;34m.\u001b[0m\u001b[0mget_expectation_value\u001b[0m\u001b[0;34m(\u001b[0m\u001b[0mstate\u001b[0m\u001b[0;34m)\u001b[0m \u001b[0;31m#ハミルトニアンの期待値を計算\u001b[0m\u001b[0;34m\u001b[0m\u001b[0;34m\u001b[0m\u001b[0m\n",
      "\u001b[0;32m/var/folders/gc/3mzc8d9x2xj5w6fw_nk559yc0000gq/T/ipykernel_44193/2876065414.py\u001b[0m in \u001b[0;36mhe_ansatz_circuit\u001b[0;34m(n_qubit, depth, theta_list)\u001b[0m\n\u001b[1;32m     18\u001b[0m         \u001b[0mcircuit\u001b[0m\u001b[0;34m.\u001b[0m\u001b[0madd_gate\u001b[0m\u001b[0;34m(\u001b[0m\u001b[0mmerge\u001b[0m\u001b[0;34m(\u001b[0m\u001b[0mRY\u001b[0m\u001b[0;34m(\u001b[0m\u001b[0;36m0\u001b[0m\u001b[0;34m,\u001b[0m \u001b[0mtheta_list\u001b[0m\u001b[0;34m[\u001b[0m\u001b[0mgate_set\u001b[0m\u001b[0;34m*\u001b[0m\u001b[0md\u001b[0m\u001b[0;34m+\u001b[0m\u001b[0;36m1\u001b[0m\u001b[0;34m]\u001b[0m\u001b[0;34m)\u001b[0m\u001b[0;34m,\u001b[0m \u001b[0mRZ\u001b[0m\u001b[0;34m(\u001b[0m\u001b[0;36m0\u001b[0m\u001b[0;34m,\u001b[0m \u001b[0mtheta_list\u001b[0m\u001b[0;34m[\u001b[0m\u001b[0mgate_set\u001b[0m\u001b[0;34m*\u001b[0m\u001b[0md\u001b[0m\u001b[0;34m+\u001b[0m\u001b[0;36m2\u001b[0m\u001b[0;34m]\u001b[0m\u001b[0;34m)\u001b[0m\u001b[0;34m)\u001b[0m\u001b[0;34m)\u001b[0m\u001b[0;34m\u001b[0m\u001b[0;34m\u001b[0m\u001b[0m\n\u001b[1;32m     19\u001b[0m         \u001b[0mcircuit\u001b[0m\u001b[0;34m.\u001b[0m\u001b[0madd_gate\u001b[0m\u001b[0;34m(\u001b[0m\u001b[0mmerge\u001b[0m\u001b[0;34m(\u001b[0m\u001b[0mRY\u001b[0m\u001b[0;34m(\u001b[0m\u001b[0;36m1\u001b[0m\u001b[0;34m,\u001b[0m \u001b[0mtheta_list\u001b[0m\u001b[0;34m[\u001b[0m\u001b[0mgate_set\u001b[0m\u001b[0;34m*\u001b[0m\u001b[0md\u001b[0m\u001b[0;34m+\u001b[0m\u001b[0;36m3\u001b[0m\u001b[0;34m]\u001b[0m\u001b[0;34m)\u001b[0m\u001b[0;34m,\u001b[0m \u001b[0mRZ\u001b[0m\u001b[0;34m(\u001b[0m\u001b[0;36m1\u001b[0m\u001b[0;34m,\u001b[0m \u001b[0mtheta_list\u001b[0m\u001b[0;34m[\u001b[0m\u001b[0mgate_set\u001b[0m\u001b[0;34m*\u001b[0m\u001b[0md\u001b[0m\u001b[0;34m+\u001b[0m\u001b[0;36m4\u001b[0m\u001b[0;34m]\u001b[0m\u001b[0;34m)\u001b[0m\u001b[0;34m)\u001b[0m\u001b[0;34m)\u001b[0m\u001b[0;34m\u001b[0m\u001b[0;34m\u001b[0m\u001b[0m\n\u001b[0;32m---> 20\u001b[0;31m         \u001b[0mcircuit\u001b[0m\u001b[0;34m.\u001b[0m\u001b[0madd_gate\u001b[0m\u001b[0;34m(\u001b[0m\u001b[0mcreate_hamiltonian_time_evolution_gate\u001b[0m\u001b[0;34m(\u001b[0m\u001b[0mn_qubit\u001b[0m\u001b[0;34m,\u001b[0m \u001b[0mcn\u001b[0m\u001b[0;34m,\u001b[0m \u001b[0mr\u001b[0m\u001b[0;34m,\u001b[0m \u001b[0mbn\u001b[0m\u001b[0;34m,\u001b[0m \u001b[0mtheta_list\u001b[0m\u001b[0;34m[\u001b[0m\u001b[0;36m0\u001b[0m\u001b[0;34m]\u001b[0m\u001b[0;34m)\u001b[0m\u001b[0;34m)\u001b[0m\u001b[0;34m\u001b[0m\u001b[0;34m\u001b[0m\u001b[0m\n\u001b[0m\u001b[1;32m     21\u001b[0m \u001b[0;34m\u001b[0m\u001b[0m\n\u001b[1;32m     22\u001b[0m     \u001b[0;32mreturn\u001b[0m \u001b[0mcircuit\u001b[0m\u001b[0;34m\u001b[0m\u001b[0;34m\u001b[0m\u001b[0m\n",
      "\u001b[0;32m/var/folders/gc/3mzc8d9x2xj5w6fw_nk559yc0000gq/T/ipykernel_44193/1349051049.py\u001b[0m in \u001b[0;36mcreate_hamiltonian_time_evolution_gate\u001b[0;34m(n_qubit, cn, gamma, Bn, t)\u001b[0m\n\u001b[1;32m     21\u001b[0m             \u001b[0;32melif\u001b[0m \u001b[0mk\u001b[0m\u001b[0;34m+\u001b[0m\u001b[0;36m1\u001b[0m\u001b[0;34m==\u001b[0m\u001b[0ml\u001b[0m\u001b[0;34m:\u001b[0m\u001b[0;34m\u001b[0m\u001b[0;34m\u001b[0m\u001b[0m\n\u001b[1;32m     22\u001b[0m                 \u001b[0mhamiX\u001b[0m \u001b[0;34m=\u001b[0m \u001b[0mnp\u001b[0m\u001b[0;34m.\u001b[0m\u001b[0mkron\u001b[0m\u001b[0;34m(\u001b[0m\u001b[0mhamiX\u001b[0m\u001b[0;34m,\u001b[0m\u001b[0mX_gate\u001b[0m\u001b[0;34m)\u001b[0m\u001b[0;34m\u001b[0m\u001b[0;34m\u001b[0m\u001b[0m\n\u001b[0;32m---> 23\u001b[0;31m                 \u001b[0mhamiY\u001b[0m \u001b[0;34m=\u001b[0m \u001b[0mnp\u001b[0m\u001b[0;34m.\u001b[0m\u001b[0mkron\u001b[0m\u001b[0;34m(\u001b[0m\u001b[0mhamiY\u001b[0m\u001b[0;34m,\u001b[0m\u001b[0mY_gate\u001b[0m\u001b[0;34m)\u001b[0m\u001b[0;34m\u001b[0m\u001b[0;34m\u001b[0m\u001b[0m\n\u001b[0m\u001b[1;32m     24\u001b[0m             \u001b[0;32melse\u001b[0m\u001b[0;34m:\u001b[0m\u001b[0;34m\u001b[0m\u001b[0;34m\u001b[0m\u001b[0m\n\u001b[1;32m     25\u001b[0m                 \u001b[0;32mif\u001b[0m \u001b[0ml\u001b[0m\u001b[0;34m==\u001b[0m\u001b[0;36m0\u001b[0m\u001b[0;34m:\u001b[0m\u001b[0;34m\u001b[0m\u001b[0;34m\u001b[0m\u001b[0m\n",
      "\u001b[0;32m<__array_function__ internals>\u001b[0m in \u001b[0;36mkron\u001b[0;34m(*args, **kwargs)\u001b[0m\n",
      "\u001b[0;32m~/.pyenv/versions/anaconda3-2021.05/lib/python3.8/site-packages/numpy/lib/shape_base.py\u001b[0m in \u001b[0;36mkron\u001b[0;34m(a, b)\u001b[0m\n\u001b[1;32m   1152\u001b[0m             \u001b[0mbs\u001b[0m \u001b[0;34m=\u001b[0m \u001b[0;34m(\u001b[0m\u001b[0;36m1\u001b[0m\u001b[0;34m,\u001b[0m\u001b[0;34m)\u001b[0m\u001b[0;34m*\u001b[0m\u001b[0;34m(\u001b[0m\u001b[0mnda\u001b[0m\u001b[0;34m-\u001b[0m\u001b[0mndb\u001b[0m\u001b[0;34m)\u001b[0m \u001b[0;34m+\u001b[0m \u001b[0mbs\u001b[0m\u001b[0;34m\u001b[0m\u001b[0;34m\u001b[0m\u001b[0m\n\u001b[1;32m   1153\u001b[0m             \u001b[0mnd\u001b[0m \u001b[0;34m=\u001b[0m \u001b[0mnda\u001b[0m\u001b[0;34m\u001b[0m\u001b[0;34m\u001b[0m\u001b[0m\n\u001b[0;32m-> 1154\u001b[0;31m     \u001b[0mresult\u001b[0m \u001b[0;34m=\u001b[0m \u001b[0mouter\u001b[0m\u001b[0;34m(\u001b[0m\u001b[0ma\u001b[0m\u001b[0;34m,\u001b[0m \u001b[0mb\u001b[0m\u001b[0;34m)\u001b[0m\u001b[0;34m.\u001b[0m\u001b[0mreshape\u001b[0m\u001b[0;34m(\u001b[0m\u001b[0mas_\u001b[0m\u001b[0;34m+\u001b[0m\u001b[0mbs\u001b[0m\u001b[0;34m)\u001b[0m\u001b[0;34m\u001b[0m\u001b[0;34m\u001b[0m\u001b[0m\n\u001b[0m\u001b[1;32m   1155\u001b[0m     \u001b[0maxis\u001b[0m \u001b[0;34m=\u001b[0m \u001b[0mnd\u001b[0m\u001b[0;34m-\u001b[0m\u001b[0;36m1\u001b[0m\u001b[0;34m\u001b[0m\u001b[0;34m\u001b[0m\u001b[0m\n\u001b[1;32m   1156\u001b[0m     \u001b[0;32mfor\u001b[0m \u001b[0m_\u001b[0m \u001b[0;32min\u001b[0m \u001b[0mrange\u001b[0m\u001b[0;34m(\u001b[0m\u001b[0mnd\u001b[0m\u001b[0;34m)\u001b[0m\u001b[0;34m:\u001b[0m\u001b[0;34m\u001b[0m\u001b[0;34m\u001b[0m\u001b[0m\n",
      "\u001b[0;32m<__array_function__ internals>\u001b[0m in \u001b[0;36mouter\u001b[0;34m(*args, **kwargs)\u001b[0m\n",
      "\u001b[0;32m~/.pyenv/versions/anaconda3-2021.05/lib/python3.8/site-packages/numpy/core/numeric.py\u001b[0m in \u001b[0;36mouter\u001b[0;34m(a, b, out)\u001b[0m\n\u001b[1;32m    940\u001b[0m     \u001b[0ma\u001b[0m \u001b[0;34m=\u001b[0m \u001b[0masarray\u001b[0m\u001b[0;34m(\u001b[0m\u001b[0ma\u001b[0m\u001b[0;34m)\u001b[0m\u001b[0;34m\u001b[0m\u001b[0;34m\u001b[0m\u001b[0m\n\u001b[1;32m    941\u001b[0m     \u001b[0mb\u001b[0m \u001b[0;34m=\u001b[0m \u001b[0masarray\u001b[0m\u001b[0;34m(\u001b[0m\u001b[0mb\u001b[0m\u001b[0;34m)\u001b[0m\u001b[0;34m\u001b[0m\u001b[0;34m\u001b[0m\u001b[0m\n\u001b[0;32m--> 942\u001b[0;31m     \u001b[0;32mreturn\u001b[0m \u001b[0mmultiply\u001b[0m\u001b[0;34m(\u001b[0m\u001b[0ma\u001b[0m\u001b[0;34m.\u001b[0m\u001b[0mravel\u001b[0m\u001b[0;34m(\u001b[0m\u001b[0;34m)\u001b[0m\u001b[0;34m[\u001b[0m\u001b[0;34m:\u001b[0m\u001b[0;34m,\u001b[0m \u001b[0mnewaxis\u001b[0m\u001b[0;34m]\u001b[0m\u001b[0;34m,\u001b[0m \u001b[0mb\u001b[0m\u001b[0;34m.\u001b[0m\u001b[0mravel\u001b[0m\u001b[0;34m(\u001b[0m\u001b[0;34m)\u001b[0m\u001b[0;34m[\u001b[0m\u001b[0mnewaxis\u001b[0m\u001b[0;34m,\u001b[0m \u001b[0;34m:\u001b[0m\u001b[0;34m]\u001b[0m\u001b[0;34m,\u001b[0m \u001b[0mout\u001b[0m\u001b[0;34m)\u001b[0m\u001b[0;34m\u001b[0m\u001b[0;34m\u001b[0m\u001b[0m\n\u001b[0m\u001b[1;32m    943\u001b[0m \u001b[0;34m\u001b[0m\u001b[0m\n\u001b[1;32m    944\u001b[0m \u001b[0;34m\u001b[0m\u001b[0m\n",
      "\u001b[0;31mKeyboardInterrupt\u001b[0m: "
     ]
    }
   ],
   "source": [
    "cost_history = []\n",
    "t = np.array([random.uniform(0.0,10.0)])\n",
    "init_random_list = np.append(t, np.random.random(2*n_qubit*(depth+1))*1e-1)\n",
    "cost_history.append(cost(init_random_list))\n",
    "method = \"BFGS\"\n",
    "options = {\"disp\": True, \"maxiter\": 50, \"gtol\": 1e-6}\n",
    "opt = minimize(cost, init_random_list,\n",
    "               method=method,\n",
    "               callback=lambda x: cost_history.append(cost(x)))\n",
    "print(cost_history)"
   ]
  },
  {
   "cell_type": "code",
   "execution_count": 8,
   "id": "34e1031f",
   "metadata": {},
   "outputs": [
    {
     "data": {
      "image/png": "[encoded data removed]",
      "text/plain": [
       "<Figure size 432x288 with 1 Axes>"
      ]
     },
     "metadata": {
      "needs_background": "light"
     },
     "output_type": "display_data"
    }
   ],
   "source": [
    "plt.rcParams[\"font.size\"] = 18\n",
    "plt.plot(cost_history, color=\"red\", label=\"VQE\")\n",
    "plt.plot(range(len(cost_history)), [molecule.fci_energy]*len(cost_history), linestyle=\"dashed\", color=\"black\", label=\"Exact Solution\")\n",
    "plt.xlabel(\"Iteration\")\n",
    "plt.ylabel(\"Energy expectation value\")\n",
    "plt.legend()\n",
    "plt.show()"
   ]
  },
  {
   "cell_type": "code",
   "execution_count": 9,
   "id": "dbf9ec11",
   "metadata": {},
   "outputs": [
    {
     "name": "stdout",
     "output_type": "stream",
     "text": [
      "[('O', (0, 0, 0)), ('H', (0.2774, 0.8929, 0.2544)), ('H', (0.6068, -0.2383, -0.7169))]\n"
     ]
    }
   ],
   "source": [
    "geometry = geometry_from_pubchem('oxidane')\n",
    "print(geometry)"
   ]
  }
 ],
 "metadata": {
  "kernelspec": {
   "display_name": "Python 3 (ipykernel)",
   "language": "python",
   "name": "python3"
  },
  "language_info": {
   "codemirror_mode": {
    "name": "ipython",
    "version": 3
   },
   "file_extension": ".py",
   "mimetype": "text/x-python",
   "name": "python",
   "nbconvert_exporter": "python",
   "pygments_lexer": "ipython3",
   "version": "3.8.12"
  }
 },
 "nbformat": 4,
 "nbformat_minor": 5
}
