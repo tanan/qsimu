{
 "cells": [
  {
   "cell_type": "code",
   "execution_count": 21,
   "id": "6e8e76c1",
   "metadata": {},
   "outputs": [],
   "source": [
    "import qulacs\n",
    "from openfermion.transforms import get_fermion_operator, jordan_wigner\n",
    "from openfermion.linalg import get_sparse_operator\n",
    "from openfermion.chem import MolecularData, geometry_from_pubchem\n",
    "from openfermionpyscf import run_pyscf\n",
    "from openfermionpsi4 import run_psi4\n",
    "from scipy.optimize import minimize\n",
    "from pyscf import fci\n",
    "import numpy as np\n",
    "from scipy.linalg import expm\n",
    "import random\n",
    "import matplotlib.pyplot as plt"
   ]
  },
  {
   "cell_type": "code",
   "execution_count": 22,
   "id": "c7aaa75d",
   "metadata": {},
   "outputs": [
    {
     "name": "stdout",
     "output_type": "stream",
     "text": [
      "4\n",
      "2\n",
      "2\n",
      "2\n"
     ]
    }
   ],
   "source": [
    "basis = \"sto-3g\"\n",
    "multiplicity = 1\n",
    "charge = 0\n",
    "# geometry = [[\"C\", [0,0,0]],[\"H\", [0.5541, 0.7996, 0.4965]],[\"H\", [0.6833, -0.8134, -0.2536]],[\"H\", [-0.7782, -0.3735, 0.6692]],[\"H\", [-0.4593, 0.3874, -0.9121]]]\n",
    "# geometry = [[\"O\", [0, 0, 0]],[\"H\", [0.2774, 0.8929, 0.2544]], [\"H\", [0.6068, -0.2383, -0.7169]]]\n",
    "geometry = [[\"H\", [0,0,0]],[\"H\", [0,0,0.977]]]\n",
    "# geometry = [[\"He\", [0,0,0]],[\"H\", [0,0,0.9]]]\n",
    "# geometry = [[\"Li\", [0,0,0]],[\"H\", [0,0,1.5949]]]\n",
    "# geometry = [[\"Be\", [2.5369, 0.155, 0]], [\"H\", [2, -0.155, 0]], [\"H\", [3.0739, -0.155, 0]]]\n",
    "\n",
    "description  = \"tmp\"\n",
    "molecule = MolecularData(geometry, basis, multiplicity, charge, description)\n",
    "molecule = run_psi4(molecule,run_scf=1,run_fci=1)\n",
    "print(molecule.n_qubits)\n",
    "print(molecule.n_electrons)\n",
    "print(molecule.n_orbitals)\n",
    "print(molecule.n_atoms)\n",
    "n_qubit = molecule.n_qubits\n",
    "n_electron = molecule.n_electrons\n",
    "fermionic_hamiltonian = get_fermion_operator(molecule.get_molecular_hamiltonian())\n",
    "jw_hamiltonian = jordan_wigner(fermionic_hamiltonian)\n",
    "\n",
    "from qulacs import Observable\n",
    "from qulacs.observable import create_observable_from_openfermion_text\n",
    "qulacs_hamiltonian = create_observable_from_openfermion_text(str(jw_hamiltonian))"
   ]
  },
  {
   "cell_type": "code",
   "execution_count": 23,
   "id": "203b777f",
   "metadata": {},
   "outputs": [],
   "source": [
    "# from openfermion.ops import QubitOperator\n",
    "\n",
    "# jw_hamiltonian = (-0.143021 * QubitOperator('Z0')) + (0.104962 * QubitOperator('Z0 Z1')) + (0.038195 * QubitOperator('Z1 Z2')) + (-0.325651 * QubitOperator('Z2')) + (-0.143021 * QubitOperator('Z3')) + (0.104962 * QubitOperator('Z3 Z4')) + (0.038195 * QubitOperator('Z4 Z5')) + (-0.325651 * QubitOperator('Z5')) + (0.172191 * QubitOperator('Z1')) + (0.174763 * QubitOperator('Z0 Z1 Z2')) + (0.136055 * QubitOperator('Z0 Z2')) + (0.116134 * QubitOperator('Z0 Z3')) + (0.094064 * QubitOperator('Z0 Z3 Z4')) + (0.099152 * QubitOperator('Z0 Z4 Z5')) + (0.123367 * QubitOperator('Z0 Z5')) + (0.094064 * QubitOperator('Z0 Z1 Z3')) + (0.098003 * QubitOperator('Z0 Z1 Z3 Z4')) + (0.102525 * QubitOperator('Z0 Z1 Z4 Z5')) + (0.097795 * QubitOperator('Z0 Z1 Z5')) + (0.099152 * QubitOperator('Z1 Z2 Z3')) + (0.102525 * QubitOperator('Z1 Z2 Z3 Z4')) + (0.112045 * QubitOperator('Z1 Z2 Z4 Z5')) + (0.105708 * QubitOperator('Z1 Z2 Z5')) + (0.123367 * QubitOperator('Z2 Z3')) + (0.097795 * QubitOperator('Z2 Z3 Z4')) + (0.105708 * QubitOperator('Z2 Z4 Z5')) + (0.133557 * QubitOperator('Z2 Z5')) + (0.172191 * QubitOperator('Z4')) + (0.174763 * QubitOperator('Z3 Z4 Z5')) + (0.136055 * QubitOperator('Z3 Z5')) + (0.059110 * QubitOperator('X0 Z1')) + (-0.059110 * QubitOperator('X0')) + (0.161019 * QubitOperator('Z1 X2')) + (-0.161019 * QubitOperator('X2')) + (0.059110 * QubitOperator('X3 Z4')) + (-0.059110 * QubitOperator('X3')) + (0.161019 * QubitOperator('Z4 X5')) + (-0.161019 * QubitOperator('X5')) + (-0.038098 * QubitOperator('X0 X2')) + (-0.003300 * QubitOperator('X0 Z1 X2')) + (0.013745 * QubitOperator('X0 Z1 X3 Z4')) + (-0.013745 * QubitOperator('X0 Z1 X3')) + (-0.013745 * QubitOperator('X0 X3 Z4')) + (0.013745 * QubitOperator('X0 X3')) + (0.011986 * QubitOperator('X0 Z1 Z4 X5')) + (-0.011986 * QubitOperator('X0 Z1 X5')) + (-0.011986 * QubitOperator('X0 Z4 X5')) + (0.011986 * QubitOperator('X0 X5')) + (0.011986 * QubitOperator('Z1 X2 X3 Z4')) + (-0.011986 * QubitOperator('Z1 X2 X3')) + (-0.011986 * QubitOperator('X2 X3 Z4')) + (0.011986 * QubitOperator('X2 X3')) + (0.013836 * QubitOperator('Z1 X2 Z4 X5')) + (-0.013836 * QubitOperator('Z1 X2 X5')) + (-0.013836 * QubitOperator('X2 Z4 X5')) + (0.013836 * QubitOperator('X2 X5')) + (-0.038098 * QubitOperator('X3 X5')) + (-0.003300 * QubitOperator('X3 Z4 X5')) + (-0.002246 * QubitOperator('Z0 Z1 X2')) + (0.002246 * QubitOperator('Z0 X2')) + (0.014815 * QubitOperator('Z0 X3 Z4')) + (-0.014815 * QubitOperator('Z0 X3')) + (0.009922 * QubitOperator('Z0 Z4 X5')) + (-0.009922 * QubitOperator('Z0 X5')) + (-0.002038 * QubitOperator('Z0 Z1 X3 Z4')) + (0.002038 * QubitOperator('Z0 Z1 X3')) + (-0.007016 * QubitOperator('Z0 Z1 Z4 X5')) + (0.007016 * QubitOperator('Z0 Z1 X5')) + (-0.006154 * QubitOperator('X0 Z2')) + (0.006154 * QubitOperator('X0 Z1 Z2')) + (0.014815 * QubitOperator('X0 Z1 Z3')) + (-0.014815 * QubitOperator('X0 Z3')) + (-0.002038 * QubitOperator('X0 Z1 Z3 Z4')) + (0.002038 * QubitOperator('X0 Z3 Z4')) + (0.001124 * QubitOperator('X0 Z1 Z4 Z5')) + (-0.001124 * QubitOperator('X0 Z4 Z5')) + (0.017678 * QubitOperator('X0 Z1 Z5')) + (-0.017678 * QubitOperator('X0 Z5')) + (-0.041398 * QubitOperator('Y0 Y2')) + (0.011583 * QubitOperator('Y0 Y1 X3 X4 Z5')) + (-0.011094 * QubitOperator('Y0 Y1 X4')) + (0.010336 * QubitOperator('Y1 Y2 X3 X4 Z5')) + (-0.005725 * QubitOperator('Y1 Y2 X4')) + (-0.006154 * QubitOperator('X3 Z5')) + (0.011583 * QubitOperator('X0 X1 Z2 X3 X4 Z5')) + (-0.011094 * QubitOperator('X0 X1 Z2 X4')) + (-0.011094 * QubitOperator('X1 X3 X4 Z5')) + (0.026631 * QubitOperator('X1 X4')) + (-0.017678 * QubitOperator('Z2 X3')) + (0.011583 * QubitOperator('X0 X1 Z2 Y3 Y4')) + (0.010336 * QubitOperator('X0 X1 Z2 Y4 Y5')) + (-0.011094 * QubitOperator('X1 Y3 Y4')) + (-0.005725 * QubitOperator('X1 Y4 Y5')) + (-0.041398 * QubitOperator('Y3 Y5')) + (0.011583 * QubitOperator('Y0 Y1 Y3 Y4')) + (0.010336 * QubitOperator('Y0 Y1 Y4 Y5')) + (0.010336 * QubitOperator('Y1 Y2 Y3 Y4')) + (0.010600 * QubitOperator('Y1 Y2 Y4 Y5')) + (0.024909 * QubitOperator('X0 X1 Z2 X3 X4 X5')) + (-0.031035 * QubitOperator('X1 X3 X4 X5')) + (-0.010064 * QubitOperator('Z2 X5')) + (0.024909 * QubitOperator('X0 X1 Z2 Y3 X4 Y5')) + (-0.031035 * QubitOperator('X1 Y3 X4 Y5')) + (0.024909 * QubitOperator('Y0 Y1 X3 X4 X5')) + (0.021494 * QubitOperator('Y1 Y2 X3 X4 X5')) + (0.024909 * QubitOperator('Y0 Y1 Y3 X4 Y5')) + (0.021494 * QubitOperator('Y1 Y2 Y3 X4 Y5')) + (0.011094 * QubitOperator('X0 X1 Z2 Z3 X4 Z5')) + (-0.026631 * QubitOperator('X1 Z3 X4 Z5')) + (0.011094 * QubitOperator('Y0 Y1 Z3 X4 Z5')) + (0.005725 * QubitOperator('Y1 Y2 Z3 X4 Z5')) + (0.010336 * QubitOperator('X0 X1 Z2 Z3 X4 X5')) + (-0.005725 * QubitOperator('X1 Z3 X4 X5')) + (0.002246 * QubitOperator('Z3 X5')) + (0.010336 * QubitOperator('Y0 Y1 Z3 X4 X5')) + (0.010600 * QubitOperator('Y1 Y2 Z3 X4 X5')) + (0.024909 * QubitOperator('X0 X1 X2 X3 X4 Z5')) + (-0.031035 * QubitOperator('X0 X1 X2 X4')) + (-0.010064 * QubitOperator('X2 Z5')) + (0.024909 * QubitOperator('X0 X1 X2 Y3 Y4')) + (0.021494 * QubitOperator('X0 X1 X2 Y4 Y5')) + (0.024909 * QubitOperator('Y0 X1 Y2 X3 X4 Z5')) + (-0.031035 * QubitOperator('Y0 X1 Y2 X4')) + (0.024909 * QubitOperator('Y0 X1 Y2 Y3 Y4')) + (0.021494 * QubitOperator('Y0 X1 Y2 Y4 Y5')) + (0.063207 * QubitOperator('X0 X1 X2 X3 X4 X5')) + (0.063207 * QubitOperator('X0 X1 X2 Y3 X4 Y5')) + (0.063207 * QubitOperator('Y0 X1 Y2 X3 X4 X5')) + (0.063207 * QubitOperator('Y0 X1 Y2 Y3 X4 Y5')) + (0.031035 * QubitOperator('X0 X1 X2 Z3 X4 Z5')) + (-0.009922 * QubitOperator('X2 Z3')) + (0.031035 * QubitOperator('Y0 X1 Y2 Z3 X4 Z5')) + (0.021494 * QubitOperator('X0 X1 X2 Z3 X4 X5')) + (0.021494 * QubitOperator('Y0 X1 Y2 Z3 X4 X5')) + (0.011094 * QubitOperator('Z0 X1 Z2 X3 X4 Z5')) + (-0.026631 * QubitOperator('Z0 X1 Z2 X4')) + (0.011094 * QubitOperator('Z0 X1 Z2 Y3 Y4')) + (0.005725 * QubitOperator('Z0 X1 Z2 Y4 Y5')) + (0.031035 * QubitOperator('Z0 X1 Z2 X3 X4 X5')) + (0.031035 * QubitOperator('Z0 X1 Z2 Y3 X4 Y5')) + (0.026631 * QubitOperator('Z0 X1 Z2 Z3 X4 Z5')) + (0.005725 * QubitOperator('Z0 X1 Z2 Z3 X4 X5')) + (0.010336 * QubitOperator('Z0 X1 X2 X3 X4 Z5')) + (-0.005725 * QubitOperator('Z0 X1 X2 X4')) + (0.010336 * QubitOperator('Z0 X1 X2 Y3 Y4')) + (0.010600 * QubitOperator('Z0 X1 X2 Y4 Y5')) + (0.021494 * QubitOperator('Z0 X1 X2 X3 X4 X5')) + (0.021494 * QubitOperator('Z0 X1 X2 Y3 X4 Y5')) + (0.005725 * QubitOperator('Z0 X1 X2 Z3 X4 Z5')) + (0.010600 * QubitOperator('Z0 X1 X2 Z3 X4 X5')) + (0.001124 * QubitOperator('Z1 Z2 X3 Z4')) + (-0.001124 * QubitOperator('Z1 Z2 X3')) + (-0.007952 * QubitOperator('Z1 Z2 Z4 X5')) + (0.007952 * QubitOperator('Z1 Z2 X5')) + (0.017678 * QubitOperator('Z2 X3 Z4')) + (0.010064 * QubitOperator('Z2 Z4 X5')) + (0.009922 * QubitOperator('Z1 X2 Z3')) + (-0.007016 * QubitOperator('Z1 X2 Z3 Z4')) + (0.007016 * QubitOperator('X2 Z3 Z4')) + (-0.007952 * QubitOperator('Z1 X2 Z4 Z5')) + (0.007952 * QubitOperator('X2 Z4 Z5')) + (0.010064 * QubitOperator('Z1 X2 Z5')) + (-0.002246 * QubitOperator('Z3 Z4 X5')) + (0.006154 * QubitOperator('X3 Z4 Z5'))\n",
    "# n_qubit = 6\n",
    "\n",
    "# from qulacs import Observable\n",
    "# from qulacs.observable import create_observable_from_openfermion_text\n",
    "# qulacs_hamiltonian = create_observable_from_openfermion_text(str(jw_hamiltonian))"
   ]
  },
  {
   "cell_type": "code",
   "execution_count": 24,
   "id": "3606ce0f",
   "metadata": {},
   "outputs": [],
   "source": [
    "from qulacs import QuantumState, QuantumCircuit\n",
    "from qulacs.gate import CNOT, CZ, RY, RZ, merge\n",
    "\n",
    "depth = n_qubit\n",
    "cn = [1] * n_qubit\n",
    "r = 0\n",
    "bn = [0] * n_qubit\n",
    "gate_set = 4"
   ]
  },
  {
   "cell_type": "code",
   "execution_count": 25,
   "id": "3ec0204f",
   "metadata": {},
   "outputs": [],
   "source": [
    "from qulacs.gate import DenseMatrix\n",
    "def create_hamiltonian_time_evolution_gate(n_qubit, cn, gamma, Bn, t):\n",
    "    I_gate = [[1,0],[0,1]]\n",
    "    X_gate = [[0,1],[1,0]]\n",
    "    Y_gate = [[0,0-1j],[0+1j,0]]\n",
    "    Z_gate = [[1,0],[0,-1]]\n",
    "    \n",
    "    XX= np.array(np.zeros(2**n_qubit))\n",
    "    YY= np.array(np.zeros(2**n_qubit))\n",
    "    Zn= np.array(np.zeros(2**n_qubit))\n",
    "    for k in range(n_qubit-1):\n",
    "        for l in range(n_qubit):\n",
    "            if k==l:\n",
    "                if l==0:\n",
    "                    hamiX = X_gate\n",
    "                    hamiY = Y_gate\n",
    "                else:\n",
    "                    hamiX = np.kron(hamiX,X_gate)\n",
    "                    hamiY = np.kron(hamiY,Y_gate)\n",
    "\n",
    "            elif k+1==l:\n",
    "                hamiX = np.kron(hamiX,X_gate)\n",
    "                hamiY = np.kron(hamiY,Y_gate)\n",
    "            else:\n",
    "                if l==0:\n",
    "                    hamiX = I_gate\n",
    "                    hamiY = I_gate\n",
    "                else:\n",
    "                    hamiX = np.kron(hamiX,I_gate)\n",
    "                    hamiY = np.kron(hamiY,I_gate)\n",
    "        XX = XX+ 0.5*cn[k]*(1+gamma)*hamiX\n",
    "        YY = YY+ 0.5*cn[k]*(1-gamma)*hamiY\n",
    "        \n",
    "    for m in range(n_qubit):\n",
    "        for n in range(n_qubit):\n",
    "            if m==n:\n",
    "                if n==0:\n",
    "                    hamiZ = Z_gate\n",
    "                else:\n",
    "                    hamiZ = np.kron(hamiZ,Z_gate)\n",
    "            \n",
    "            else:\n",
    "                if n==0:\n",
    "                    hamiZ = I_gate\n",
    "                else:\n",
    "                    hamiZ = np.kron(hamiZ,I_gate)\n",
    "        \n",
    "        Zn = Zn + Bn[m]*hamiZ\n",
    "\n",
    "    hamiltonian = XX + YY + Zn\n",
    "    hami_gate = expm(-1j*hamiltonian*t)\n",
    "    \n",
    "    return DenseMatrix(list(range(n_qubit)), hami_gate)"
   ]
  },
  {
   "cell_type": "code",
   "execution_count": 26,
   "id": "fd06b094",
   "metadata": {},
   "outputs": [],
   "source": [
    "# def he_ansatz_circuit(n_qubit, depth, theta_list):\n",
    "#     \"\"\"he_ansatz_circuit\n",
    "#     Returns hardware efficient ansatz circuit.\n",
    "\n",
    "#     Args:\n",
    "#         n_qubit (:class:`int`):\n",
    "#             the number of qubit used (equivalent to the number of fermionic modes)\n",
    "#         depth (:class:`int`):\n",
    "#             depth of the circuit.\n",
    "#         theta_list (:class:`numpy.ndarray`):\n",
    "#             rotation angles.\n",
    "#     Returns:\n",
    "#         :class:`qulacs.QuantumCircuit`\n",
    "#     \"\"\"\n",
    "#     circuit = QuantumCircuit(n_qubit)\n",
    "#     for d in range(depth):\n",
    "#         for i in range(n_qubit):\n",
    "#             circuit.add_gate(merge(RY(i, theta_list[2*i+2*n_qubit*d]), RZ(i, theta_list[2*i+1+2*n_qubit*d])))\n",
    "#         for i in range(n_qubit//2):\n",
    "#             circuit.add_gate(CZ(2*i, 2*i+1))\n",
    "#         for i in range(n_qubit//2-1):\n",
    "#             circuit.add_gate(CZ(2*i+1, 2*i+2))\n",
    "#     for i in range(n_qubit):\n",
    "#         circuit.add_gate(merge(RY(i, theta_list[2*i+2*n_qubit*depth]), RZ(i, theta_list[2*i+1+2*n_qubit*depth])))\n",
    "\n",
    "#     return circuit\n",
    "\n",
    "def he_ansatz_circuit(n_qubit, depth, theta_list):\n",
    "    \"\"\"he_ansatz_circuit\n",
    "    Returns hardware efficient ansatz circuit.\n",
    "\n",
    "    Args:\n",
    "        n_qubit (:class:`int`):\n",
    "            the number of qubit used (equivalent to the number of fermionic modes)\n",
    "        depth (:class:`int`):\n",
    "            depth of the circuit.\n",
    "        theta_list (:class:`numpy.ndarray`):\n",
    "            rotation angles.\n",
    "    Returns:\n",
    "        :class:`qulacs.QuantumCircuit`\n",
    "    \"\"\"\n",
    "    circuit = QuantumCircuit(n_qubit)\n",
    "    for d in range(depth):\n",
    "        circuit.add_gate(CNOT(0, 1))\n",
    "        circuit.add_gate(merge(RY(0, theta_list[gate_set*d+1]), RZ(0, theta_list[gate_set*d+2])))\n",
    "        circuit.add_gate(merge(RY(1, theta_list[gate_set*d+3]), RZ(1, theta_list[gate_set*d+4])))\n",
    "        circuit.add_gate(create_hamiltonian_time_evolution_gate(n_qubit, cn, r, bn, theta_list[0]))\n",
    "\n",
    "    return circuit"
   ]
  },
  {
   "cell_type": "code",
   "execution_count": 27,
   "id": "5b1aee75",
   "metadata": {},
   "outputs": [],
   "source": [
    "def cost(theta_list):\n",
    "    state = QuantumState(n_qubit) #|00000> を準備\n",
    "    circuit = he_ansatz_circuit(n_qubit, depth, theta_list) #量子回路を構成\n",
    "    circuit.update_quantum_state(state) #量子回路を状態に作用\n",
    "    return qulacs_hamiltonian.get_expectation_value(state) #ハミルトニアンの期待値を計算"
   ]
  },
  {
   "cell_type": "code",
   "execution_count": 28,
   "id": "a73c70f0",
   "metadata": {},
   "outputs": [
    {
     "name": "stdout",
     "output_type": "stream",
     "text": [
      "[0.5348245244165148, -0.29381904652825847, -0.6936579695728758, -0.7157930247007426, -0.7267932635762988, -0.7469992242410838, -0.7794151434505758, -0.7998480105965255, -0.8064082967259834, -0.8175097444747546, -0.8332647340264172, -0.847432127832877, -0.8595489703587188, -0.8738911743669256, -0.8949831307670839, -0.9052816527823571, -0.9139963053475885, -0.9198790925365712, -0.9298321667405729, -0.9412905985878356, -0.9452550238914621, -0.9513607894712633, -0.9549885281358281, -0.9566800941441007, -0.9595640001613481, -0.9638540569491867, -0.96707037309881, -0.9689970435002514, -0.9717389196073065, -0.9742087494440193, -0.978423722282991, -0.9853287718534836, -0.9901644284380768, -0.995555001716656, -1.0020522592280665, -1.0040748175905103, -1.0055054561862338, -1.0067096799223163, -1.0082774096070244, -1.0094725484099891, -1.0102631254751286, -1.010855346710989, -1.011399696471293, -1.01201607357428, -1.0127055911274407, -1.013347895131609, -1.0138002334999205, -1.0140627720035127, -1.0142815118069497, -1.0145265127138343, -1.0148035076323785, -1.0150714385364528, -1.0153048405232008, -1.0154897610589861, -1.0155810657237956, -1.015637704875195, -1.0156854791752612, -1.0157646340021453, -1.0158922147842802, -1.016051122699288, -1.0161331512744844, -1.0162110665025916, -1.0162541457785033, -1.0162916203555226, -1.0163464016075825, -1.0164392274714191, -1.0165783243360398, -1.0167034147030378, -1.0167616227459026, -1.016769675273468, -1.0167827615176552, -1.016791420679478, -1.0167920990678847, -1.0167928807611188, -1.0167932647171904, -1.0167934508817207, -1.016793472123822, -1.0167934795038271, -1.0167934881831688, -1.0167935029877528, -1.016793529410063, -1.016793577634864, -1.0167936660430952, -1.0167938280425024, -1.0167941238205769, -1.0167946641607033, -1.0167956667655718, -1.0168044332064348, -1.0168092243632243, -1.0168141807421047, -1.0168532591856068, -1.0169047360866927, -1.0169303250284545, -1.016964058158936, -1.0169686171755024, -1.016968864896993, -1.016969003040642, -1.0169690467250074, -1.0169691081551093, -1.0169691996928067, -1.016969263193682, -1.0169692799548269, -1.0169692832909067]\n"
     ]
    }
   ],
   "source": [
    "cost_history = []\n",
    "t = np.array([random.uniform(0.0,10.0)])\n",
    "init_random_list = np.append(t, np.random.random(2*n_qubit*(depth+1))*1e-1)\n",
    "cost_history.append(cost(init_random_list))\n",
    "method = \"BFGS\"\n",
    "options = {\"disp\": True, \"maxiter\": 50, \"gtol\": 1e-6}\n",
    "opt = minimize(cost, init_random_list,\n",
    "               method=method,\n",
    "               callback=lambda x: cost_history.append(cost(x)))\n",
    "print(cost_history)"
   ]
  },
  {
   "cell_type": "code",
   "execution_count": 9,
   "id": "34e1031f",
   "metadata": {},
   "outputs": [
    {
     "data": {
      "image/png": "[encoded data removed]",
      "text/plain": [
       "<Figure size 432x288 with 1 Axes>"
      ]
     },
     "metadata": {
      "needs_background": "light"
     },
     "output_type": "display_data"
    }
   ],
   "source": [
    "plt.rcParams[\"font.size\"] = 18\n",
    "plt.plot(cost_history, color=\"red\", label=\"VQE\")\n",
    "plt.plot(range(len(cost_history)), [molecule.fci_energy]*len(cost_history), linestyle=\"dashed\", color=\"black\", label=\"Exact Solution\")\n",
    "plt.xlabel(\"Iteration\")\n",
    "plt.ylabel(\"Energy expectation value\")\n",
    "plt.legend()\n",
    "plt.show()"
   ]
  }
 ],
 "metadata": {
  "kernelspec": {
   "display_name": "Python 3 (ipykernel)",
   "language": "python",
   "name": "python3"
  },
  "language_info": {
   "codemirror_mode": {
    "name": "ipython",
    "version": 3
   },
   "file_extension": ".py",
   "mimetype": "text/x-python",
   "name": "python",
   "nbconvert_exporter": "python",
   "pygments_lexer": "ipython3",
   "version": "3.8.12"
  }
 },
 "nbformat": 4,
 "nbformat_minor": 5
}
