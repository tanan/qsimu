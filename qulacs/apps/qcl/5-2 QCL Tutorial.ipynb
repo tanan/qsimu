{
 "cells": [
  {
   "cell_type": "code",
   "execution_count": 1,
   "id": "d7213585",
   "metadata": {},
   "outputs": [],
   "source": [
    "import numpy as np\n",
    "import matplotlib.pyplot as plt\n",
    "from functools import reduce"
   ]
  },
  {
   "cell_type": "code",
   "execution_count": 2,
   "id": "114cb549",
   "metadata": {},
   "outputs": [],
   "source": [
    "########  パラメータ  #############\n",
    "nqubit = 3 ## qubitの数\n",
    "c_depth = 3 ## circuitの深さ\n",
    "time_step = 0.77  ## ランダムハミルトニアンによる時間発展の経過時間\n",
    "\n",
    "## [x_min, x_max]のうち, ランダムにnum_x_train個の点をとって教師データとする.\n",
    "x_min = - 1.; x_max = 1.;\n",
    "num_x_train = 50\n",
    "\n",
    "## 学習したい1変数関数\n",
    "func_to_learn = lambda x: np.sin(x*np.pi)\n",
    "\n",
    "## 乱数のシード\n",
    "random_seed = 0\n",
    "## 乱数発生器の初期化\n",
    "np.random.seed(random_seed)"
   ]
  },
  {
   "cell_type": "code",
   "execution_count": 3,
   "id": "711dadb2",
   "metadata": {},
   "outputs": [
    {
     "data": {
      "image/png": "[encoded data removed]",
      "text/plain": [
       "<Figure size 432x288 with 1 Axes>"
      ]
     },
     "metadata": {
      "needs_background": "light"
     },
     "output_type": "display_data"
    }
   ],
   "source": [
    "#### 教師データを準備\n",
    "x_train = x_min + (x_max - x_min) * np.random.rand(num_x_train)\n",
    "y_train = func_to_learn(x_train)\n",
    "\n",
    "# 現実のデータを用いる場合を想定し、きれいなsin関数にノイズを付加\n",
    "mag_noise = 0.05\n",
    "y_train = y_train + mag_noise * np.random.randn(num_x_train)\n",
    "\n",
    "plt.plot(x_train, y_train, \"o\"); plt.show()"
   ]
  },
  {
   "cell_type": "code",
   "execution_count": 5,
   "id": "c4005f47",
   "metadata": {},
   "outputs": [
    {
     "name": "stdout",
     "output_type": "stream",
     "text": [
      "[1.+0.j 0.+0.j 0.+0.j 0.+0.j 0.+0.j 0.+0.j 0.+0.j 0.+0.j]\n"
     ]
    }
   ],
   "source": [
    "# 初期状態の作成\n",
    "from qulacs import QuantumState, QuantumCircuit\n",
    "\n",
    "state = QuantumState(nqubit) # 初期状態 |000>\n",
    "state.set_zero_state()\n",
    "print(state.get_vector())"
   ]
  },
  {
   "cell_type": "code",
   "execution_count": 6,
   "id": "c885757d",
   "metadata": {},
   "outputs": [],
   "source": [
    "# xをエンコードするゲートを作成する関数\n",
    "def U_in(x):\n",
    "    U = QuantumCircuit(nqubit)\n",
    "\n",
    "    angle_y = np.arcsin(x)\n",
    "    angle_z = np.arccos(x**2)\n",
    "\n",
    "    for i in range(nqubit):\n",
    "        U.add_RY_gate(i, angle_y)\n",
    "        U.add_RZ_gate(i, angle_z)\n",
    "\n",
    "    return U"
   ]
  },
  {
   "cell_type": "code",
   "execution_count": 7,
   "id": "3108199f",
   "metadata": {},
   "outputs": [
    {
     "name": "stdout",
     "output_type": "stream",
     "text": [
      "[-6.93804351e-01+7.14937415e-01j -3.54871219e-02-3.51340074e-02j\n",
      " -3.54871219e-02-3.51340074e-02j  1.77881430e-03-1.76111422e-03j\n",
      " -3.54871219e-02-3.51340074e-02j  1.77881430e-03-1.76111422e-03j\n",
      "  1.77881430e-03-1.76111422e-03j  8.73809020e-05+9.00424970e-05j]\n"
     ]
    }
   ],
   "source": [
    "# 入力状態を試す\n",
    "x = 0.1 # 適当な値\n",
    "U_in(x).update_quantum_state(state) # U_in|000>の計算\n",
    "print(state.get_vector())"
   ]
  },
  {
   "cell_type": "code",
   "execution_count": 8,
   "id": "4ade52cf",
   "metadata": {},
   "outputs": [],
   "source": [
    "## 基本ゲート\n",
    "from qulacs.gate import X, Z\n",
    "I_mat = np.eye(2, dtype=complex)\n",
    "X_mat = X(0).get_matrix()\n",
    "Z_mat = Z(0).get_matrix()"
   ]
  },
  {
   "cell_type": "code",
   "execution_count": 12,
   "id": "e1f39180",
   "metadata": {},
   "outputs": [],
   "source": [
    "## fullsizeのgateをつくる関数.\n",
    "def make_fullgate(list_SiteAndOperator, nqubit):\n",
    "    '''\n",
    "    list_SiteAndOperator = [ [i_0, O_0], [i_1, O_1], ...] を受け取り,\n",
    "    関係ないqubitにIdentityを挿入して\n",
    "    I(0) * ... * O_0(i_0) * ... * O_1(i_1) ...\n",
    "    という(2**nqubit, 2**nqubit)行列をつくる.\n",
    "    '''\n",
    "    list_Site = [SiteAndOperator[0] for SiteAndOperator in list_SiteAndOperator]\n",
    "    list_SingleGates = [] ## 1-qubit gateを並べてnp.kronでreduceする\n",
    "    cnt = 0\n",
    "    for i in range(nqubit):\n",
    "        if (i in list_Site):\n",
    "            list_SingleGates.append( list_SiteAndOperator[cnt][1] )\n",
    "            cnt += 1\n",
    "        else: ## 何もないsiteはidentity\n",
    "            list_SingleGates.append(I_mat)\n",
    "\n",
    "    return reduce(np.kron, list_SingleGates)"
   ]
  },
  {
   "cell_type": "code",
   "execution_count": 14,
   "id": "e91d0cd9",
   "metadata": {},
   "outputs": [],
   "source": [
    "#### ランダム磁場・ランダム結合イジングハミルトニアンをつくって時間発展演算子をつくる\n",
    "ham = np.zeros((2**nqubit,2**nqubit), dtype = complex)\n",
    "for i in range(nqubit): ## i runs 0 to nqubit-1\n",
    "    Jx = -1. + 2.*np.random.rand() ## -1~1の乱数\n",
    "    ham += Jx * make_fullgate( [ [i, X_mat] ], nqubit)\n",
    "    for j in range(i+1, nqubit):\n",
    "        J_ij = -1. + 2.*np.random.rand()\n",
    "        ham += J_ij * make_fullgate ([ [i, Z_mat], [j, Z_mat]], nqubit)\n",
    "\n",
    "## 対角化して時間発展演算子をつくる. H*P = P*D <-> H = P*D*P^dagger\n",
    "diag, eigen_vecs = np.linalg.eigh(ham)\n",
    "time_evol_op = np.dot(np.dot(eigen_vecs, np.diag(np.exp(-1j*time_step*diag))), eigen_vecs.T.conj()) # e^-iHT\n"
   ]
  },
  {
   "cell_type": "code",
   "execution_count": 15,
   "id": "629e4618",
   "metadata": {},
   "outputs": [
    {
     "data": {
      "text/plain": [
       "(8, 8)"
      ]
     },
     "execution_count": 15,
     "metadata": {},
     "output_type": "execute_result"
    }
   ],
   "source": [
    "time_evol_op.shape"
   ]
  },
  {
   "cell_type": "code",
   "execution_count": 16,
   "id": "de2455de",
   "metadata": {},
   "outputs": [],
   "source": [
    "# qulacsのゲートに変換しておく\n",
    "from qulacs.gate import DenseMatrix\n",
    "time_evol_gate = DenseMatrix([i for i in range(nqubit)], time_evol_op)"
   ]
  },
  {
   "cell_type": "code",
   "execution_count": 17,
   "id": "31ca9ebe",
   "metadata": {},
   "outputs": [],
   "source": [
    "from qulacs import ParametricQuantumCircuit"
   ]
  },
  {
   "cell_type": "code",
   "execution_count": 18,
   "id": "83eda5e3",
   "metadata": {},
   "outputs": [],
   "source": [
    "# output用ゲートU_outの組み立て&パラメータ初期値の設定\n",
    "U_out = ParametricQuantumCircuit(nqubit)\n",
    "for d in range(c_depth):\n",
    "    U_out.add_gate(time_evol_gate)\n",
    "    for i in range(nqubit):\n",
    "        angle = 2.0 * np.pi * np.random.rand()\n",
    "        U_out.add_parametric_RX_gate(i,angle)\n",
    "        angle = 2.0 * np.pi * np.random.rand()\n",
    "        U_out.add_parametric_RZ_gate(i,angle)\n",
    "        angle = 2.0 * np.pi * np.random.rand()\n",
    "        U_out.add_parametric_RX_gate(i,angle)"
   ]
  },
  {
   "cell_type": "code",
   "execution_count": 19,
   "id": "ada2054d",
   "metadata": {},
   "outputs": [],
   "source": [
    "# パラメータthetaの初期値のリストを取得しておく\n",
    "parameter_count = U_out.get_parameter_count()\n",
    "theta_init = [U_out.get_parameter(ind) for ind in range(parameter_count)]"
   ]
  },
  {
   "cell_type": "code",
   "execution_count": 21,
   "id": "0615b5e6",
   "metadata": {},
   "outputs": [
    {
     "data": {
      "text/plain": [
       "[4.14799267096281,\n",
       " 1.8226113595664735,\n",
       " 3.88310546309581,\n",
       " 2.6940332019609157,\n",
       " 0.851208649826403,\n",
       " 1.8741631278382846,\n",
       " 3.5811951525261123,\n",
       " 3.7125630518871535,\n",
       " 3.6085919651139333,\n",
       " 4.104181793964002,\n",
       " 4.097285684838374,\n",
       " 2.71068197476515,\n",
       " 5.633168398253273,\n",
       " 2.309459341364396,\n",
       " 2.738620094343915,\n",
       " 5.6041197193647925,\n",
       " 5.065466226710866,\n",
       " 4.4226624059922806,\n",
       " 0.6297441057449945,\n",
       " 5.777279648887616,\n",
       " 4.487710439107831,\n",
       " 6.27594083578753,\n",
       " 0.9390113920100048,\n",
       " 5.454596888435706,\n",
       " 1.0209732196790906,\n",
       " 3.867674810002118,\n",
       " 0.7779838969748393]"
      ]
     },
     "execution_count": 21,
     "metadata": {},
     "output_type": "execute_result"
    }
   ],
   "source": [
    "theta_init"
   ]
  },
  {
   "cell_type": "code",
   "execution_count": 22,
   "id": "7e19b3b0",
   "metadata": {},
   "outputs": [],
   "source": [
    "# パラメータthetaを更新する関数\n",
    "def set_U_out(theta):\n",
    "    global U_out\n",
    "\n",
    "    parameter_count = U_out.get_parameter_count()\n",
    "\n",
    "    for i in range(parameter_count):\n",
    "        U_out.set_parameter(i, theta[i])"
   ]
  },
  {
   "cell_type": "code",
   "execution_count": 23,
   "id": "ad289063",
   "metadata": {},
   "outputs": [],
   "source": [
    "# オブザーバブルZ_0を作成\n",
    "from qulacs import Observable\n",
    "obs = Observable(nqubit)\n",
    "obs.add_operator(2.,'Z 0') # オブザーバブル2 * Zを設定。ここで2を掛けているのは、最終的な<Z>の値域を広げるためである。未知の関数に対応するためには、この定数もパラメータの一つとして最適化する必要がある。\n"
   ]
  },
  {
   "cell_type": "code",
   "execution_count": 24,
   "id": "a4dde15d",
   "metadata": {},
   "outputs": [
    {
     "data": {
      "text/plain": [
       "1.9899748742132415"
      ]
     },
     "execution_count": 24,
     "metadata": {},
     "output_type": "execute_result"
    }
   ],
   "source": [
    "obs.get_expectation_value(state)"
   ]
  },
  {
   "cell_type": "code",
   "execution_count": 25,
   "id": "bee4bdb8",
   "metadata": {},
   "outputs": [],
   "source": [
    "# 入力x_iからモデルの予測値y(x_i, theta)を返す関数\n",
    "def qcl_pred(x, U_out):\n",
    "    state = QuantumState(nqubit)\n",
    "    state.set_zero_state()\n",
    "\n",
    "    # 入力状態計算\n",
    "    U_in(x).update_quantum_state(state)\n",
    "\n",
    "    # 出力状態計算\n",
    "    U_out.update_quantum_state(state)\n",
    "\n",
    "    # モデルの出力\n",
    "    res = obs.get_expectation_value(state)\n",
    "\n",
    "    return res"
   ]
  },
  {
   "cell_type": "code",
   "execution_count": 26,
   "id": "e960d310",
   "metadata": {},
   "outputs": [],
   "source": [
    "# cost function Lを計算\n",
    "def cost_func(theta):\n",
    "    '''\n",
    "    theta: 長さc_depth * nqubit * 3のndarray\n",
    "    '''\n",
    "    # U_outのパラメータthetaを更新\n",
    "#     global U_out\n",
    "    set_U_out(theta)\n",
    "\n",
    "    # num_x_train個のデータについて計算\n",
    "    y_pred = [qcl_pred(x, U_out) for x in x_train]\n",
    "\n",
    "    # quadratic loss\n",
    "    L = ((y_pred - y_train)**2).mean()\n",
    "\n",
    "    return L"
   ]
  },
  {
   "cell_type": "code",
   "execution_count": 27,
   "id": "508ca462",
   "metadata": {},
   "outputs": [
    {
     "data": {
      "text/plain": [
       "0.9836587984138468"
      ]
     },
     "execution_count": 27,
     "metadata": {},
     "output_type": "execute_result"
    }
   ],
   "source": [
    "cost_func(theta_init)"
   ]
  },
  {
   "cell_type": "code",
   "execution_count": 28,
   "id": "7d980b98",
   "metadata": {},
   "outputs": [
    {
     "data": {
      "text/plain": [
       "[<matplotlib.lines.Line2D at 0x7fc4792f4bb0>]"
      ]
     },
     "execution_count": 28,
     "metadata": {},
     "output_type": "execute_result"
    },
    {
     "data": {
      "image/png": "[encoded data removed]",
      "text/plain": [
       "<Figure size 432x288 with 1 Axes>"
      ]
     },
     "metadata": {
      "needs_background": "light"
     },
     "output_type": "display_data"
    }
   ],
   "source": [
    "# パラメータthetaの初期値のもとでのグラフ\n",
    "xlist = np.arange(x_min, x_max, 0.02)\n",
    "y_init = [qcl_pred(x, U_out) for x in xlist]\n",
    "plt.plot(xlist, y_init)"
   ]
  },
  {
   "cell_type": "code",
   "execution_count": 29,
   "id": "a3b7ab59",
   "metadata": {},
   "outputs": [],
   "source": [
    "from scipy.optimize import minimize"
   ]
  },
  {
   "cell_type": "code",
   "execution_count": 30,
   "id": "558b3547",
   "metadata": {},
   "outputs": [
    {
     "name": "stdout",
     "output_type": "stream",
     "text": [
      "CPU times: user 21.2 s, sys: 27.8 s, total: 49 s\n",
      "Wall time: 24.3 s\n"
     ]
    }
   ],
   "source": [
    "%%time\n",
    "# 学習 (筆者のPCで1~2分程度かかる)\n",
    "result = minimize(cost_func, theta_init, method='Nelder-Mead')"
   ]
  },
  {
   "cell_type": "code",
   "execution_count": 31,
   "id": "0f9bf210",
   "metadata": {},
   "outputs": [
    {
     "data": {
      "text/plain": [
       "0.00453737681307341"
      ]
     },
     "execution_count": 31,
     "metadata": {},
     "output_type": "execute_result"
    }
   ],
   "source": [
    "# 最適化後のcost_functionの値\n",
    "result.fun"
   ]
  },
  {
   "cell_type": "code",
   "execution_count": 32,
   "id": "5b187512",
   "metadata": {},
   "outputs": [
    {
     "name": "stdout",
     "output_type": "stream",
     "text": [
      "[4.15751698 2.02621223 3.30070167 2.32668427 0.76167078 1.8876885\n",
      " 2.15329778 3.40754833 3.32184319 5.40668508 3.70350181 3.35363018\n",
      " 5.22428309 2.69743945 1.72092401 6.99441385 3.79363278 4.52128455\n",
      " 0.66806468 3.94537398 4.95000428 5.93611717 1.04453529 7.13208914\n",
      " 1.10401208 3.35638599 1.25833839]\n"
     ]
    }
   ],
   "source": [
    "# 最適化によるthetaの解\n",
    "theta_opt = result.x\n",
    "print(theta_opt)"
   ]
  },
  {
   "cell_type": "code",
   "execution_count": 33,
   "id": "bbc2b404",
   "metadata": {},
   "outputs": [],
   "source": [
    "# U_outに最適化されたthetaを代入\n",
    "set_U_out(theta_opt)"
   ]
  },
  {
   "cell_type": "code",
   "execution_count": 34,
   "id": "bc1a0f7c",
   "metadata": {},
   "outputs": [
    {
     "data": {
      "image/png": "[encoded data removed]",
      "text/plain": [
       "<Figure size 720x432 with 1 Axes>"
      ]
     },
     "metadata": {
      "needs_background": "light"
     },
     "output_type": "display_data"
    }
   ],
   "source": [
    "# プロット\n",
    "plt.figure(figsize=(10, 6))\n",
    "\n",
    "xlist = np.arange(x_min, x_max, 0.02)\n",
    "\n",
    "# 教師データ\n",
    "plt.plot(x_train, y_train, \"o\", label='Teacher')\n",
    "\n",
    "# パラメータθの初期値のもとでのグラフ\n",
    "plt.plot(xlist, y_init, '--', label='Initial Model Prediction', c='gray')\n",
    "\n",
    "# モデルの予測値\n",
    "y_pred = np.array([qcl_pred(x, U_out) for x in xlist])\n",
    "plt.plot(xlist, y_pred, label='Final Model Prediction')\n",
    "\n",
    "plt.legend()\n",
    "plt.show()"
   ]
  },
  {
   "cell_type": "code",
   "execution_count": 38,
   "id": "7c726603",
   "metadata": {},
   "outputs": [
    {
     "data": {
      "text/plain": [
       "array([[1., 0.],\n",
       "       [0., 1.]])"
      ]
     },
     "execution_count": 38,
     "metadata": {},
     "output_type": "execute_result"
    }
   ],
   "source": []
  }
 ],
 "metadata": {
  "kernelspec": {
   "display_name": "Python 3 (ipykernel)",
   "language": "python",
   "name": "python3"
  },
  "language_info": {
   "codemirror_mode": {
    "name": "ipython",
    "version": 3
   },
   "file_extension": ".py",
   "mimetype": "text/x-python",
   "name": "python",
   "nbconvert_exporter": "python",
   "pygments_lexer": "ipython3",
   "version": "3.8.12"
  }
 },
 "nbformat": 4,
 "nbformat_minor": 5
}
