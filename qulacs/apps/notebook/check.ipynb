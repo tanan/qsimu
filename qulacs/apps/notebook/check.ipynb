{
 "cells": [
  {
   "cell_type": "code",
   "execution_count": 93,
   "id": "702320cf",
   "metadata": {},
   "outputs": [
    {
     "name": "stdout",
     "output_type": "stream",
     "text": [
      "The result of a sampling measurement is  7 when displayed in decimal.\n",
      "The result of a sampling measurement is 111 when displayed in binary.\n",
      "The first two qubits are 11.\n"
     ]
    }
   ],
   "source": [
    "import numpy as np\n",
    "from qulacs import QuantumState\n",
    "from qulacs.gate import X\n",
    "\n",
    "n = 3\n",
    "state = QuantumState(n)\n",
    "# x_gate = X(0)\n",
    "# x_gate.update_quantum_state(state)\n",
    "state.set_Haar_random_state()\n",
    "data = state.sampling(1)\n",
    "\n",
    "# 二進数表示\n",
    "# index 0のqubitは一番右に表示される\n",
    "value = format(data[0], \"b\").zfill(n)\n",
    "print(f\"The result of a sampling measurement is  {data[0]} when displayed in decimal.\")\n",
    "print(f\"The result of a sampling measurement is {value} when displayed in binary.\")\n",
    "print(f\"The first two qubits are {value[-2:]}.\")"
   ]
  },
  {
   "cell_type": "code",
   "execution_count": 121,
   "id": "977e4786",
   "metadata": {},
   "outputs": [
    {
     "name": "stdout",
     "output_type": "stream",
     "text": [
      " *** Quantum State ***\n",
      " * Qubit Count : 2\n",
      " * Dimension   : 4\n",
      " * State vector : \n",
      "(-0.306739,-0.182086)\n",
      " (0.112114,-0.457045)\n",
      " (-0.124448,0.179737)\n",
      " (0.266602,-0.729676)\n",
      "\n",
      " *** Quantum State ***\n",
      " * Qubit Count : 2\n",
      " * Dimension   : 4\n",
      " * State vector : \n",
      "(-0.156934,-0.515358)\n",
      "(-0.156934,-0.515358)\n",
      "  (0.114625,-0.44344)\n",
      "  (0.114625,-0.44344)\n",
      "\n"
     ]
    }
   ],
   "source": [
    "# measurement gateの確認\n",
    "#: When we add a measurement gate for a qubit, this qubit is determined a specific state 0 or 1.\n",
    "#: If it is possible to implement swap gate, we can repeate measurement and swap gate alternately.\n",
    "\n",
    "from qulacs.gate import Measurement\n",
    "from qulacs import QuantumCircuit\n",
    "\n",
    "n = 2\n",
    "state = QuantumState(n)\n",
    "state.set_Haar_random_state()\n",
    "print(state)\n",
    "\n",
    "circuit = QuantumCircuit(n)\n",
    "circuit.add_H_gate(0)\n",
    "gate = Measurement(0, 0)\n",
    "circuit.add_gate(gate)\n",
    "circuit.add_H_gate(0)\n",
    "circuit.update_quantum_state(state)\n",
    "\n",
    "print(state)"
   ]
  },
  {
   "cell_type": "code",
   "execution_count": 28,
   "id": "4eaab5f7",
   "metadata": {},
   "outputs": [
    {
     "name": "stdout",
     "output_type": "stream",
     "text": [
      "CAUTION: The 0-th Gate you added is skipped.                    This gate does not have \"target_qubit_list\".\n",
      "CAUTION: The 1-th Gate you added is skipped.                    This gate does not have \"target_qubit_list\".\n",
      "CAUTION: The 6-th Gate you added is skipped.                    This gate does not have \"target_qubit_list\".\n",
      "CAUTION: The 7-th Gate you added is skipped.                    This gate does not have \"target_qubit_list\".\n",
      "CAUTION: The 16-th Gate you added is skipped.                    This gate does not have \"target_qubit_list\".\n",
      "CAUTION: The 17-th Gate you added is skipped.                    This gate does not have \"target_qubit_list\".\n"
     ]
    },
    {
     "data": {
      "image/png": "[encoded data removed]",
      "text/plain": [
       "<PIL.PngImagePlugin.PngImageFile image mode=RGB size=517x335>"
      ]
     },
     "execution_count": 28,
     "metadata": {},
     "output_type": "execute_result"
    }
   ],
   "source": [
    "# swap gateの実装\n",
    "# exp(-i * pi * h_{1, 2n}) = (|00><00| + |11><11|) \\tensor I + (|00><00| + |11><11|) \\tensor Z\n",
    "\n",
    "from qulacs import QuantumState, QuantumCircuit\n",
    "from qulacs.gate import Measurement\n",
    "from qulacsvis import circuit_drawer\n",
    "\n",
    "def add_swap_gate(circuit, control_qubit, target_qubit):\n",
    "    circuit.add_SWAP_gate(control_qubit, target_qubit)\n",
    "    for i in range(control_qubit + 1, target_qubit):\n",
    "        circuit.add_Z_gate(i)\n",
    "\n",
    "    return None\n",
    "\n",
    "n = 8\n",
    "state = QuantumState(n)\n",
    "circuit = QuantumCircuit(n)\n",
    "circuit.add_gate(Measurement(0, 0))\n",
    "circuit.add_gate(Measurement(1, 1))\n",
    "add_swap_gate(circuit, 0, 2)\n",
    "add_swap_gate(circuit, 1, 3)\n",
    "circuit.add_gate(Measurement(0, 0))\n",
    "circuit.add_gate(Measurement(1, 1))\n",
    "add_swap_gate(circuit, 0, 4)\n",
    "add_swap_gate(circuit, 1, 5)\n",
    "circuit.add_gate(Measurement(0, 0))\n",
    "circuit.add_gate(Measurement(1, 1))\n",
    "add_swap_gate(circuit, 0, 6)\n",
    "add_swap_gate(circuit, 1, 7)\n",
    "circuit_drawer(circuit, 'latex')"
   ]
  }
 ],
 "metadata": {
  "kernelspec": {
   "display_name": "Python 3 (ipykernel)",
   "language": "python",
   "name": "python3"
  },
  "language_info": {
   "codemirror_mode": {
    "name": "ipython",
    "version": 3
   },
   "file_extension": ".py",
   "mimetype": "text/x-python",
   "name": "python",
   "nbconvert_exporter": "python",
   "pygments_lexer": "ipython3",
   "version": "3.9.11"
  }
 },
 "nbformat": 4,
 "nbformat_minor": 5
}
