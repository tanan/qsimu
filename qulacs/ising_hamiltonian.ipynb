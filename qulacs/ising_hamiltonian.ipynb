{
 "cells": [
  {
   "cell_type": "code",
   "execution_count": 92,
   "id": "b4f8d328",
   "metadata": {},
   "outputs": [
    {
     "name": "stdout",
     "output_type": "stream",
     "text": [
      "Requirement already satisfied: pymanopt in /Users/toshifumi.anan/.pyenv/versions/anaconda3-2021.05/lib/python3.8/site-packages (0.2.5)\r\n",
      "Requirement already satisfied: scipy in /Users/toshifumi.anan/.pyenv/versions/anaconda3-2021.05/lib/python3.8/site-packages (from pymanopt) (1.7.3)\r\n",
      "Requirement already satisfied: numpy>=1.16 in /Users/toshifumi.anan/.pyenv/versions/anaconda3-2021.05/lib/python3.8/site-packages (from pymanopt) (1.20.3)\r\n"
     ]
    }
   ],
   "source": [
    "import qulacs\n",
    "from openfermion.transforms import get_fermion_operator, jordan_wigner\n",
    "from openfermion.linalg import get_sparse_operator\n",
    "from openfermion.chem import MolecularData, geometry_from_pubchem\n",
    "from openfermionpyscf import run_pyscf\n",
    "from openfermionpsi4 import run_psi4\n",
    "from scipy.optimize import minimize\n",
    "from pyscf import fci\n",
    "import numpy as np\n",
    "# from scipy.linalg import expm\n",
    "from scipy import sparse\n",
    "from scipy.sparse.linalg import expm\n",
    "import random\n",
    "import matplotlib.pyplot as plt\n",
    "!pip install pymanopt\n",
    "from pymanopt.tools.multi import multiexp"
   ]
  },
  {
   "cell_type": "code",
   "execution_count": 93,
   "id": "79565374",
   "metadata": {},
   "outputs": [],
   "source": [
    "from openfermion.ops import QubitOperator\n",
    "\n",
    "jw_hamiltonian = (-0.143021 * QubitOperator('Z0')) + (0.104962 * QubitOperator('Z0 Z1')) + (0.038195 * QubitOperator('Z1 Z2')) + (-0.325651 * QubitOperator('Z2')) + (-0.143021 * QubitOperator('Z3')) + (0.104962 * QubitOperator('Z3 Z4')) + (0.038195 * QubitOperator('Z4 Z5')) + (-0.325651 * QubitOperator('Z5')) + (0.172191 * QubitOperator('Z1')) + (0.174763 * QubitOperator('Z0 Z1 Z2')) + (0.136055 * QubitOperator('Z0 Z2')) + (0.116134 * QubitOperator('Z0 Z3')) + (0.094064 * QubitOperator('Z0 Z3 Z4')) + (0.099152 * QubitOperator('Z0 Z4 Z5')) + (0.123367 * QubitOperator('Z0 Z5')) + (0.094064 * QubitOperator('Z0 Z1 Z3')) + (0.098003 * QubitOperator('Z0 Z1 Z3 Z4')) + (0.102525 * QubitOperator('Z0 Z1 Z4 Z5')) + (0.097795 * QubitOperator('Z0 Z1 Z5')) + (0.099152 * QubitOperator('Z1 Z2 Z3')) + (0.102525 * QubitOperator('Z1 Z2 Z3 Z4')) + (0.112045 * QubitOperator('Z1 Z2 Z4 Z5')) + (0.105708 * QubitOperator('Z1 Z2 Z5')) + (0.123367 * QubitOperator('Z2 Z3')) + (0.097795 * QubitOperator('Z2 Z3 Z4')) + (0.105708 * QubitOperator('Z2 Z4 Z5')) + (0.133557 * QubitOperator('Z2 Z5')) + (0.172191 * QubitOperator('Z4')) + (0.174763 * QubitOperator('Z3 Z4 Z5')) + (0.136055 * QubitOperator('Z3 Z5')) + (0.059110 * QubitOperator('X0 Z1')) + (-0.059110 * QubitOperator('X0')) + (0.161019 * QubitOperator('Z1 X2')) + (-0.161019 * QubitOperator('X2')) + (0.059110 * QubitOperator('X3 Z4')) + (-0.059110 * QubitOperator('X3')) + (0.161019 * QubitOperator('Z4 X5')) + (-0.161019 * QubitOperator('X5')) + (-0.038098 * QubitOperator('X0 X2')) + (-0.003300 * QubitOperator('X0 Z1 X2')) + (0.013745 * QubitOperator('X0 Z1 X3 Z4')) + (-0.013745 * QubitOperator('X0 Z1 X3')) + (-0.013745 * QubitOperator('X0 X3 Z4')) + (0.013745 * QubitOperator('X0 X3')) + (0.011986 * QubitOperator('X0 Z1 Z4 X5')) + (-0.011986 * QubitOperator('X0 Z1 X5')) + (-0.011986 * QubitOperator('X0 Z4 X5')) + (0.011986 * QubitOperator('X0 X5')) + (0.011986 * QubitOperator('Z1 X2 X3 Z4')) + (-0.011986 * QubitOperator('Z1 X2 X3')) + (-0.011986 * QubitOperator('X2 X3 Z4')) + (0.011986 * QubitOperator('X2 X3')) + (0.013836 * QubitOperator('Z1 X2 Z4 X5')) + (-0.013836 * QubitOperator('Z1 X2 X5')) + (-0.013836 * QubitOperator('X2 Z4 X5')) + (0.013836 * QubitOperator('X2 X5')) + (-0.038098 * QubitOperator('X3 X5')) + (-0.003300 * QubitOperator('X3 Z4 X5')) + (-0.002246 * QubitOperator('Z0 Z1 X2')) + (0.002246 * QubitOperator('Z0 X2')) + (0.014815 * QubitOperator('Z0 X3 Z4')) + (-0.014815 * QubitOperator('Z0 X3')) + (0.009922 * QubitOperator('Z0 Z4 X5')) + (-0.009922 * QubitOperator('Z0 X5')) + (-0.002038 * QubitOperator('Z0 Z1 X3 Z4')) + (0.002038 * QubitOperator('Z0 Z1 X3')) + (-0.007016 * QubitOperator('Z0 Z1 Z4 X5')) + (0.007016 * QubitOperator('Z0 Z1 X5')) + (-0.006154 * QubitOperator('X0 Z2')) + (0.006154 * QubitOperator('X0 Z1 Z2')) + (0.014815 * QubitOperator('X0 Z1 Z3')) + (-0.014815 * QubitOperator('X0 Z3')) + (-0.002038 * QubitOperator('X0 Z1 Z3 Z4')) + (0.002038 * QubitOperator('X0 Z3 Z4')) + (0.001124 * QubitOperator('X0 Z1 Z4 Z5')) + (-0.001124 * QubitOperator('X0 Z4 Z5')) + (0.017678 * QubitOperator('X0 Z1 Z5')) + (-0.017678 * QubitOperator('X0 Z5')) + (-0.041398 * QubitOperator('Y0 Y2')) + (0.011583 * QubitOperator('Y0 Y1 X3 X4 Z5')) + (-0.011094 * QubitOperator('Y0 Y1 X4')) + (0.010336 * QubitOperator('Y1 Y2 X3 X4 Z5')) + (-0.005725 * QubitOperator('Y1 Y2 X4')) + (-0.006154 * QubitOperator('X3 Z5')) + (0.011583 * QubitOperator('X0 X1 Z2 X3 X4 Z5')) + (-0.011094 * QubitOperator('X0 X1 Z2 X4')) + (-0.011094 * QubitOperator('X1 X3 X4 Z5')) + (0.026631 * QubitOperator('X1 X4')) + (-0.017678 * QubitOperator('Z2 X3')) + (0.011583 * QubitOperator('X0 X1 Z2 Y3 Y4')) + (0.010336 * QubitOperator('X0 X1 Z2 Y4 Y5')) + (-0.011094 * QubitOperator('X1 Y3 Y4')) + (-0.005725 * QubitOperator('X1 Y4 Y5')) + (-0.041398 * QubitOperator('Y3 Y5')) + (0.011583 * QubitOperator('Y0 Y1 Y3 Y4')) + (0.010336 * QubitOperator('Y0 Y1 Y4 Y5')) + (0.010336 * QubitOperator('Y1 Y2 Y3 Y4')) + (0.010600 * QubitOperator('Y1 Y2 Y4 Y5')) + (0.024909 * QubitOperator('X0 X1 Z2 X3 X4 X5')) + (-0.031035 * QubitOperator('X1 X3 X4 X5')) + (-0.010064 * QubitOperator('Z2 X5')) + (0.024909 * QubitOperator('X0 X1 Z2 Y3 X4 Y5')) + (-0.031035 * QubitOperator('X1 Y3 X4 Y5')) + (0.024909 * QubitOperator('Y0 Y1 X3 X4 X5')) + (0.021494 * QubitOperator('Y1 Y2 X3 X4 X5')) + (0.024909 * QubitOperator('Y0 Y1 Y3 X4 Y5')) + (0.021494 * QubitOperator('Y1 Y2 Y3 X4 Y5')) + (0.011094 * QubitOperator('X0 X1 Z2 Z3 X4 Z5')) + (-0.026631 * QubitOperator('X1 Z3 X4 Z5')) + (0.011094 * QubitOperator('Y0 Y1 Z3 X4 Z5')) + (0.005725 * QubitOperator('Y1 Y2 Z3 X4 Z5')) + (0.010336 * QubitOperator('X0 X1 Z2 Z3 X4 X5')) + (-0.005725 * QubitOperator('X1 Z3 X4 X5')) + (0.002246 * QubitOperator('Z3 X5')) + (0.010336 * QubitOperator('Y0 Y1 Z3 X4 X5')) + (0.010600 * QubitOperator('Y1 Y2 Z3 X4 X5')) + (0.024909 * QubitOperator('X0 X1 X2 X3 X4 Z5')) + (-0.031035 * QubitOperator('X0 X1 X2 X4')) + (-0.010064 * QubitOperator('X2 Z5')) + (0.024909 * QubitOperator('X0 X1 X2 Y3 Y4')) + (0.021494 * QubitOperator('X0 X1 X2 Y4 Y5')) + (0.024909 * QubitOperator('Y0 X1 Y2 X3 X4 Z5')) + (-0.031035 * QubitOperator('Y0 X1 Y2 X4')) + (0.024909 * QubitOperator('Y0 X1 Y2 Y3 Y4')) + (0.021494 * QubitOperator('Y0 X1 Y2 Y4 Y5')) + (0.063207 * QubitOperator('X0 X1 X2 X3 X4 X5')) + (0.063207 * QubitOperator('X0 X1 X2 Y3 X4 Y5')) + (0.063207 * QubitOperator('Y0 X1 Y2 X3 X4 X5')) + (0.063207 * QubitOperator('Y0 X1 Y2 Y3 X4 Y5')) + (0.031035 * QubitOperator('X0 X1 X2 Z3 X4 Z5')) + (-0.009922 * QubitOperator('X2 Z3')) + (0.031035 * QubitOperator('Y0 X1 Y2 Z3 X4 Z5')) + (0.021494 * QubitOperator('X0 X1 X2 Z3 X4 X5')) + (0.021494 * QubitOperator('Y0 X1 Y2 Z3 X4 X5')) + (0.011094 * QubitOperator('Z0 X1 Z2 X3 X4 Z5')) + (-0.026631 * QubitOperator('Z0 X1 Z2 X4')) + (0.011094 * QubitOperator('Z0 X1 Z2 Y3 Y4')) + (0.005725 * QubitOperator('Z0 X1 Z2 Y4 Y5')) + (0.031035 * QubitOperator('Z0 X1 Z2 X3 X4 X5')) + (0.031035 * QubitOperator('Z0 X1 Z2 Y3 X4 Y5')) + (0.026631 * QubitOperator('Z0 X1 Z2 Z3 X4 Z5')) + (0.005725 * QubitOperator('Z0 X1 Z2 Z3 X4 X5')) + (0.010336 * QubitOperator('Z0 X1 X2 X3 X4 Z5')) + (-0.005725 * QubitOperator('Z0 X1 X2 X4')) + (0.010336 * QubitOperator('Z0 X1 X2 Y3 Y4')) + (0.010600 * QubitOperator('Z0 X1 X2 Y4 Y5')) + (0.021494 * QubitOperator('Z0 X1 X2 X3 X4 X5')) + (0.021494 * QubitOperator('Z0 X1 X2 Y3 X4 Y5')) + (0.005725 * QubitOperator('Z0 X1 X2 Z3 X4 Z5')) + (0.010600 * QubitOperator('Z0 X1 X2 Z3 X4 X5')) + (0.001124 * QubitOperator('Z1 Z2 X3 Z4')) + (-0.001124 * QubitOperator('Z1 Z2 X3')) + (-0.007952 * QubitOperator('Z1 Z2 Z4 X5')) + (0.007952 * QubitOperator('Z1 Z2 X5')) + (0.017678 * QubitOperator('Z2 X3 Z4')) + (0.010064 * QubitOperator('Z2 Z4 X5')) + (0.009922 * QubitOperator('Z1 X2 Z3')) + (-0.007016 * QubitOperator('Z1 X2 Z3 Z4')) + (0.007016 * QubitOperator('X2 Z3 Z4')) + (-0.007952 * QubitOperator('Z1 X2 Z4 Z5')) + (0.007952 * QubitOperator('X2 Z4 Z5')) + (0.010064 * QubitOperator('Z1 X2 Z5')) + (-0.002246 * QubitOperator('Z3 Z4 X5')) + (0.006154 * QubitOperator('X3 Z4 Z5'))\n",
    "n_qubit = 6\n",
    "\n",
    "from qulacs import Observable\n",
    "from qulacs.observable import create_observable_from_openfermion_text\n",
    "qulacs_hamiltonian = create_observable_from_openfermion_text(str(jw_hamiltonian))"
   ]
  },
  {
   "cell_type": "code",
   "execution_count": 94,
   "id": "c73f3051",
   "metadata": {},
   "outputs": [],
   "source": [
    "from qulacs import QuantumState, QuantumCircuit\n",
    "from qulacs.gate import CNOT, CZ, RY, RZ, merge\n",
    "\n",
    "depth = n_qubit * 2\n",
    "cn = [1] * n_qubit\n",
    "r = 0\n",
    "bn = [0.1] * n_qubit\n",
    "gate_set = 4"
   ]
  },
  {
   "cell_type": "code",
   "execution_count": 95,
   "id": "310b615c",
   "metadata": {},
   "outputs": [],
   "source": [
    "from qulacs.gate import DenseMatrix\n",
    "def create_hamiltonian_time_evolution_gate(n_qubit, cn, gamma, Bn, t):\n",
    "    I_gate = [[1,0],[0,1]]\n",
    "    X_gate = [[0,1],[1,0]]\n",
    "    Y_gate = [[0,0-1j],[0+1j,0]]\n",
    "    Z_gate = [[1,0],[0,-1]]\n",
    "    \n",
    "    XX= np.array(np.zeros(2**n_qubit))\n",
    "    YY= np.array(np.zeros(2**n_qubit))\n",
    "    Zn= np.array(np.zeros(2**n_qubit))\n",
    "    for k in range(n_qubit-1):\n",
    "        for l in range(n_qubit):\n",
    "            if k==l:\n",
    "                if l==0:\n",
    "                    hamiX = X_gate\n",
    "                    hamiY = Y_gate\n",
    "                else:\n",
    "                    hamiX = np.kron(hamiX,X_gate)\n",
    "                    hamiY = np.kron(hamiY,Y_gate)\n",
    "\n",
    "            elif k+1==l:\n",
    "                hamiX = np.kron(hamiX,X_gate)\n",
    "                hamiY = np.kron(hamiY,Y_gate)\n",
    "            else:\n",
    "                if l==0:\n",
    "                    hamiX = I_gate\n",
    "                    hamiY = I_gate\n",
    "                else:\n",
    "                    hamiX = np.kron(hamiX,I_gate)\n",
    "                    hamiY = np.kron(hamiY,I_gate)\n",
    "        XX = XX+ 0.5*cn[k]*(1+gamma)*hamiX\n",
    "        YY = YY+ 0.5*cn[k]*(1-gamma)*hamiY\n",
    "        \n",
    "    for m in range(n_qubit):\n",
    "        for n in range(n_qubit):\n",
    "            if m==n:\n",
    "                if n==0:\n",
    "                    hamiZ = Z_gate\n",
    "                else:\n",
    "                    hamiZ = np.kron(hamiZ,Z_gate)\n",
    "            \n",
    "            else:\n",
    "                if n==0:\n",
    "                    hamiZ = I_gate\n",
    "                else:\n",
    "                    hamiZ = np.kron(hamiZ,I_gate)\n",
    "        \n",
    "        Zn = Zn + Bn[m]*hamiZ\n",
    "\n",
    "    hamiltonian = XX + YY + Zn\n",
    "    \n",
    "    ## to sparse\n",
    "    hamiltonian_sparse = sparse.csr_matrix(hamiltonian)\n",
    "    np.set_printoptions(threshold=10000)\n",
    "    hami_gate = expm(-1j*hamiltonian_sparse*t)\n",
    "\n",
    "#### try and error\n",
    "#1. 対角化してからexp(-iHt)を計算\n",
    "#2. 5qubitに作用するハミルトニアンにしてみる  => 成功\n",
    "#3. 6qubitに作用するハミルトニアンにしてみる  => 急激に値が小さくなり失敗。\n",
    "#     scipyのexpmの実装がcomplexが値にあるとどうもおかしくなるよう。\n",
    "#     参考?： https://stackoverflow.com/questions/35486239/matrix-exponentiation-in-python\n",
    "#4.  sparse matrixのオブジェクトに変換。その後sparse.expmを計算 => 成功?\n",
    "#      保持する要素数が減ったことが良かった？\n",
    "\n",
    "#     from pymanopt.tools.multi import multiexp\n",
    "#     hami_gate = multiexp(-1j*np.diag(np.diag(hamiltonian))*t, sym=True)\n",
    "#     print(-1j*np.diag(np.diag(hamiltonian))*t)\n",
    "#     print(multiexp(-1j*np.diag(np.diag(hamiltonian))*t, sym=True))\n",
    "#     import numpy.linalg as LA\n",
    "#     print(hami_gate.toarray())\n",
    "    \n",
    "    return DenseMatrix(list(range(n_qubit)), hami_gate.toarray())"
   ]
  },
  {
   "cell_type": "code",
   "execution_count": 96,
   "id": "1f3b6205",
   "metadata": {},
   "outputs": [],
   "source": [
    "def create_ising_hamiltonian_time_evolution_gate(n_qubit, cn, gamma, Bn, t):\n",
    "    I_gate = [[1,0],[0,1]]\n",
    "    X_gate = [[0,1],[1,0]]\n",
    "    Y_gate = [[0,0-1j],[0+1j,0]]\n",
    "    \n",
    "    XX= np.array(np.zeros(2**n_qubit))\n",
    "    Y= np.array(np.zeros(2**n_qubit))\n",
    "    for k in range(n_qubit-1):\n",
    "        for l in range(n_qubit):\n",
    "            if k==l:\n",
    "                if l==0:\n",
    "                    hamiX = X_gate\n",
    "                else:\n",
    "                    hamiX = np.kron(hamiX,X_gate)\n",
    "\n",
    "            elif k+1==l:\n",
    "                hamiX = np.kron(hamiX,X_gate)\n",
    "            else:\n",
    "                if l==0:\n",
    "                    hamiX = I_gate\n",
    "                else:\n",
    "                    hamiX = np.kron(hamiX,I_gate)\n",
    "        XX = XX+ 0.5*cn[k]*(1+gamma)*hamiX\n",
    "        \n",
    "    for m in range(n_qubit):\n",
    "        for n in range(n_qubit):\n",
    "            if m==n:\n",
    "                if n==0:\n",
    "                    hamiY = Y_gate\n",
    "                else:\n",
    "                    hamiY = np.kron(hamiY,Y_gate)\n",
    "            \n",
    "            else:\n",
    "                if n==0:\n",
    "                    hamiY = I_gate\n",
    "                else:\n",
    "                    hamiY = np.kron(hamiY,I_gate)\n",
    "        \n",
    "        Y = Y + hamiY\n",
    "\n",
    "    hamiltonian = XX + Y\n",
    "    hami_gate = expm(-1j*hamiltonian*t)\n",
    "    \n",
    "    return DenseMatrix(list(range(n_qubit)), hami_gate)"
   ]
  },
  {
   "cell_type": "code",
   "execution_count": 97,
   "id": "ec6b4b95",
   "metadata": {},
   "outputs": [],
   "source": [
    "# def ansatz_circuit(n_qubit, depth, theta_list):\n",
    "#     circuit = QuantumCircuit(n_qubit)\n",
    "#     for d in range(depth):\n",
    "#         for i in range(n_qubit):\n",
    "#             circuit.add_gate(merge(RY(i, theta_list[2*i+2*n_qubit*d]), RZ(i, theta_list[2*i+1+2*n_qubit*d])))\n",
    "#         for i in range(n_qubit//2):\n",
    "#             circuit.add_gate(CZ(2*i, 2*i+1))\n",
    "#         for i in range(n_qubit//2-1):\n",
    "#             circuit.add_gate(CZ(2*i+1, 2*i+2))\n",
    "#     for i in range(n_qubit):\n",
    "#         circuit.add_gate(merge(RY(i, theta_list[2*i+2*n_qubit*depth]), RZ(i, theta_list[2*i+1+2*n_qubit*depth])))\n",
    "\n",
    "#     return circuit\n",
    "\n",
    "\n",
    "#### ansatz of XY model\n",
    "def ansatz_circuit(n_qubit, depth, theta_list):\n",
    "    circuit = QuantumCircuit(n_qubit)\n",
    "    for d in range(depth):\n",
    "        circuit.add_gate(CNOT(0, 1))\n",
    "        circuit.add_gate(merge(RY(0, theta_list[gate_set*d+1]), RZ(0, theta_list[gate_set*d+2])))\n",
    "        circuit.add_gate(merge(RY(1, theta_list[gate_set*d+3]), RZ(1, theta_list[gate_set*d+4])))\n",
    "        circuit.add_gate(create_hamiltonian_time_evolution_gate(n_qubit, cn, r, bn, theta_list[0]))\n",
    "\n",
    "    return circuit\n",
    "\n",
    "##### ansatz of transversal ising model\n",
    "# def ansatz_circuit(n_qubit, depth, theta_list):\n",
    "#     circuit = QuantumCircuit(n_qubit)\n",
    "#     for d in range(depth):\n",
    "#         circuit.add_gate(CNOT(0, 1))\n",
    "#         circuit.add_gate(merge(RY(0, theta_list[gate_set*d+1]), RZ(0, theta_list[gate_set*d+2])))\n",
    "#         circuit.add_gate(merge(RY(1, theta_list[gate_set*d+3]), RZ(1, theta_list[gate_set*d+4])))\n",
    "#         circuit.add_gate(create_ising_hamiltonian_time_evolution_gate(n_qubit, cn, r, bn, 1))\n",
    "\n",
    "#     return circuit"
   ]
  },
  {
   "cell_type": "code",
   "execution_count": 98,
   "id": "4a1f226e",
   "metadata": {},
   "outputs": [],
   "source": [
    "def cost(theta_list):\n",
    "    state = QuantumState(n_qubit) #|00000> を準備\n",
    "    circuit = ansatz_circuit(n_qubit, depth, theta_list) #量子回路を構成\n",
    "    circuit.update_quantum_state(state) #量子回路を状態に作用\n",
    "    return qulacs_hamiltonian.get_expectation_value(state) #ハミルトニアンの期待値を計算"
   ]
  },
  {
   "cell_type": "code",
   "execution_count": 99,
   "id": "5077ce56",
   "metadata": {},
   "outputs": [
    {
     "name": "stdout",
     "output_type": "stream",
     "text": [
      "[0.7645305728672148, -0.5316470448013927, -1.0653398647235337, -1.423853868662241, -1.7351657809304672, -1.8728075459906082, -1.903976710920004, -1.9156962792622494, -1.921035464800888, -1.923318953293036, -1.9257884394303186, -1.9267762846188388, -1.9270041850250093, -1.927073780541254, -1.9271762388214786, -1.9272510716004452, -1.9273251493801653, -1.9274076132119984, -1.927475789848724, -1.9275158110060695, -1.9275696003150065, -1.9276482063564664, -1.927677006893235, -1.9277274719449402, -1.9277973629742409, -1.927853642101686, -1.9279210787188723, -1.9279948119828032, -1.9280872228984, -1.9281254399372263, -1.9281847889516983, -1.9282542341326052, -1.9283166652734607, -1.9284210641021484, -1.92852989242194, -1.9285559399040442, -1.9286041571131032, -1.9286891338577585, -1.9287320162109416, -1.9288061925469102, -1.928901584202297, -1.9289314044516719, -1.9289740733873952, -1.928995434151203, -1.9290324360612179, -1.9290850715074552, -1.9291094489878817, -1.9291210404438672, -1.9291396389239637, -1.929166519368072, -1.9291913043603415, -1.9292255843832251, -1.9292437281887496, -1.929265388996222, -1.929290088107406, -1.929302663809724, -1.9293191139587258, -1.9293275319249332, -1.9293365382168963, -1.9293460972178447, -1.929355302856458, -1.9293592415531804, -1.929365341133736, -1.92937149714831, -1.9293746062852875, -1.9293764660144808, -1.9293774206576475, -1.9293785321373744, -1.9293797691245111, -1.9293812565583426, -1.9293818165059082, -1.9293828435721552, -1.9293846112408584, -1.9293870009586427, -1.9293893157306998, -1.9293905750152973, -1.9293923356913885, -1.9293928894133956, -1.9293934830581907, -1.9293937848327911, -1.9293942658201835, -1.9293946285148054, -1.9293951123205446, -1.9293956640215433, -1.9293961531341044, -1.929396776722692, -1.9293969732241036, -1.9293970775006801, -1.9293971461091775, -1.9293972316622636, -1.9293973692671458, -1.9293975689463314, -1.9293976327208815, -1.9293977385347534, -1.9293978528342868, -1.9293978836601229, -1.9293979407643977, -1.9293980039270981, -1.9293981208512585, -1.9293983042486806, -1.9293985601635957, -1.9293986839734791, -1.9293988326675358, -1.9293990351762178, -1.9293991408534974, -1.929399309358409, -1.9293994202425582, -1.9293995912814341, -1.929399655340541, -1.9293997193013768, -1.929399728187367, -1.9293997450381417, -1.9293997753848278, -1.929399818470508, -1.9293998846484823, -1.9293999662451229, -1.9294000678789305, -1.9294001934426284, -1.9294002420234742, -1.9294002584295225, -1.9294002820715812, -1.929400320359496, -1.9294003780293205, -1.9294004066582688, -1.929400445371682]\n"
     ]
    }
   ],
   "source": [
    "cost_history = []\n",
    "t = np.array([random.uniform(0.0,10.0)])\n",
    "init_random_list = np.append(t, np.random.random(2*n_qubit*(depth+1))*1e-1)\n",
    "# init_random_list = np.random.random(2*n_qubit*(depth+1))*1e-1\n",
    "cost_history.append(cost(init_random_list))\n",
    "method = \"BFGS\"\n",
    "options = {\"disp\": True, \"maxiter\": 50, \"gtol\": 1e-600}\n",
    "opt = minimize(cost, init_random_list,\n",
    "               method=method,\n",
    "               callback=lambda x: cost_history.append(cost(x)))\n",
    "print(cost_history)"
   ]
  },
  {
   "cell_type": "code",
   "execution_count": 100,
   "id": "9c2ea7aa",
   "metadata": {
    "scrolled": true
   },
   "outputs": [
    {
     "data": {
      "image/png": "[encoded data removed]",
      "text/plain": [
       "<Figure size 432x288 with 1 Axes>"
      ]
     },
     "metadata": {
      "needs_background": "light"
     },
     "output_type": "display_data"
    }
   ],
   "source": [
    "plt.rcParams[\"font.size\"] = 18\n",
    "plt.plot(cost_history, color=\"red\", label=\"VQE\")\n",
    "# plt.plot(range(len(cost_history)), [molecule.fci_energy]*len(cost_history), linestyle=\"dashed\", color=\"black\", label=\"Exact Solution\")\n",
    "plt.xlabel(\"Iteration\")\n",
    "plt.ylabel(\"Energy expectation value\")\n",
    "plt.legend()\n",
    "plt.show()"
   ]
  },
  {
   "cell_type": "code",
   "execution_count": 51,
   "id": "c613066b",
   "metadata": {},
   "outputs": [
    {
     "name": "stdout",
     "output_type": "stream",
     "text": [
      "[[1.80331266+0.j 0.54272082+0.j]\n",
      " [0.54272082+0.j 0.71787102+0.j]]\n"
     ]
    }
   ],
   "source": [
    "A = np.array([[0.5+0.j,0.5+0.j],[0.5+0.j,-0.5+0.j]])\n",
    "from scipy.sparse.linalg import expm as e\n",
    "Aexp = expm(A)\n",
    "# hami_gate = expm(-1j*A*1.0)\n",
    "print(Aexp)"
   ]
  }
 ],
 "metadata": {
  "kernelspec": {
   "display_name": "Python 3 (ipykernel)",
   "language": "python",
   "name": "python3"
  },
  "language_info": {
   "codemirror_mode": {
    "name": "ipython",
    "version": 3
   },
   "file_extension": ".py",
   "mimetype": "text/x-python",
   "name": "python",
   "nbconvert_exporter": "python",
   "pygments_lexer": "ipython3",
   "version": "3.8.12"
  }
 },
 "nbformat": 4,
 "nbformat_minor": 5
}
