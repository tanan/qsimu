{
 "cells": [
  {
   "cell_type": "code",
   "execution_count": 53,
   "id": "822b289e",
   "metadata": {},
   "outputs": [],
   "source": [
    "import numpy as np\n",
    "from scipy.linalg import expm\n",
    "import numpy.linalg as LA\n",
    "import random\n",
    "\n",
    "from qiskit import QuantumCircuit\n",
    "from qiskit import Aer, transpile,execute\n",
    "from qiskit.quantum_info import random_pauli, state_fidelity, diamond_norm, Choi\n",
    "from qiskit.quantum_info.operators import Operator, Pauli\n",
    "from qiskit.tools.visualization import plot_histogram, plot_state_city\n",
    "\n",
    "def create_hamiltonian(Nq, cn, gamma, Bn):\n",
    "    '''\n",
    "    create Hamiltonian gate\n",
    "    target Hamiltonian is H=1/2*cn((1+gamma)XX+(1-gamma)YY)+BnZn\n",
    "    Nq -> number of qubit\n",
    "    cn -> coupling constant\n",
    "    gamma -> parameter\n",
    "    Bn -> Magnetic field\n",
    "    '''\n",
    "    \n",
    "    XX= np.array(np.zeros(2**Nq))\n",
    "    YY= np.array(np.zeros(2**Nq))\n",
    "    Zn= np.array(np.zeros(2**Nq))\n",
    "    Identity = 'I' * Nq\n",
    "    hamiltonian = np.array(np.zeros(2**Nq))\n",
    "    \n",
    "    for k in range(0, Nq):\n",
    "        '''\n",
    "        隣あうqubitのみ相互作用するようなモデルを考える\n",
    "        0 1 2 ... k-1 X X k+2 ... N-1\n",
    "        0 1 2 ... k-1 Y Y k+2 ... N-1\n",
    "        '''\n",
    "        \n",
    "        # 端まで計算したらスキップ\n",
    "        if k == Nq-1:\n",
    "            continue\n",
    "\n",
    "        hamiX = Pauli(Identity[:k] + 'XX' + Identity[k+2:])\n",
    "        hamiY = Pauli(Identity[:k] + 'YY' + Identity[k+2:])\n",
    "\n",
    "        XX = XX + 0.5*cn[k]*(1+gamma)*hamiX.to_matrix()\n",
    "        YY = YY + 0.5*cn[k]*(1-gamma)*hamiY.to_matrix()\n",
    "\n",
    "    for k in range(0, Nq):\n",
    "        hamiZ = Pauli(Identity[:k] + 'Z' + Identity[k+1:])\n",
    "        Zn = Zn + Bn[k] * hamiZ.to_matrix()\n",
    "    \n",
    "    return XX + YY + Zn\n",
    "        "
   ]
  },
  {
   "cell_type": "code",
   "execution_count": 57,
   "id": "7a83f43e",
   "metadata": {},
   "outputs": [],
   "source": [
    "def create_choi(t_list, q, cn, r, bn, direct=True):\n",
    "    '''\n",
    "    loop -> loop count\n",
    "    q -> number of qubit\n",
    "    cn -> coupling constant\n",
    "    r -> gamma parameter\n",
    "    bn -> magnetic field\n",
    "    direct -> direct or indirect control\n",
    "    '''\n",
    "    \n",
    "    qc = QuantumCircuit(q)\n",
    "    random.shuffle(t_list)\n",
    "    for t in t_list:\n",
    "        # Hamiltonianの時間発展を計算\n",
    "        hami = expm(-1j*create_hamiltonian(q,cn,r,bn)*t)\n",
    "        qc.append(Operator(hami),list(range(q)))\n",
    "\n",
    "#         各bitに独立な確率でPauliゲートを追加\n",
    "        if direct:\n",
    "            qc.append(random_pauli(1), [random.randint(0,q-1)])\n",
    "        else:\n",
    "            qc.append(random_pauli(1), [random.randint(0,1)])\n",
    "\n",
    "    return Choi(qc).data"
   ]
  },
  {
   "cell_type": "code",
   "execution_count": 61,
   "id": "2ec6cc49",
   "metadata": {},
   "outputs": [],
   "source": [
    "import datetime\n",
    "\n",
    "# totalの時間は一定で、各tは決められた範囲でランダムにとる\n",
    "# gate数60,　time: 0.005 ~ 0.5 (sum: 10)\n",
    "t_direct = [0.005, 0.005, 0.005, 0.005, 0.005, 0.015, 0.015, 0.015, 0.015, 0.015, 0.05, 0.05, 0.1, 0.1, 0.1, 0.1, 0.1, 0.1, 0.1, 0.1, 0.1, 0.1, 0.1, 0.1, 0.1, 0.15, 0.15, 0.15, 0.15, 0.15, 0.15, 0.15, 0.15, 0.15, 0.15, 0.2, 0.2, 0.2, 0.2, 0.2, 0.2, 0.2, 0.2, 0.2, 0.2, 0.25, 0.25, 0.25, 0.25, 0.25, 0.25, 0.25, 0.25, 0.25, 0.25, 0.5, 0.5, 0.5, 0.5, 0.5]\n",
    "# gate数100,　time: 0.01 ~ 0.4 (sum: 10)\n",
    "t_indirect = [0.01, 0.01, 0.01, 0.01, 0.01, 0.01, 0.01, 0.01, 0.01, 0.01, 0.01, 0.01, 0.01, 0.01, 0.01, 0.01, 0.01, 0.01, 0.01, 0.01, 0.05, 0.05, 0.05, 0.05, 0.05, 0.05, 0.05, 0.05, 0.05, 0.05, 0.05, 0.05, 0.05, 0.05, 0.05, 0.05, 0.05, 0.05, 0.05, 0.05, 0.1, 0.1, 0.1, 0.1, 0.1, 0.1, 0.1, 0.1, 0.1, 0.1, 0.1, 0.1, 0.1, 0.1, 0.1, 0.1, 0.1, 0.1, 0.1, 0.1, 0.1, 0.1, 0.1, 0.1, 0.1, 0.1, 0.1, 0.1, 0.1, 0.1, 0.1, 0.1, 0.1, 0.1, 0.15, 0.15, 0.15, 0.15, 0.15, 0.15, 0.15, 0.15, 0.15, 0.15, 0.15, 0.2, 0.2, 0.2, 0.2, 0.2, 0.2, 0.2, 0.2, 0.2, 0.2, 0.25, 0.3, 0.4, 0.4, 0.4]\n",
    "\n",
    "def run():\n",
    "    qubit = 4\n",
    "    cn = [1] * qubit #[1,1,1,1,1]\n",
    "    r = 0\n",
    "    bn = [0] * qubit #[0,0,0,0,0]\n",
    "\n",
    "    choi_qubit = 2 * qubit\n",
    "    choi_direct = np.array(np.zeros(2**choi_qubit))\n",
    "    choi_indirect = np.array(np.zeros(2**choi_qubit))\n",
    "\n",
    "    loop = 10\n",
    "    for i in range(0, loop):\n",
    "        print(datetime.datetime.now())\n",
    "        choi_direct = choi_direct + create_choi(t_direct, qubit, cn, r, bn, True)\n",
    "        choi_indirect = choi_indirect + create_choi(t_indirect, qubit, cn, r, bn, False)\n",
    "\n",
    "    eps = (choi_direct - choi_indirect) / loop\n",
    "    print(diamond_norm(Choi(eps)))\n"
   ]
  },
  {
   "cell_type": "code",
   "execution_count": 62,
   "id": "bde900c6",
   "metadata": {},
   "outputs": [
    {
     "name": "stdout",
     "output_type": "stream",
     "text": [
      "2021-12-24 13:55:16.057575\n",
      "2021-12-24 13:55:22.464167\n",
      "2021-12-24 13:55:29.114758\n",
      "2021-12-24 13:55:35.549981\n",
      "2021-12-24 13:55:41.981897\n",
      "2021-12-24 13:55:48.346551\n",
      "2021-12-24 13:55:54.741175\n",
      "2021-12-24 13:56:01.078884\n",
      "2021-12-24 13:56:07.418743\n",
      "2021-12-24 13:56:13.918359\n",
      "1.9999818947726586\n"
     ]
    }
   ],
   "source": [
    "run()"
   ]
  },
  {
   "cell_type": "code",
   "execution_count": null,
   "id": "11da3b43",
   "metadata": {},
   "outputs": [],
   "source": []
  }
 ],
 "metadata": {
  "kernelspec": {
   "display_name": "Python 3",
   "language": "python",
   "name": "python3"
  },
  "language_info": {
   "codemirror_mode": {
    "name": "ipython",
    "version": 3
   },
   "file_extension": ".py",
   "mimetype": "text/x-python",
   "name": "python",
   "nbconvert_exporter": "python",
   "pygments_lexer": "ipython3",
   "version": "3.8.8"
  }
 },
 "nbformat": 4,
 "nbformat_minor": 5
}
